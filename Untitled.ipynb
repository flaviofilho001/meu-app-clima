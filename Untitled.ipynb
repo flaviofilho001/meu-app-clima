{
 "cells": [
  {
   "cell_type": "code",
   "execution_count": 67,
   "id": "e4b70bf0-675e-4191-9ffc-0f2475382784",
   "metadata": {},
   "outputs": [],
   "source": [
    "import requests\n",
    "import json\n",
    "import csv\n",
    "from datetime import datetime"
   ]
  },
  {
   "cell_type": "code",
   "execution_count": null,
   "id": "53b7bf5d-3e04-49b2-b2e4-cf1e2a7fe2d1",
   "metadata": {},
   "outputs": [],
   "source": [
    "\n",
    "\n",
    "# Lista de capitais brasileiras com latitude e longitude aproximadas\n",
    "capitais = {\n",
    "    \"Rio Branco\": (-9.97499, -67.8243),\n",
    "    \"Maceió\": (-9.66599, -35.7350),\n",
    "    \"Macapá\": (0.034934, -51.0694),\n",
    "    \"Manaus\": (-3.11903, -60.0217),\n",
    "    \"Salvador\": (-12.9718, -38.5011),\n",
    "    \"Fortaleza\": (-3.71722, -38.5431),\n",
    "    \"Brasília\": (-15.7797, -47.9297),\n",
    "    \"Vitória\": (-20.3155, -40.3128),\n",
    "    \"Goiânia\": (-16.6864, -49.2643),\n",
    "    \"São Luís\": (-2.52972, -44.3028),\n",
    "    \"Cuiabá\": (-15.5989, -56.0949),\n",
    "    \"Campo Grande\": (-20.4428, -54.6464),\n",
    "    \"Belo Horizonte\": (-19.9167, -43.9345),\n",
    "    \"Belém\": (-1.45502, -48.5024),\n",
    "    \"João Pessoa\": (-7.11509, -34.8641),\n",
    "    \"Curitiba\": (-25.4284, -49.2733),\n",
    "    \"Recife\": (-8.04756, -34.8770),\n",
    "    \"Teresina\": (-5.08921, -42.8016),\n",
    "    \"Rio de Janeiro\": (-22.9068, -43.1729),\n",
    "    \"Natal\": (-5.79448, -35.2110),\n",
    "    \"Porto Alegre\": (-30.0318, -51.2065),\n",
    "    \"Porto Velho\": (-8.76077, -63.8999),\n",
    "    \"Boa Vista\": (2.81972, -60.6733),\n",
    "    \"Florianópolis\": (-27.5954, -48.5480),\n",
    "    \"São Paulo\": (-23.5505, -46.6333),\n",
    "    \"Aracaju\": (-10.9472, -37.0731),\n",
    "    \"Palmas\": (-10.1849, -48.3337)\n",
    "}\n",
    "\n",
    "# Parâmetros que queremos\n",
    "parameters = \"PRECTOT,WS2M,RH2M,T2M,T2M_MAX,T2M_MIN\"\n",
    "\n",
    "# Período de coleta (últimos dias, por exemplo setembro de 2023)\n",
    "start_date = \"20050929\"\n",
    "end_date = \"20250930\"\n",
    "\n",
    "# Arquivos de saída\n",
    "json_file = \"dados_capitais.json\"\n",
    "csv_file = \"dados_capitais.csv\"\n",
    "\n",
    "# Dicionário para salvar os dados\n",
    "dados = {}\n",
    "\n",
    "# Loop pelas capitais\n",
    "for cidade, (lat, lon) in capitais.items():\n",
    "    url = (\n",
    "        f\"https://power.larc.nasa.gov/api/temporal/daily/point?\"\n",
    "        f\"start={start_date}&end={end_date}&latitude={lat}&longitude={lon}\"\n",
    "        f\"&community=ag&parameters={parameters}&format=JSON&units=metric\"\n",
    "    )\n",
    "\n",
    "    response = requests.get(url, timeout=30).json()\n",
    "\n",
    "    # Extrai os dados do JSON\n",
    "    valores = response[\"properties\"][\"parameter\"]\n",
    "\n",
    "    # Converte velocidade do vento de m/s para km/h\n",
    "    ws_kmh = {dia: v * 3.6 for dia, v in valores[\"WS2M\"].items()}\n",
    "\n",
    "    dados[cidade] = {\n",
    "        \"latitude\": lat,\n",
    "        \"longitude\": lon,\n",
    "        \"temperatura\": valores[\"T2M\"],\n",
    "        \"temp_max\": valores[\"T2M_MAX\"],\n",
    "        \"temp_min\": valores[\"T2M_MIN\"],\n",
    "        \"umidade\": valores[\"RH2M\"],\n",
    "        \"precipitacao\": valores[\"PRECTOTCORR\"],\n",
    "        \"vento_kmh\": ws_kmh\n",
    "    }\n",
    "\n",
    "# Salva em JSON\n",
    "with open(json_file, \"w\", encoding=\"utf-8\") as f:\n",
    "    json.dump(dados, f, indent=4, ensure_ascii=False)\n",
    "\n",
    "# Salva em CSV \n",
    "with open(csv_file, \"w\", newline=\"\", encoding=\"utf-8\") as f:\n",
    "    writer = csv.writer(f)\n",
    "    writer.writerow([\"Cidade\", \"Latitude\", \"Longitude\", \"Data\",\n",
    "                     \"Temp Média (°C)\", \"Temp Máx (°C)\", \"Temp Mín (°C)\", \n",
    "                     \"Umidade (%)\", \"Precipitação (mm)\", \"Vento (km/h)\"])\n",
    "\n",
    "    for cidade, info in dados.items():\n",
    "        # percorre as datas disponíveis (pegando de temperatura como referência)\n",
    "        for data in info[\"temperatura\"].keys():\n",
    "            temp_media = info[\"temperatura\"][data]\n",
    "            temp_max = info[\"temp_max\"][data]\n",
    "            temp_min = info[\"temp_min\"][data]\n",
    "            umidade = info[\"umidade\"][data]\n",
    "            chuva = info[\"precipitacao\"].get(data, 0)   # usa .get p/ evitar erro caso falte dado\n",
    "            vento = info[\"vento_kmh\"][data]\n",
    "\n",
    "            writer.writerow([cidade, info[\"latitude\"], info[\"longitude\"], data,\n",
    "                             round(temp_media,2), round(temp_max,2), round(temp_min,2),\n",
    "                             round(umidade,2), round(chuva,2), round(vento,2)])\n",
    "\n",
    "\n",
    "print(\"✅ Dados salvos em JSON e CSV!\")\n"
   ]
  },
  {
   "cell_type": "code",
   "execution_count": 68,
   "id": "e9fff290-8922-4426-b949-6db26f79ba79",
   "metadata": {},
   "outputs": [],
   "source": [
    "import pandas as pd\n",
    "import numpy as np\n",
    "import plotly.express as px\n",
    "import plotly.graph_objects as go\n",
    "from sklearn.model_selection import train_test_split\n",
    "from sklearn.linear_model import LinearRegression\n",
    "from sklearn.preprocessing import StandardScaler\n",
    "from sklearn.metrics import mean_squared_error, r2_score\n",
    "import warnings\n",
    "warnings.filterwarnings('ignore')"
   ]
  },
  {
   "cell_type": "code",
   "execution_count": 69,
   "id": "1789d739-d730-42a8-a4bc-9b5722516854",
   "metadata": {},
   "outputs": [
    {
     "name": "stdout",
     "output_type": "stream",
     "text": [
      "📊 Dados carregados e processados!\n",
      "Total de registros válidos: 197289\n",
      "\n",
      "Período dos dados: 2005-09-29 00:00:00 até 2025-09-30 00:00:00\n",
      "Capitais no dataset: 27\n"
     ]
    }
   ],
   "source": [
    "# =====================================================\n",
    "# 1. CARREGAR E LIMPAR OS DADOS\n",
    "# =====================================================\n",
    "\n",
    "# Carregar dados\n",
    "df = pd.read_csv('dados_capitais.csv')\n",
    "\n",
    "# Substituir valores faltantes (-999.0) por NaN\n",
    "df = df.replace(-999.0, np.nan)\n",
    "df = df.replace(-3596.4, np.nan)\n",
    "\n",
    "# Remover linhas com todos valores faltantes\n",
    "df = df.dropna(subset=['Temp Média (°C)', 'Temp Máx (°C)', 'Temp Mín (°C)', \n",
    "                        'Umidade (%)', 'Precipitação (mm)', 'Vento (km/h)'])\n",
    "\n",
    "# Extrair informações temporais da data\n",
    "df['Data'] = pd.to_datetime(df['Data'].astype(str), format='%Y%m%d')\n",
    "df['Ano'] = df['Data'].dt.year\n",
    "df['Mes'] = df['Data'].dt.month\n",
    "df['Dia'] = df['Data'].dt.day\n",
    "df['DiaDoAno'] = df['Data'].dt.dayofyear\n",
    "\n",
    "# Features cíclicas (importante para capturar sazonalidade)\n",
    "df['Mes_sin'] = np.sin(2 * np.pi * df['Mes'] / 12)\n",
    "df['Mes_cos'] = np.cos(2 * np.pi * df['Mes'] / 12)\n",
    "df['Dia_sin'] = np.sin(2 * np.pi * df['Dia'] / 31)\n",
    "df['Dia_cos'] = np.cos(2 * np.pi * df['Dia'] / 31)\n",
    "\n",
    "print(\"📊 Dados carregados e processados!\")\n",
    "print(f\"Total de registros válidos: {len(df)}\")\n",
    "print(f\"\\nPeríodo dos dados: {df['Data'].min()} até {df['Data'].max()}\")\n",
    "print(f\"Capitais no dataset: {df['Cidade'].nunique()}\")\n"
   ]
  },
  {
   "cell_type": "code",
   "execution_count": 70,
   "id": "4fd9e6df-575a-4386-96d3-bb31befb65e4",
   "metadata": {},
   "outputs": [],
   "source": [
    "# =====================================================\n",
    "# 2. CRIAR CLASSIFICAÇÕES PARA PREVISÕES\n",
    "# =====================================================\n",
    "\n",
    "def classificar_clima(df):\n",
    "    \"\"\"Cria classificações binárias para diferentes condições climáticas\"\"\"\n",
    "    \n",
    "    # Vai chover? (precipitação > 1mm)\n",
    "    df['VaiChover'] = (df['Precipitação (mm)'] > 1).astype(int)\n",
    "    \n",
    "    # Dia quente? (temp máxima > 30°C)\n",
    "    df['DiaQuente'] = (df['Temp Máx (°C)'] > 30).astype(int)\n",
    "    \n",
    "    # Dia frio? (temp mínima < 15°C)\n",
    "    df['DiaFrio'] = (df['Temp Mín (°C)'] < 15).astype(int)\n",
    "    \n",
    "    # Dia úmido? (umidade > 70%)\n",
    "    df['DiaUmido'] = (df['Umidade (%)'] > 70).astype(int)\n",
    "    \n",
    "    # Dia ventoso? (vento > 20 km/h)\n",
    "    df['DiaVentoso'] = (df['Vento (km/h)'] > 20).astype(int)\n",
    "    \n",
    "    # Dia confortável? (temp entre 20-28°C, umidade 40-70%, sem chuva forte)\n",
    "    df['DiaConfortavel'] = (\n",
    "        (df['Temp Média (°C)'] >= 20) & \n",
    "        (df['Temp Média (°C)'] <= 28) &\n",
    "        (df['Umidade (%)'] >= 40) & \n",
    "        (df['Umidade (%)'] <= 70) &\n",
    "        (df['Precipitação (mm)'] < 5)\n",
    "    ).astype(int)\n",
    "    \n",
    "    return df\n",
    "\n",
    "# Aplicar classificações (quando houver dados reais)\n",
    "if len(df) > 0:\n",
    "    df = classificar_clima(df)"
   ]
  },
  {
   "cell_type": "code",
   "execution_count": 71,
   "id": "cd88ccd2-feb0-4f40-8dbe-09124a35c35b",
   "metadata": {},
   "outputs": [],
   "source": [
    "# =====================================================\n",
    "# 3. MODELO DE REGRESSÃO LINEAR COM NUMPY PURO\n",
    "# =====================================================\n",
    "\n",
    "class RegressaoLinearNumPy:\n",
    "    \"\"\"Implementação manual de regressão linear usando NumPy\"\"\"\n",
    "    \n",
    "    def __init__(self):\n",
    "        self.coeficientes = None\n",
    "        self.intercepto = None\n",
    "    \n",
    "    def fit(self, X, y):\n",
    "        \"\"\"Treina o modelo usando a fórmula dos mínimos quadrados\"\"\"\n",
    "        # Adiciona coluna de 1s para o intercepto\n",
    "        X_com_intercepto = np.c_[np.ones(X.shape[0]), X]\n",
    "        \n",
    "        # Fórmula: θ = (X^T X)^-1 X^T y\n",
    "        self.coeficientes = np.linalg.inv(X_com_intercepto.T @ X_com_intercepto) @ X_com_intercepto.T @ y\n",
    "        self.intercepto = self.coeficientes[0]\n",
    "        self.coeficientes = self.coeficientes[1:]\n",
    "        \n",
    "        return self\n",
    "    \n",
    "    def predict(self, X):\n",
    "        \"\"\"Faz previsões\"\"\"\n",
    "        return X @ self.coeficientes + self.intercepto\n",
    "    \n",
    "    def score(self, X, y):\n",
    "        \"\"\"Calcula R² score\"\"\"\n",
    "        y_pred = self.predict(X)\n",
    "        ss_res = np.sum((y - y_pred) ** 2)\n",
    "        ss_tot = np.sum((y - np.mean(y)) ** 2)\n",
    "        return 1 - (ss_res / ss_tot)"
   ]
  },
  {
   "cell_type": "code",
   "execution_count": 72,
   "id": "e44d2ba3-c927-4cdb-902b-3c2c649faf8d",
   "metadata": {},
   "outputs": [],
   "source": [
    "# =====================================================\n",
    "# 4. MODELO DE REGRESSÃO LINEAR COM SKLEARN\n",
    "# =====================================================\n",
    "\n",
    "class PrevisaoClimatica:\n",
    "    \"\"\"Sistema completo de previsão climática\"\"\"\n",
    "    \n",
    "    def __init__(self, cidade='João Pessoa'):\n",
    "        self.cidade = cidade\n",
    "        self.modelos = {}\n",
    "        self.scalers = {}\n",
    "        self.variaveis = [\n",
    "            'Temp Média (°C)', \n",
    "            'Temp Máx (°C)', \n",
    "            'Temp Mín (°C)',\n",
    "            'Umidade (%)', \n",
    "            'Precipitação (mm)', \n",
    "            'Vento (km/h)'\n",
    "        ]\n",
    "    \n",
    "    def preparar_dados(self, df):\n",
    "        \"\"\"Prepara features para o modelo\"\"\"\n",
    "        df_cidade = df[df['Cidade'] == self.cidade].copy()\n",
    "        \n",
    "        if len(df_cidade) == 0:\n",
    "            print(f\"⚠️ Sem dados para {self.cidade}\")\n",
    "            return None, None\n",
    "        \n",
    "        # Features: dia, mês e componentes cíclicas\n",
    "        features = ['Dia', 'Mes', 'Mes_sin', 'Mes_cos', 'Dia_sin', 'Dia_cos', 'DiaDoAno']\n",
    "        X = df_cidade[features].values\n",
    "        \n",
    "        return X, df_cidade\n",
    "    \n",
    "    def treinar_numpy(self, X, y, nome_variavel):\n",
    "        \"\"\"Treina modelo com NumPy puro\"\"\"\n",
    "        # Dividir dados\n",
    "        X_train, X_test, y_train, y_test = train_test_split(\n",
    "            X, y, test_size=0.2, random_state=42\n",
    "        )\n",
    "        \n",
    "        # Normalizar\n",
    "        scaler = StandardScaler()\n",
    "        X_train_scaled = scaler.fit_transform(X_train)\n",
    "        X_test_scaled = scaler.transform(X_test)\n",
    "        \n",
    "        # Treinar\n",
    "        modelo = RegressaoLinearNumPy()\n",
    "        modelo.fit(X_train_scaled, y_train)\n",
    "        \n",
    "        # Avaliar\n",
    "        y_pred = modelo.predict(X_test_scaled)\n",
    "        r2 = modelo.score(X_test_scaled, y_test)\n",
    "        rmse = np.sqrt(np.mean((y_test - y_pred) ** 2))\n",
    "        \n",
    "        return modelo, scaler, r2, rmse\n",
    "    \n",
    "    def treinar_sklearn(self, X, y, nome_variavel):\n",
    "        \"\"\"Treina modelo com scikit-learn\"\"\"\n",
    "        # Dividir dados\n",
    "        X_train, X_test, y_train, y_test = train_test_split(\n",
    "            X, y, test_size=0.2, random_state=42\n",
    "        )\n",
    "        \n",
    "        # Normalizar\n",
    "        scaler = StandardScaler()\n",
    "        X_train_scaled = scaler.fit_transform(X_train)\n",
    "        X_test_scaled = scaler.transform(X_test)\n",
    "        \n",
    "        # Treinar\n",
    "        modelo = LinearRegression()\n",
    "        modelo.fit(X_train_scaled, y_train)\n",
    "        \n",
    "        # Avaliar\n",
    "        y_pred = modelo.predict(X_test_scaled)\n",
    "        r2 = r2_score(y_test, y_pred)\n",
    "        rmse = np.sqrt(mean_squared_error(y_test, y_pred))\n",
    "        \n",
    "        return modelo, scaler, r2, rmse\n",
    "    \n",
    "    def treinar_todos_modelos(self, df, usar_numpy=False):\n",
    "        \"\"\"Treina modelos para todas as variáveis\"\"\"\n",
    "        X, df_cidade = self.preparar_dados(df)\n",
    "        \n",
    "        if X is None:\n",
    "            return\n",
    "        \n",
    "        print(f\"\\n{'='*60}\")\n",
    "        print(f\"🎯 Treinando modelos para {self.cidade}\")\n",
    "        print(f\"{'='*60}\\n\")\n",
    "        \n",
    "        metodo = \"NumPy\" if usar_numpy else \"scikit-learn\"\n",
    "        print(f\"Método: {metodo}\\n\")\n",
    "        \n",
    "        for variavel in self.variaveis:\n",
    "            if variavel not in df_cidade.columns:\n",
    "                continue\n",
    "                \n",
    "            y = df_cidade[variavel].values\n",
    "            \n",
    "            if usar_numpy:\n",
    "                modelo, scaler, r2, rmse = self.treinar_numpy(X, y, variavel)\n",
    "            else:\n",
    "                modelo, scaler, r2, rmse = self.treinar_sklearn(X, y, variavel)\n",
    "            \n",
    "            self.modelos[variavel] = modelo\n",
    "            self.scalers[variavel] = scaler\n",
    "            \n",
    "            print(f\"✓ {variavel:25} | R² = {r2:.4f} | RMSE = {rmse:.2f}\")\n",
    "        \n",
    "        print(f\"\\n{'='*60}\\n\")\n",
    "    \n",
    "    def prever_dia(self, dia, mes, ano=2026):\n",
    "        \"\"\"Prevê condições climáticas para um dia específico\"\"\"\n",
    "        # Criar features para o dia\n",
    "        data_alvo = pd.Timestamp(year=ano, month=mes, day=dia)\n",
    "        dia_do_ano = data_alvo.dayofyear\n",
    "        \n",
    "        X_novo = np.array([[\n",
    "            dia,\n",
    "            mes,\n",
    "            np.sin(2 * np.pi * mes / 12),\n",
    "            np.cos(2 * np.pi * mes / 12),\n",
    "            np.sin(2 * np.pi * dia / 31),\n",
    "            np.cos(2 * np.pi * dia / 31),\n",
    "            dia_do_ano\n",
    "        ]])\n",
    "        \n",
    "        previsoes = {}\n",
    "        \n",
    "        for variavel, modelo in self.modelos.items():\n",
    "            scaler = self.scalers[variavel]\n",
    "            X_scaled = scaler.transform(X_novo)\n",
    "            previsao = modelo.predict(X_scaled)[0]\n",
    "            previsoes[variavel] = previsao\n",
    "        \n",
    "        return previsoes\n",
    "    \n",
    "    def classificar_previsao(self, previsoes):\n",
    "        \"\"\"Classifica as previsões em condições binárias\"\"\"\n",
    "        classificacao = {\n",
    "            '🌧️ Vai chover?': 'Sim' if previsoes.get('Precipitação (mm)', 0) > 1 else 'Não',\n",
    "            '🔥 Dia quente?': 'Sim' if previsoes.get('Temp Máx (°C)', 0) > 30 else 'Não',\n",
    "            '❄️ Dia frio?': 'Sim' if previsoes.get('Temp Mín (°C)', 100) < 15 else 'Não',\n",
    "            '💧 Dia úmido?': 'Sim' if previsoes.get('Umidade (%)', 0) > 70 else 'Não',\n",
    "            '💨 Dia ventoso?': 'Sim' if previsoes.get('Vento (km/h)', 0) > 20 else 'Não',\n",
    "        }\n",
    "        \n",
    "        # Dia confortável\n",
    "        temp_media = previsoes.get('Temp Média (°C)', 0)\n",
    "        umidade = previsoes.get('Umidade (%)', 0)\n",
    "        chuva = previsoes.get('Precipitação (mm)', 0)\n",
    "        \n",
    "        confortavel = (20 <= temp_media <= 28) and (40 <= umidade <= 70) and (chuva < 5)\n",
    "        classificacao['😊 Dia confortável?'] = 'Sim' if confortavel else 'Não'\n",
    "        \n",
    "        return classificacao\n",
    "    \n",
    "    def relatorio_completo(self, dia, mes, ano=2026):\n",
    "        \"\"\"Gera relatório completo para uma data\"\"\"\n",
    "        meses = ['', 'janeiro', 'fevereiro', 'março', 'abril', 'maio', 'junho',\n",
    "                 'julho', 'agosto', 'setembro', 'outubro', 'novembro', 'dezembro']\n",
    "        \n",
    "        print(f\"\\n{'='*60}\")\n",
    "        print(f\"📅 PREVISÃO PARA {dia} DE {meses[mes].upper()} DE {ano}\")\n",
    "        print(f\"📍 Cidade: {self.cidade}\")\n",
    "        print(f\"{'='*60}\\n\")\n",
    "        \n",
    "        previsoes = self.prever_dia(dia, mes, ano)\n",
    "        \n",
    "        print(\"🌡️  VARIÁVEIS METEOROLÓGICAS:\")\n",
    "        print(\"-\" * 60)\n",
    "        for variavel, valor in previsoes.items():\n",
    "            print(f\"{variavel:25} : {valor:7.2f}\")\n",
    "        \n",
    "        print(f\"\\n{'='*60}\\n\")\n",
    "        print(\"🎯 CLASSIFICAÇÃO DO DIA:\")\n",
    "        print(\"-\" * 60)\n",
    "        \n",
    "        classificacao = self.classificar_previsao(previsoes)\n",
    "        for condicao, resultado in classificacao.items():\n",
    "            emoji_resultado = '✅' if resultado == 'Sim' else '❌'\n",
    "            print(f\"{emoji_resultado} {condicao:25} {resultado}\")\n",
    "        \n",
    "        print(f\"\\n{'='*60}\\n\")"
   ]
  },
  {
   "cell_type": "code",
   "execution_count": 73,
   "id": "2a85b613-ee30-4fc3-90f5-308581ae179f",
   "metadata": {},
   "outputs": [],
   "source": [
    "# =====================================================\n",
    "# 5. VISUALIZAÇÕES\n",
    "# =====================================================\n",
    "\n",
    "def visualizar_previsoes_mensais(sistema, ano=2026):\n",
    "    \"\"\"Visualiza previsões para todos os dias de um ano\"\"\"\n",
    "    dias = []\n",
    "    temps_media = []\n",
    "    chuvas = []\n",
    "    umidade = []\n",
    "    \n",
    "    for mes in range(1, 13):\n",
    "        for dia in range(1, 29):  # Simplificado para 28 dias\n",
    "            try:\n",
    "                previsoes = sistema.prever_dia(dia, mes, ano)\n",
    "                dias.append(f\"{dia:02d}/{mes:02d}\")\n",
    "                temps_media.append(previsoes.get('Temp Média (°C)', 0))\n",
    "                chuvas.append(previsoes.get('Precipitação (mm)', 0))\n",
    "                umidade.append(previsoes.get('Umidade (%)', 0))\n",
    "            except:\n",
    "                pass\n",
    "    \n",
    "    # Gráfico de temperatura\n",
    "    fig1 = go.Figure()\n",
    "    fig1.add_trace(go.Scatter(\n",
    "        x=list(range(len(dias))),\n",
    "        y=temps_media,\n",
    "        mode='lines',\n",
    "        name='Temperatura Média',\n",
    "        line=dict(color='red', width=2)\n",
    "    ))\n",
    "    fig1.update_layout(\n",
    "        title=f'Previsão de Temperatura Média - {sistema.cidade} ({ano})',\n",
    "        xaxis_title='Dia do Ano',\n",
    "        yaxis_title='Temperatura (°C)',\n",
    "        template='plotly_white'\n",
    "    )\n",
    "    \n",
    "    # Gráfico de precipitação\n",
    "    fig2 = go.Figure()\n",
    "    fig2.add_trace(go.Bar(\n",
    "        x=list(range(len(dias))),\n",
    "        y=chuvas,\n",
    "        name='Precipitação',\n",
    "        marker_color='blue'\n",
    "    ))\n",
    "    fig2.update_layout(\n",
    "        title=f'Previsão de Precipitação - {sistema.cidade} ({ano})',\n",
    "        xaxis_title='Dia do Ano',\n",
    "        yaxis_title='Precipitação (mm)',\n",
    "        template='plotly_white'\n",
    "    )\n",
    "    \n",
    "    return fig1, fig2\n"
   ]
  },
  {
   "cell_type": "code",
   "execution_count": 74,
   "id": "a7242b96-563b-4e05-a384-2fa6ed3ebad3",
   "metadata": {},
   "outputs": [
    {
     "name": "stdout",
     "output_type": "stream",
     "text": [
      "\n",
      "🔧 Treinando com NumPy puro...\n",
      "\n",
      "============================================================\n",
      "🎯 Treinando modelos para João Pessoa\n",
      "============================================================\n",
      "\n",
      "Método: NumPy\n",
      "\n",
      "✓ Temp Média (°C)           | R² = 0.7464 | RMSE = 0.69\n",
      "✓ Temp Máx (°C)             | R² = 0.6390 | RMSE = 1.11\n",
      "✓ Temp Mín (°C)             | R² = 0.7084 | RMSE = 0.65\n",
      "✓ Umidade (%)               | R² = 0.5890 | RMSE = 4.55\n",
      "✓ Precipitação (mm)         | R² = 0.0950 | RMSE = 5.63\n",
      "✓ Vento (km/h)              | R² = 0.2578 | RMSE = 2.24\n",
      "\n",
      "============================================================\n",
      "\n",
      "\n",
      "🔧 Treinando com scikit-learn...\n",
      "\n",
      "============================================================\n",
      "🎯 Treinando modelos para João Pessoa\n",
      "============================================================\n",
      "\n",
      "Método: scikit-learn\n",
      "\n",
      "✓ Temp Média (°C)           | R² = 0.7464 | RMSE = 0.69\n",
      "✓ Temp Máx (°C)             | R² = 0.6390 | RMSE = 1.11\n",
      "✓ Temp Mín (°C)             | R² = 0.7084 | RMSE = 0.65\n",
      "✓ Umidade (%)               | R² = 0.5890 | RMSE = 4.55\n",
      "✓ Precipitação (mm)         | R² = 0.0950 | RMSE = 5.63\n",
      "✓ Vento (km/h)              | R² = 0.2578 | RMSE = 2.24\n",
      "\n",
      "============================================================\n",
      "\n",
      "\n",
      "============================================================\n",
      "📅 PREVISÃO PARA 2 DE OUTUBRO DE 2025\n",
      "📍 Cidade: João Pessoa\n",
      "============================================================\n",
      "\n",
      "🌡️  VARIÁVEIS METEOROLÓGICAS:\n",
      "------------------------------------------------------------\n",
      "Temp Média (°C)           :   26.12\n",
      "Temp Máx (°C)             :   30.01\n",
      "Temp Mín (°C)             :   23.44\n",
      "Umidade (%)               :   72.50\n",
      "Precipitação (mm)         :    0.58\n",
      "Vento (km/h)              :   15.76\n",
      "\n",
      "============================================================\n",
      "\n",
      "🎯 CLASSIFICAÇÃO DO DIA:\n",
      "------------------------------------------------------------\n",
      "❌ 🌧️ Vai chover?            Não\n",
      "✅ 🔥 Dia quente?             Sim\n",
      "❌ ❄️ Dia frio?              Não\n",
      "✅ 💧 Dia úmido?              Sim\n",
      "❌ 💨 Dia ventoso?            Não\n",
      "❌ 😊 Dia confortável?        Não\n",
      "\n",
      "============================================================\n",
      "\n",
      "📊 Gerando visualizações...\n"
     ]
    },
    {
     "data": {
      "application/vnd.plotly.v1+json": {
       "config": {
        "plotlyServerURL": "https://plot.ly"
       },
       "data": [
        {
         "line": {
          "color": "red",
          "width": 2
         },
         "mode": "lines",
         "name": "Temperatura Média",
         "type": "scatter",
         "x": [
          0,
          1,
          2,
          3,
          4,
          5,
          6,
          7,
          8,
          9,
          10,
          11,
          12,
          13,
          14,
          15,
          16,
          17,
          18,
          19,
          20,
          21,
          22,
          23,
          24,
          25,
          26,
          27,
          28,
          29,
          30,
          31,
          32,
          33,
          34,
          35,
          36,
          37,
          38,
          39,
          40,
          41,
          42,
          43,
          44,
          45,
          46,
          47,
          48,
          49,
          50,
          51,
          52,
          53,
          54,
          55,
          56,
          57,
          58,
          59,
          60,
          61,
          62,
          63,
          64,
          65,
          66,
          67,
          68,
          69,
          70,
          71,
          72,
          73,
          74,
          75,
          76,
          77,
          78,
          79,
          80,
          81,
          82,
          83,
          84,
          85,
          86,
          87,
          88,
          89,
          90,
          91,
          92,
          93,
          94,
          95,
          96,
          97,
          98,
          99,
          100,
          101,
          102,
          103,
          104,
          105,
          106,
          107,
          108,
          109,
          110,
          111,
          112,
          113,
          114,
          115,
          116,
          117,
          118,
          119,
          120,
          121,
          122,
          123,
          124,
          125,
          126,
          127,
          128,
          129,
          130,
          131,
          132,
          133,
          134,
          135,
          136,
          137,
          138,
          139,
          140,
          141,
          142,
          143,
          144,
          145,
          146,
          147,
          148,
          149,
          150,
          151,
          152,
          153,
          154,
          155,
          156,
          157,
          158,
          159,
          160,
          161,
          162,
          163,
          164,
          165,
          166,
          167,
          168,
          169,
          170,
          171,
          172,
          173,
          174,
          175,
          176,
          177,
          178,
          179,
          180,
          181,
          182,
          183,
          184,
          185,
          186,
          187,
          188,
          189,
          190,
          191,
          192,
          193,
          194,
          195,
          196,
          197,
          198,
          199,
          200,
          201,
          202,
          203,
          204,
          205,
          206,
          207,
          208,
          209,
          210,
          211,
          212,
          213,
          214,
          215,
          216,
          217,
          218,
          219,
          220,
          221,
          222,
          223,
          224,
          225,
          226,
          227,
          228,
          229,
          230,
          231,
          232,
          233,
          234,
          235,
          236,
          237,
          238,
          239,
          240,
          241,
          242,
          243,
          244,
          245,
          246,
          247,
          248,
          249,
          250,
          251,
          252,
          253,
          254,
          255,
          256,
          257,
          258,
          259,
          260,
          261,
          262,
          263,
          264,
          265,
          266,
          267,
          268,
          269,
          270,
          271,
          272,
          273,
          274,
          275,
          276,
          277,
          278,
          279,
          280,
          281,
          282,
          283,
          284,
          285,
          286,
          287,
          288,
          289,
          290,
          291,
          292,
          293,
          294,
          295,
          296,
          297,
          298,
          299,
          300,
          301,
          302,
          303,
          304,
          305,
          306,
          307,
          308,
          309,
          310,
          311,
          312,
          313,
          314,
          315,
          316,
          317,
          318,
          319,
          320,
          321,
          322,
          323,
          324,
          325,
          326,
          327,
          328,
          329,
          330,
          331,
          332,
          333,
          334,
          335
         ],
         "y": [
          27.74692851794835,
          27.75240131756762,
          27.75683885608429,
          27.760097771325274,
          27.762082954092893,
          27.76275144194657,
          27.76211417809022,
          27.760235563356172,
          27.75723081962756,
          27.753261272640856,
          27.748527747291273,
          27.743262345837984,
          27.73771894561032,
          27.732162805240115,
          27.726859704942118,
          27.72206506544081,
          27.718013491015896,
          27.71490916477556,
          27.712917489376007,
          27.71215831541729,
          27.712701034745663,
          27.71456173954324,
          27.717702563512162,
          27.7220332321253,
          27.72741475847598,
          27.733665133418288,
          27.740566777042883,
          27.747875446424047,
          28.008101832094198,
          28.013574631713464,
          28.01801217023013,
          28.021271085471117,
          28.023256268238736,
          28.023924756092413,
          28.02328749223606,
          28.021408877502015,
          28.0184041337734,
          28.0144345867867,
          28.009701061437116,
          28.004435659983827,
          27.998892259756165,
          27.99333611938596,
          27.98803301908796,
          27.983238379586652,
          27.97918680516174,
          27.976082478921402,
          27.97409080352185,
          27.973331629563134,
          27.973874348891506,
          27.97573505368908,
          27.978875877658005,
          27.98320654627114,
          27.988588072621823,
          27.99483844756413,
          28.001740091188726,
          28.00904876056989,
          27.693664635999983,
          27.699137435619253,
          27.70357497413592,
          27.706833889376906,
          27.708819072144525,
          27.709487559998202,
          27.708850296141847,
          27.706971681407804,
          27.70396693767919,
          27.699997390692484,
          27.695263865342906,
          27.689998463889616,
          27.68445506366195,
          27.678898923291744,
          27.673595822993747,
          27.66880118349244,
          27.664749609067528,
          27.66164528282719,
          27.659653607427636,
          27.658894433468923,
          27.659437152797295,
          27.661297857594867,
          27.66443868156379,
          27.668769350176927,
          27.67415087652761,
          27.680401251469917,
          27.68730289509451,
          27.69461156447568,
          27.103547310936438,
          27.109020110555708,
          27.113457649072373,
          27.11671656431336,
          27.118701747080976,
          27.119370234934657,
          27.118732971078302,
          27.11685435634426,
          27.113849612615645,
          27.109880065628936,
          27.105146540279357,
          27.099881138826067,
          27.094337738598405,
          27.088781598228195,
          27.0834784979302,
          27.078683858428892,
          27.07463228400398,
          27.071527957763646,
          27.06953628236409,
          27.068777108405374,
          27.06931982773375,
          27.071180532531322,
          27.074321356500246,
          27.07865202511338,
          27.084033551464064,
          27.09028392640637,
          27.097185570030966,
          27.10449423941213,
          26.277723271293702,
          26.28319607091297,
          26.287633609429637,
          26.290892524670625,
          26.292877707438244,
          26.29354619529192,
          26.29290893143557,
          26.291030316701523,
          26.28802557297291,
          26.284056025986203,
          26.279322500636624,
          26.27405709918333,
          26.26851369895567,
          26.262957558585462,
          26.25765445828747,
          26.252859818786156,
          26.248808244361243,
          26.24570391812091,
          26.243712242721358,
          26.24295306876264,
          26.24349578809101,
          26.245356492888586,
          26.24849731685751,
          26.252827985470645,
          26.258209511821327,
          26.26445988676364,
          26.27136153038823,
          26.278670199769397,
          25.52739985497739,
          25.53287265459666,
          25.537310193113324,
          25.540569108354312,
          25.542554291121927,
          25.543222778975608,
          25.542585515119253,
          25.54070690038521,
          25.537702156656596,
          25.533732609669887,
          25.528999084320308,
          25.523733682867018,
          25.518190282639356,
          25.51263414226915,
          25.507331041971153,
          25.502536402469843,
          25.49848482804493,
          25.495380501804597,
          25.49338882640504,
          25.492629652446325,
          25.493172371774698,
          25.495033076572273,
          25.498173900541197,
          25.502504569154333,
          25.507886095505015,
          25.514136470447323,
          25.521038114071917,
          25.52834678345308,
          25.008078635219597,
          25.013551434838863,
          25.017988973355532,
          25.021247888596516,
          25.023233071364135,
          25.023901559217812,
          25.02326429536146,
          25.021385680627414,
          25.0183809368988,
          25.014411389912095,
          25.009677864562516,
          25.004412463109226,
          24.998869062881564,
          24.993312922511354,
          24.98800982221336,
          24.98321518271205,
          24.979163608287138,
          24.9760592820468,
          24.97406760664725,
          24.973308432688533,
          24.973851152016906,
          24.975711856814478,
          24.9788526807834,
          24.98318334939654,
          24.988564875747223,
          24.99481525068953,
          25.001716894314125,
          25.00902556369529,
          24.9488397668599,
          24.95431256647917,
          24.958750104995836,
          24.962009020236824,
          24.96399420300444,
          24.96466269085812,
          24.964025427001765,
          24.962146812267722,
          24.95914206853911,
          24.955172521552402,
          24.95043899620282,
          24.94517359474953,
          24.939630194521868,
          24.93407405415166,
          24.928770953853665,
          24.923976314352355,
          24.919924739927442,
          24.91682041368711,
          24.914828738287554,
          24.914069564328837,
          24.91461228365721,
          24.916472988454785,
          24.91961381242371,
          24.923944481036845,
          24.929326007387527,
          24.935576382329835,
          24.94247802595443,
          24.949786695335593,
          25.35630980963792,
          25.361782609257187,
          25.366220147773852,
          25.36947906301484,
          25.37146424578246,
          25.372132733636136,
          25.371495469779784,
          25.369616855045738,
          25.366612111317124,
          25.362642564330418,
          25.35790903898084,
          25.35264363752755,
          25.347100237299884,
          25.341544096929677,
          25.336240996631684,
          25.33144635713037,
          25.32739478270546,
          25.324290456465125,
          25.322298781065573,
          25.321539607106857,
          25.32208232643523,
          25.3239430312328,
          25.327083855201725,
          25.331414523814864,
          25.336796050165542,
          25.343046425107854,
          25.34994806873245,
          25.357256738113612,
          26.112061047453498,
          26.117533847072767,
          26.121971385589433,
          26.12523030083042,
          26.127215483598036,
          26.127883971451716,
          26.12724670759536,
          26.12536809286132,
          26.122363349132705,
          26.118393802146,
          26.113660276796416,
          26.108394875343127,
          26.102851475115465,
          26.097295334745258,
          26.09199223444726,
          26.087197594945952,
          26.08314602052104,
          26.080041694280705,
          26.07805001888115,
          26.077290844922434,
          26.07783356425081,
          26.07969426904838,
          26.082835093017305,
          26.087165761630445,
          26.092547287981123,
          26.09879766292343,
          26.105699306548026,
          26.113007975929193,
          27.10351899984827,
          27.108991799467535,
          27.1134293379842,
          27.11668825322519,
          27.118673435992807,
          27.119341923846484,
          27.118704659990133,
          27.116826045256087,
          27.113821301527473,
          27.109851754540767,
          27.105118229191188,
          27.099852827737898,
          27.094309427510236,
          27.088753287140026,
          27.083450186842033,
          27.078655547340723,
          27.07460397291581,
          27.071499646675473,
          27.06950797127592,
          27.068748797317205,
          27.069291516645578,
          27.07115222144315,
          27.074293045412077,
          27.078623714025213,
          27.08400524037589,
          27.090255615318203,
          27.097157258942797,
          27.10446592832396,
          28.019476328916618,
          28.024949128535884,
          28.029386667052552,
          28.032645582293537,
          28.034630765061156,
          28.035299252914832,
          28.03466198905848,
          28.032783374324435,
          28.02977863059582,
          28.025809083609115,
          28.021075558259536,
          28.015810156806246,
          28.010266756578584,
          28.004710616208374,
          27.99940751591038,
          27.99461287640907,
          27.990561301984158,
          27.98745697574382,
          27.98546530034427,
          27.984706126385554,
          27.985248845713926,
          27.987109550511498,
          27.990250374480425,
          27.99458104309356,
          27.999962569444243,
          28.00621294438655,
          28.013114588011145,
          28.02042325739231
         ]
        }
       ],
       "layout": {
        "template": {
         "data": {
          "bar": [
           {
            "error_x": {
             "color": "#2a3f5f"
            },
            "error_y": {
             "color": "#2a3f5f"
            },
            "marker": {
             "line": {
              "color": "white",
              "width": 0.5
             },
             "pattern": {
              "fillmode": "overlay",
              "size": 10,
              "solidity": 0.2
             }
            },
            "type": "bar"
           }
          ],
          "barpolar": [
           {
            "marker": {
             "line": {
              "color": "white",
              "width": 0.5
             },
             "pattern": {
              "fillmode": "overlay",
              "size": 10,
              "solidity": 0.2
             }
            },
            "type": "barpolar"
           }
          ],
          "carpet": [
           {
            "aaxis": {
             "endlinecolor": "#2a3f5f",
             "gridcolor": "#C8D4E3",
             "linecolor": "#C8D4E3",
             "minorgridcolor": "#C8D4E3",
             "startlinecolor": "#2a3f5f"
            },
            "baxis": {
             "endlinecolor": "#2a3f5f",
             "gridcolor": "#C8D4E3",
             "linecolor": "#C8D4E3",
             "minorgridcolor": "#C8D4E3",
             "startlinecolor": "#2a3f5f"
            },
            "type": "carpet"
           }
          ],
          "choropleth": [
           {
            "colorbar": {
             "outlinewidth": 0,
             "ticks": ""
            },
            "type": "choropleth"
           }
          ],
          "contour": [
           {
            "colorbar": {
             "outlinewidth": 0,
             "ticks": ""
            },
            "colorscale": [
             [
              0,
              "#0d0887"
             ],
             [
              0.1111111111111111,
              "#46039f"
             ],
             [
              0.2222222222222222,
              "#7201a8"
             ],
             [
              0.3333333333333333,
              "#9c179e"
             ],
             [
              0.4444444444444444,
              "#bd3786"
             ],
             [
              0.5555555555555556,
              "#d8576b"
             ],
             [
              0.6666666666666666,
              "#ed7953"
             ],
             [
              0.7777777777777778,
              "#fb9f3a"
             ],
             [
              0.8888888888888888,
              "#fdca26"
             ],
             [
              1,
              "#f0f921"
             ]
            ],
            "type": "contour"
           }
          ],
          "contourcarpet": [
           {
            "colorbar": {
             "outlinewidth": 0,
             "ticks": ""
            },
            "type": "contourcarpet"
           }
          ],
          "heatmap": [
           {
            "colorbar": {
             "outlinewidth": 0,
             "ticks": ""
            },
            "colorscale": [
             [
              0,
              "#0d0887"
             ],
             [
              0.1111111111111111,
              "#46039f"
             ],
             [
              0.2222222222222222,
              "#7201a8"
             ],
             [
              0.3333333333333333,
              "#9c179e"
             ],
             [
              0.4444444444444444,
              "#bd3786"
             ],
             [
              0.5555555555555556,
              "#d8576b"
             ],
             [
              0.6666666666666666,
              "#ed7953"
             ],
             [
              0.7777777777777778,
              "#fb9f3a"
             ],
             [
              0.8888888888888888,
              "#fdca26"
             ],
             [
              1,
              "#f0f921"
             ]
            ],
            "type": "heatmap"
           }
          ],
          "heatmapgl": [
           {
            "colorbar": {
             "outlinewidth": 0,
             "ticks": ""
            },
            "colorscale": [
             [
              0,
              "#0d0887"
             ],
             [
              0.1111111111111111,
              "#46039f"
             ],
             [
              0.2222222222222222,
              "#7201a8"
             ],
             [
              0.3333333333333333,
              "#9c179e"
             ],
             [
              0.4444444444444444,
              "#bd3786"
             ],
             [
              0.5555555555555556,
              "#d8576b"
             ],
             [
              0.6666666666666666,
              "#ed7953"
             ],
             [
              0.7777777777777778,
              "#fb9f3a"
             ],
             [
              0.8888888888888888,
              "#fdca26"
             ],
             [
              1,
              "#f0f921"
             ]
            ],
            "type": "heatmapgl"
           }
          ],
          "histogram": [
           {
            "marker": {
             "pattern": {
              "fillmode": "overlay",
              "size": 10,
              "solidity": 0.2
             }
            },
            "type": "histogram"
           }
          ],
          "histogram2d": [
           {
            "colorbar": {
             "outlinewidth": 0,
             "ticks": ""
            },
            "colorscale": [
             [
              0,
              "#0d0887"
             ],
             [
              0.1111111111111111,
              "#46039f"
             ],
             [
              0.2222222222222222,
              "#7201a8"
             ],
             [
              0.3333333333333333,
              "#9c179e"
             ],
             [
              0.4444444444444444,
              "#bd3786"
             ],
             [
              0.5555555555555556,
              "#d8576b"
             ],
             [
              0.6666666666666666,
              "#ed7953"
             ],
             [
              0.7777777777777778,
              "#fb9f3a"
             ],
             [
              0.8888888888888888,
              "#fdca26"
             ],
             [
              1,
              "#f0f921"
             ]
            ],
            "type": "histogram2d"
           }
          ],
          "histogram2dcontour": [
           {
            "colorbar": {
             "outlinewidth": 0,
             "ticks": ""
            },
            "colorscale": [
             [
              0,
              "#0d0887"
             ],
             [
              0.1111111111111111,
              "#46039f"
             ],
             [
              0.2222222222222222,
              "#7201a8"
             ],
             [
              0.3333333333333333,
              "#9c179e"
             ],
             [
              0.4444444444444444,
              "#bd3786"
             ],
             [
              0.5555555555555556,
              "#d8576b"
             ],
             [
              0.6666666666666666,
              "#ed7953"
             ],
             [
              0.7777777777777778,
              "#fb9f3a"
             ],
             [
              0.8888888888888888,
              "#fdca26"
             ],
             [
              1,
              "#f0f921"
             ]
            ],
            "type": "histogram2dcontour"
           }
          ],
          "mesh3d": [
           {
            "colorbar": {
             "outlinewidth": 0,
             "ticks": ""
            },
            "type": "mesh3d"
           }
          ],
          "parcoords": [
           {
            "line": {
             "colorbar": {
              "outlinewidth": 0,
              "ticks": ""
             }
            },
            "type": "parcoords"
           }
          ],
          "pie": [
           {
            "automargin": true,
            "type": "pie"
           }
          ],
          "scatter": [
           {
            "fillpattern": {
             "fillmode": "overlay",
             "size": 10,
             "solidity": 0.2
            },
            "type": "scatter"
           }
          ],
          "scatter3d": [
           {
            "line": {
             "colorbar": {
              "outlinewidth": 0,
              "ticks": ""
             }
            },
            "marker": {
             "colorbar": {
              "outlinewidth": 0,
              "ticks": ""
             }
            },
            "type": "scatter3d"
           }
          ],
          "scattercarpet": [
           {
            "marker": {
             "colorbar": {
              "outlinewidth": 0,
              "ticks": ""
             }
            },
            "type": "scattercarpet"
           }
          ],
          "scattergeo": [
           {
            "marker": {
             "colorbar": {
              "outlinewidth": 0,
              "ticks": ""
             }
            },
            "type": "scattergeo"
           }
          ],
          "scattergl": [
           {
            "marker": {
             "colorbar": {
              "outlinewidth": 0,
              "ticks": ""
             }
            },
            "type": "scattergl"
           }
          ],
          "scattermapbox": [
           {
            "marker": {
             "colorbar": {
              "outlinewidth": 0,
              "ticks": ""
             }
            },
            "type": "scattermapbox"
           }
          ],
          "scatterpolar": [
           {
            "marker": {
             "colorbar": {
              "outlinewidth": 0,
              "ticks": ""
             }
            },
            "type": "scatterpolar"
           }
          ],
          "scatterpolargl": [
           {
            "marker": {
             "colorbar": {
              "outlinewidth": 0,
              "ticks": ""
             }
            },
            "type": "scatterpolargl"
           }
          ],
          "scatterternary": [
           {
            "marker": {
             "colorbar": {
              "outlinewidth": 0,
              "ticks": ""
             }
            },
            "type": "scatterternary"
           }
          ],
          "surface": [
           {
            "colorbar": {
             "outlinewidth": 0,
             "ticks": ""
            },
            "colorscale": [
             [
              0,
              "#0d0887"
             ],
             [
              0.1111111111111111,
              "#46039f"
             ],
             [
              0.2222222222222222,
              "#7201a8"
             ],
             [
              0.3333333333333333,
              "#9c179e"
             ],
             [
              0.4444444444444444,
              "#bd3786"
             ],
             [
              0.5555555555555556,
              "#d8576b"
             ],
             [
              0.6666666666666666,
              "#ed7953"
             ],
             [
              0.7777777777777778,
              "#fb9f3a"
             ],
             [
              0.8888888888888888,
              "#fdca26"
             ],
             [
              1,
              "#f0f921"
             ]
            ],
            "type": "surface"
           }
          ],
          "table": [
           {
            "cells": {
             "fill": {
              "color": "#EBF0F8"
             },
             "line": {
              "color": "white"
             }
            },
            "header": {
             "fill": {
              "color": "#C8D4E3"
             },
             "line": {
              "color": "white"
             }
            },
            "type": "table"
           }
          ]
         },
         "layout": {
          "annotationdefaults": {
           "arrowcolor": "#2a3f5f",
           "arrowhead": 0,
           "arrowwidth": 1
          },
          "autotypenumbers": "strict",
          "coloraxis": {
           "colorbar": {
            "outlinewidth": 0,
            "ticks": ""
           }
          },
          "colorscale": {
           "diverging": [
            [
             0,
             "#8e0152"
            ],
            [
             0.1,
             "#c51b7d"
            ],
            [
             0.2,
             "#de77ae"
            ],
            [
             0.3,
             "#f1b6da"
            ],
            [
             0.4,
             "#fde0ef"
            ],
            [
             0.5,
             "#f7f7f7"
            ],
            [
             0.6,
             "#e6f5d0"
            ],
            [
             0.7,
             "#b8e186"
            ],
            [
             0.8,
             "#7fbc41"
            ],
            [
             0.9,
             "#4d9221"
            ],
            [
             1,
             "#276419"
            ]
           ],
           "sequential": [
            [
             0,
             "#0d0887"
            ],
            [
             0.1111111111111111,
             "#46039f"
            ],
            [
             0.2222222222222222,
             "#7201a8"
            ],
            [
             0.3333333333333333,
             "#9c179e"
            ],
            [
             0.4444444444444444,
             "#bd3786"
            ],
            [
             0.5555555555555556,
             "#d8576b"
            ],
            [
             0.6666666666666666,
             "#ed7953"
            ],
            [
             0.7777777777777778,
             "#fb9f3a"
            ],
            [
             0.8888888888888888,
             "#fdca26"
            ],
            [
             1,
             "#f0f921"
            ]
           ],
           "sequentialminus": [
            [
             0,
             "#0d0887"
            ],
            [
             0.1111111111111111,
             "#46039f"
            ],
            [
             0.2222222222222222,
             "#7201a8"
            ],
            [
             0.3333333333333333,
             "#9c179e"
            ],
            [
             0.4444444444444444,
             "#bd3786"
            ],
            [
             0.5555555555555556,
             "#d8576b"
            ],
            [
             0.6666666666666666,
             "#ed7953"
            ],
            [
             0.7777777777777778,
             "#fb9f3a"
            ],
            [
             0.8888888888888888,
             "#fdca26"
            ],
            [
             1,
             "#f0f921"
            ]
           ]
          },
          "colorway": [
           "#636efa",
           "#EF553B",
           "#00cc96",
           "#ab63fa",
           "#FFA15A",
           "#19d3f3",
           "#FF6692",
           "#B6E880",
           "#FF97FF",
           "#FECB52"
          ],
          "font": {
           "color": "#2a3f5f"
          },
          "geo": {
           "bgcolor": "white",
           "lakecolor": "white",
           "landcolor": "white",
           "showlakes": true,
           "showland": true,
           "subunitcolor": "#C8D4E3"
          },
          "hoverlabel": {
           "align": "left"
          },
          "hovermode": "closest",
          "mapbox": {
           "style": "light"
          },
          "paper_bgcolor": "white",
          "plot_bgcolor": "white",
          "polar": {
           "angularaxis": {
            "gridcolor": "#EBF0F8",
            "linecolor": "#EBF0F8",
            "ticks": ""
           },
           "bgcolor": "white",
           "radialaxis": {
            "gridcolor": "#EBF0F8",
            "linecolor": "#EBF0F8",
            "ticks": ""
           }
          },
          "scene": {
           "xaxis": {
            "backgroundcolor": "white",
            "gridcolor": "#DFE8F3",
            "gridwidth": 2,
            "linecolor": "#EBF0F8",
            "showbackground": true,
            "ticks": "",
            "zerolinecolor": "#EBF0F8"
           },
           "yaxis": {
            "backgroundcolor": "white",
            "gridcolor": "#DFE8F3",
            "gridwidth": 2,
            "linecolor": "#EBF0F8",
            "showbackground": true,
            "ticks": "",
            "zerolinecolor": "#EBF0F8"
           },
           "zaxis": {
            "backgroundcolor": "white",
            "gridcolor": "#DFE8F3",
            "gridwidth": 2,
            "linecolor": "#EBF0F8",
            "showbackground": true,
            "ticks": "",
            "zerolinecolor": "#EBF0F8"
           }
          },
          "shapedefaults": {
           "line": {
            "color": "#2a3f5f"
           }
          },
          "ternary": {
           "aaxis": {
            "gridcolor": "#DFE8F3",
            "linecolor": "#A2B1C6",
            "ticks": ""
           },
           "baxis": {
            "gridcolor": "#DFE8F3",
            "linecolor": "#A2B1C6",
            "ticks": ""
           },
           "bgcolor": "white",
           "caxis": {
            "gridcolor": "#DFE8F3",
            "linecolor": "#A2B1C6",
            "ticks": ""
           }
          },
          "title": {
           "x": 0.05
          },
          "xaxis": {
           "automargin": true,
           "gridcolor": "#EBF0F8",
           "linecolor": "#EBF0F8",
           "ticks": "",
           "title": {
            "standoff": 15
           },
           "zerolinecolor": "#EBF0F8",
           "zerolinewidth": 2
          },
          "yaxis": {
           "automargin": true,
           "gridcolor": "#EBF0F8",
           "linecolor": "#EBF0F8",
           "ticks": "",
           "title": {
            "standoff": 15
           },
           "zerolinecolor": "#EBF0F8",
           "zerolinewidth": 2
          }
         }
        },
        "title": {
         "text": "Previsão de Temperatura Média - João Pessoa (2026)"
        },
        "xaxis": {
         "title": {
          "text": "Dia do Ano"
         }
        },
        "yaxis": {
         "title": {
          "text": "Temperatura (°C)"
         }
        }
       }
      },
      "image/png": "[encoded data removed]",
      "text/html": [
       "<div>                            <div id=\"72686a0c-8b17-41b9-87e1-e6b1c6a30931\" class=\"plotly-graph-div\" style=\"height:525px; width:100%;\"></div>            <script type=\"text/javascript\">                require([\"plotly\"], function(Plotly) {                    window.PLOTLYENV=window.PLOTLYENV || {};                                    if (document.getElementById(\"72686a0c-8b17-41b9-87e1-e6b1c6a30931\")) {                    Plotly.newPlot(                        \"72686a0c-8b17-41b9-87e1-e6b1c6a30931\",                        [{\"line\":{\"color\":\"red\",\"width\":2},\"mode\":\"lines\",\"name\":\"Temperatura M\\u00e9dia\",\"x\":[0,1,2,3,4,5,6,7,8,9,10,11,12,13,14,15,16,17,18,19,20,21,22,23,24,25,26,27,28,29,30,31,32,33,34,35,36,37,38,39,40,41,42,43,44,45,46,47,48,49,50,51,52,53,54,55,56,57,58,59,60,61,62,63,64,65,66,67,68,69,70,71,72,73,74,75,76,77,78,79,80,81,82,83,84,85,86,87,88,89,90,91,92,93,94,95,96,97,98,99,100,101,102,103,104,105,106,107,108,109,110,111,112,113,114,115,116,117,118,119,120,121,122,123,124,125,126,127,128,129,130,131,132,133,134,135,136,137,138,139,140,141,142,143,144,145,146,147,148,149,150,151,152,153,154,155,156,157,158,159,160,161,162,163,164,165,166,167,168,169,170,171,172,173,174,175,176,177,178,179,180,181,182,183,184,185,186,187,188,189,190,191,192,193,194,195,196,197,198,199,200,201,202,203,204,205,206,207,208,209,210,211,212,213,214,215,216,217,218,219,220,221,222,223,224,225,226,227,228,229,230,231,232,233,234,235,236,237,238,239,240,241,242,243,244,245,246,247,248,249,250,251,252,253,254,255,256,257,258,259,260,261,262,263,264,265,266,267,268,269,270,271,272,273,274,275,276,277,278,279,280,281,282,283,284,285,286,287,288,289,290,291,292,293,294,295,296,297,298,299,300,301,302,303,304,305,306,307,308,309,310,311,312,313,314,315,316,317,318,319,320,321,322,323,324,325,326,327,328,329,330,331,332,333,334,335],\"y\":[27.74692851794835,27.75240131756762,27.75683885608429,27.760097771325274,27.762082954092893,27.76275144194657,27.76211417809022,27.760235563356172,27.75723081962756,27.753261272640856,27.748527747291273,27.743262345837984,27.73771894561032,27.732162805240115,27.726859704942118,27.72206506544081,27.718013491015896,27.71490916477556,27.712917489376007,27.71215831541729,27.712701034745663,27.71456173954324,27.717702563512162,27.7220332321253,27.72741475847598,27.733665133418288,27.740566777042883,27.747875446424047,28.008101832094198,28.013574631713464,28.01801217023013,28.021271085471117,28.023256268238736,28.023924756092413,28.02328749223606,28.021408877502015,28.0184041337734,28.0144345867867,28.009701061437116,28.004435659983827,27.998892259756165,27.99333611938596,27.98803301908796,27.983238379586652,27.97918680516174,27.976082478921402,27.97409080352185,27.973331629563134,27.973874348891506,27.97573505368908,27.978875877658005,27.98320654627114,27.988588072621823,27.99483844756413,28.001740091188726,28.00904876056989,27.693664635999983,27.699137435619253,27.70357497413592,27.706833889376906,27.708819072144525,27.709487559998202,27.708850296141847,27.706971681407804,27.70396693767919,27.699997390692484,27.695263865342906,27.689998463889616,27.68445506366195,27.678898923291744,27.673595822993747,27.66880118349244,27.664749609067528,27.66164528282719,27.659653607427636,27.658894433468923,27.659437152797295,27.661297857594867,27.66443868156379,27.668769350176927,27.67415087652761,27.680401251469917,27.68730289509451,27.69461156447568,27.103547310936438,27.109020110555708,27.113457649072373,27.11671656431336,27.118701747080976,27.119370234934657,27.118732971078302,27.11685435634426,27.113849612615645,27.109880065628936,27.105146540279357,27.099881138826067,27.094337738598405,27.088781598228195,27.0834784979302,27.078683858428892,27.07463228400398,27.071527957763646,27.06953628236409,27.068777108405374,27.06931982773375,27.071180532531322,27.074321356500246,27.07865202511338,27.084033551464064,27.09028392640637,27.097185570030966,27.10449423941213,26.277723271293702,26.28319607091297,26.287633609429637,26.290892524670625,26.292877707438244,26.29354619529192,26.29290893143557,26.291030316701523,26.28802557297291,26.284056025986203,26.279322500636624,26.27405709918333,26.26851369895567,26.262957558585462,26.25765445828747,26.252859818786156,26.248808244361243,26.24570391812091,26.243712242721358,26.24295306876264,26.24349578809101,26.245356492888586,26.24849731685751,26.252827985470645,26.258209511821327,26.26445988676364,26.27136153038823,26.278670199769397,25.52739985497739,25.53287265459666,25.537310193113324,25.540569108354312,25.542554291121927,25.543222778975608,25.542585515119253,25.54070690038521,25.537702156656596,25.533732609669887,25.528999084320308,25.523733682867018,25.518190282639356,25.51263414226915,25.507331041971153,25.502536402469843,25.49848482804493,25.495380501804597,25.49338882640504,25.492629652446325,25.493172371774698,25.495033076572273,25.498173900541197,25.502504569154333,25.507886095505015,25.514136470447323,25.521038114071917,25.52834678345308,25.008078635219597,25.013551434838863,25.017988973355532,25.021247888596516,25.023233071364135,25.023901559217812,25.02326429536146,25.021385680627414,25.0183809368988,25.014411389912095,25.009677864562516,25.004412463109226,24.998869062881564,24.993312922511354,24.98800982221336,24.98321518271205,24.979163608287138,24.9760592820468,24.97406760664725,24.973308432688533,24.973851152016906,24.975711856814478,24.9788526807834,24.98318334939654,24.988564875747223,24.99481525068953,25.001716894314125,25.00902556369529,24.9488397668599,24.95431256647917,24.958750104995836,24.962009020236824,24.96399420300444,24.96466269085812,24.964025427001765,24.962146812267722,24.95914206853911,24.955172521552402,24.95043899620282,24.94517359474953,24.939630194521868,24.93407405415166,24.928770953853665,24.923976314352355,24.919924739927442,24.91682041368711,24.914828738287554,24.914069564328837,24.91461228365721,24.916472988454785,24.91961381242371,24.923944481036845,24.929326007387527,24.935576382329835,24.94247802595443,24.949786695335593,25.35630980963792,25.361782609257187,25.366220147773852,25.36947906301484,25.37146424578246,25.372132733636136,25.371495469779784,25.369616855045738,25.366612111317124,25.362642564330418,25.35790903898084,25.35264363752755,25.347100237299884,25.341544096929677,25.336240996631684,25.33144635713037,25.32739478270546,25.324290456465125,25.322298781065573,25.321539607106857,25.32208232643523,25.3239430312328,25.327083855201725,25.331414523814864,25.336796050165542,25.343046425107854,25.34994806873245,25.357256738113612,26.112061047453498,26.117533847072767,26.121971385589433,26.12523030083042,26.127215483598036,26.127883971451716,26.12724670759536,26.12536809286132,26.122363349132705,26.118393802146,26.113660276796416,26.108394875343127,26.102851475115465,26.097295334745258,26.09199223444726,26.087197594945952,26.08314602052104,26.080041694280705,26.07805001888115,26.077290844922434,26.07783356425081,26.07969426904838,26.082835093017305,26.087165761630445,26.092547287981123,26.09879766292343,26.105699306548026,26.113007975929193,27.10351899984827,27.108991799467535,27.1134293379842,27.11668825322519,27.118673435992807,27.119341923846484,27.118704659990133,27.116826045256087,27.113821301527473,27.109851754540767,27.105118229191188,27.099852827737898,27.094309427510236,27.088753287140026,27.083450186842033,27.078655547340723,27.07460397291581,27.071499646675473,27.06950797127592,27.068748797317205,27.069291516645578,27.07115222144315,27.074293045412077,27.078623714025213,27.08400524037589,27.090255615318203,27.097157258942797,27.10446592832396,28.019476328916618,28.024949128535884,28.029386667052552,28.032645582293537,28.034630765061156,28.035299252914832,28.03466198905848,28.032783374324435,28.02977863059582,28.025809083609115,28.021075558259536,28.015810156806246,28.010266756578584,28.004710616208374,27.99940751591038,27.99461287640907,27.990561301984158,27.98745697574382,27.98546530034427,27.984706126385554,27.985248845713926,27.987109550511498,27.990250374480425,27.99458104309356,27.999962569444243,28.00621294438655,28.013114588011145,28.02042325739231],\"type\":\"scatter\"}],                        {\"template\":{\"data\":{\"barpolar\":[{\"marker\":{\"line\":{\"color\":\"white\",\"width\":0.5},\"pattern\":{\"fillmode\":\"overlay\",\"size\":10,\"solidity\":0.2}},\"type\":\"barpolar\"}],\"bar\":[{\"error_x\":{\"color\":\"#2a3f5f\"},\"error_y\":{\"color\":\"#2a3f5f\"},\"marker\":{\"line\":{\"color\":\"white\",\"width\":0.5},\"pattern\":{\"fillmode\":\"overlay\",\"size\":10,\"solidity\":0.2}},\"type\":\"bar\"}],\"carpet\":[{\"aaxis\":{\"endlinecolor\":\"#2a3f5f\",\"gridcolor\":\"#C8D4E3\",\"linecolor\":\"#C8D4E3\",\"minorgridcolor\":\"#C8D4E3\",\"startlinecolor\":\"#2a3f5f\"},\"baxis\":{\"endlinecolor\":\"#2a3f5f\",\"gridcolor\":\"#C8D4E3\",\"linecolor\":\"#C8D4E3\",\"minorgridcolor\":\"#C8D4E3\",\"startlinecolor\":\"#2a3f5f\"},\"type\":\"carpet\"}],\"choropleth\":[{\"colorbar\":{\"outlinewidth\":0,\"ticks\":\"\"},\"type\":\"choropleth\"}],\"contourcarpet\":[{\"colorbar\":{\"outlinewidth\":0,\"ticks\":\"\"},\"type\":\"contourcarpet\"}],\"contour\":[{\"colorbar\":{\"outlinewidth\":0,\"ticks\":\"\"},\"colorscale\":[[0.0,\"#0d0887\"],[0.1111111111111111,\"#46039f\"],[0.2222222222222222,\"#7201a8\"],[0.3333333333333333,\"#9c179e\"],[0.4444444444444444,\"#bd3786\"],[0.5555555555555556,\"#d8576b\"],[0.6666666666666666,\"#ed7953\"],[0.7777777777777778,\"#fb9f3a\"],[0.8888888888888888,\"#fdca26\"],[1.0,\"#f0f921\"]],\"type\":\"contour\"}],\"heatmapgl\":[{\"colorbar\":{\"outlinewidth\":0,\"ticks\":\"\"},\"colorscale\":[[0.0,\"#0d0887\"],[0.1111111111111111,\"#46039f\"],[0.2222222222222222,\"#7201a8\"],[0.3333333333333333,\"#9c179e\"],[0.4444444444444444,\"#bd3786\"],[0.5555555555555556,\"#d8576b\"],[0.6666666666666666,\"#ed7953\"],[0.7777777777777778,\"#fb9f3a\"],[0.8888888888888888,\"#fdca26\"],[1.0,\"#f0f921\"]],\"type\":\"heatmapgl\"}],\"heatmap\":[{\"colorbar\":{\"outlinewidth\":0,\"ticks\":\"\"},\"colorscale\":[[0.0,\"#0d0887\"],[0.1111111111111111,\"#46039f\"],[0.2222222222222222,\"#7201a8\"],[0.3333333333333333,\"#9c179e\"],[0.4444444444444444,\"#bd3786\"],[0.5555555555555556,\"#d8576b\"],[0.6666666666666666,\"#ed7953\"],[0.7777777777777778,\"#fb9f3a\"],[0.8888888888888888,\"#fdca26\"],[1.0,\"#f0f921\"]],\"type\":\"heatmap\"}],\"histogram2dcontour\":[{\"colorbar\":{\"outlinewidth\":0,\"ticks\":\"\"},\"colorscale\":[[0.0,\"#0d0887\"],[0.1111111111111111,\"#46039f\"],[0.2222222222222222,\"#7201a8\"],[0.3333333333333333,\"#9c179e\"],[0.4444444444444444,\"#bd3786\"],[0.5555555555555556,\"#d8576b\"],[0.6666666666666666,\"#ed7953\"],[0.7777777777777778,\"#fb9f3a\"],[0.8888888888888888,\"#fdca26\"],[1.0,\"#f0f921\"]],\"type\":\"histogram2dcontour\"}],\"histogram2d\":[{\"colorbar\":{\"outlinewidth\":0,\"ticks\":\"\"},\"colorscale\":[[0.0,\"#0d0887\"],[0.1111111111111111,\"#46039f\"],[0.2222222222222222,\"#7201a8\"],[0.3333333333333333,\"#9c179e\"],[0.4444444444444444,\"#bd3786\"],[0.5555555555555556,\"#d8576b\"],[0.6666666666666666,\"#ed7953\"],[0.7777777777777778,\"#fb9f3a\"],[0.8888888888888888,\"#fdca26\"],[1.0,\"#f0f921\"]],\"type\":\"histogram2d\"}],\"histogram\":[{\"marker\":{\"pattern\":{\"fillmode\":\"overlay\",\"size\":10,\"solidity\":0.2}},\"type\":\"histogram\"}],\"mesh3d\":[{\"colorbar\":{\"outlinewidth\":0,\"ticks\":\"\"},\"type\":\"mesh3d\"}],\"parcoords\":[{\"line\":{\"colorbar\":{\"outlinewidth\":0,\"ticks\":\"\"}},\"type\":\"parcoords\"}],\"pie\":[{\"automargin\":true,\"type\":\"pie\"}],\"scatter3d\":[{\"line\":{\"colorbar\":{\"outlinewidth\":0,\"ticks\":\"\"}},\"marker\":{\"colorbar\":{\"outlinewidth\":0,\"ticks\":\"\"}},\"type\":\"scatter3d\"}],\"scattercarpet\":[{\"marker\":{\"colorbar\":{\"outlinewidth\":0,\"ticks\":\"\"}},\"type\":\"scattercarpet\"}],\"scattergeo\":[{\"marker\":{\"colorbar\":{\"outlinewidth\":0,\"ticks\":\"\"}},\"type\":\"scattergeo\"}],\"scattergl\":[{\"marker\":{\"colorbar\":{\"outlinewidth\":0,\"ticks\":\"\"}},\"type\":\"scattergl\"}],\"scattermapbox\":[{\"marker\":{\"colorbar\":{\"outlinewidth\":0,\"ticks\":\"\"}},\"type\":\"scattermapbox\"}],\"scatterpolargl\":[{\"marker\":{\"colorbar\":{\"outlinewidth\":0,\"ticks\":\"\"}},\"type\":\"scatterpolargl\"}],\"scatterpolar\":[{\"marker\":{\"colorbar\":{\"outlinewidth\":0,\"ticks\":\"\"}},\"type\":\"scatterpolar\"}],\"scatter\":[{\"fillpattern\":{\"fillmode\":\"overlay\",\"size\":10,\"solidity\":0.2},\"type\":\"scatter\"}],\"scatterternary\":[{\"marker\":{\"colorbar\":{\"outlinewidth\":0,\"ticks\":\"\"}},\"type\":\"scatterternary\"}],\"surface\":[{\"colorbar\":{\"outlinewidth\":0,\"ticks\":\"\"},\"colorscale\":[[0.0,\"#0d0887\"],[0.1111111111111111,\"#46039f\"],[0.2222222222222222,\"#7201a8\"],[0.3333333333333333,\"#9c179e\"],[0.4444444444444444,\"#bd3786\"],[0.5555555555555556,\"#d8576b\"],[0.6666666666666666,\"#ed7953\"],[0.7777777777777778,\"#fb9f3a\"],[0.8888888888888888,\"#fdca26\"],[1.0,\"#f0f921\"]],\"type\":\"surface\"}],\"table\":[{\"cells\":{\"fill\":{\"color\":\"#EBF0F8\"},\"line\":{\"color\":\"white\"}},\"header\":{\"fill\":{\"color\":\"#C8D4E3\"},\"line\":{\"color\":\"white\"}},\"type\":\"table\"}]},\"layout\":{\"annotationdefaults\":{\"arrowcolor\":\"#2a3f5f\",\"arrowhead\":0,\"arrowwidth\":1},\"autotypenumbers\":\"strict\",\"coloraxis\":{\"colorbar\":{\"outlinewidth\":0,\"ticks\":\"\"}},\"colorscale\":{\"diverging\":[[0,\"#8e0152\"],[0.1,\"#c51b7d\"],[0.2,\"#de77ae\"],[0.3,\"#f1b6da\"],[0.4,\"#fde0ef\"],[0.5,\"#f7f7f7\"],[0.6,\"#e6f5d0\"],[0.7,\"#b8e186\"],[0.8,\"#7fbc41\"],[0.9,\"#4d9221\"],[1,\"#276419\"]],\"sequential\":[[0.0,\"#0d0887\"],[0.1111111111111111,\"#46039f\"],[0.2222222222222222,\"#7201a8\"],[0.3333333333333333,\"#9c179e\"],[0.4444444444444444,\"#bd3786\"],[0.5555555555555556,\"#d8576b\"],[0.6666666666666666,\"#ed7953\"],[0.7777777777777778,\"#fb9f3a\"],[0.8888888888888888,\"#fdca26\"],[1.0,\"#f0f921\"]],\"sequentialminus\":[[0.0,\"#0d0887\"],[0.1111111111111111,\"#46039f\"],[0.2222222222222222,\"#7201a8\"],[0.3333333333333333,\"#9c179e\"],[0.4444444444444444,\"#bd3786\"],[0.5555555555555556,\"#d8576b\"],[0.6666666666666666,\"#ed7953\"],[0.7777777777777778,\"#fb9f3a\"],[0.8888888888888888,\"#fdca26\"],[1.0,\"#f0f921\"]]},\"colorway\":[\"#636efa\",\"#EF553B\",\"#00cc96\",\"#ab63fa\",\"#FFA15A\",\"#19d3f3\",\"#FF6692\",\"#B6E880\",\"#FF97FF\",\"#FECB52\"],\"font\":{\"color\":\"#2a3f5f\"},\"geo\":{\"bgcolor\":\"white\",\"lakecolor\":\"white\",\"landcolor\":\"white\",\"showlakes\":true,\"showland\":true,\"subunitcolor\":\"#C8D4E3\"},\"hoverlabel\":{\"align\":\"left\"},\"hovermode\":\"closest\",\"mapbox\":{\"style\":\"light\"},\"paper_bgcolor\":\"white\",\"plot_bgcolor\":\"white\",\"polar\":{\"angularaxis\":{\"gridcolor\":\"#EBF0F8\",\"linecolor\":\"#EBF0F8\",\"ticks\":\"\"},\"bgcolor\":\"white\",\"radialaxis\":{\"gridcolor\":\"#EBF0F8\",\"linecolor\":\"#EBF0F8\",\"ticks\":\"\"}},\"scene\":{\"xaxis\":{\"backgroundcolor\":\"white\",\"gridcolor\":\"#DFE8F3\",\"gridwidth\":2,\"linecolor\":\"#EBF0F8\",\"showbackground\":true,\"ticks\":\"\",\"zerolinecolor\":\"#EBF0F8\"},\"yaxis\":{\"backgroundcolor\":\"white\",\"gridcolor\":\"#DFE8F3\",\"gridwidth\":2,\"linecolor\":\"#EBF0F8\",\"showbackground\":true,\"ticks\":\"\",\"zerolinecolor\":\"#EBF0F8\"},\"zaxis\":{\"backgroundcolor\":\"white\",\"gridcolor\":\"#DFE8F3\",\"gridwidth\":2,\"linecolor\":\"#EBF0F8\",\"showbackground\":true,\"ticks\":\"\",\"zerolinecolor\":\"#EBF0F8\"}},\"shapedefaults\":{\"line\":{\"color\":\"#2a3f5f\"}},\"ternary\":{\"aaxis\":{\"gridcolor\":\"#DFE8F3\",\"linecolor\":\"#A2B1C6\",\"ticks\":\"\"},\"baxis\":{\"gridcolor\":\"#DFE8F3\",\"linecolor\":\"#A2B1C6\",\"ticks\":\"\"},\"bgcolor\":\"white\",\"caxis\":{\"gridcolor\":\"#DFE8F3\",\"linecolor\":\"#A2B1C6\",\"ticks\":\"\"}},\"title\":{\"x\":0.05},\"xaxis\":{\"automargin\":true,\"gridcolor\":\"#EBF0F8\",\"linecolor\":\"#EBF0F8\",\"ticks\":\"\",\"title\":{\"standoff\":15},\"zerolinecolor\":\"#EBF0F8\",\"zerolinewidth\":2},\"yaxis\":{\"automargin\":true,\"gridcolor\":\"#EBF0F8\",\"linecolor\":\"#EBF0F8\",\"ticks\":\"\",\"title\":{\"standoff\":15},\"zerolinecolor\":\"#EBF0F8\",\"zerolinewidth\":2}}},\"title\":{\"text\":\"Previs\\u00e3o de Temperatura M\\u00e9dia - Jo\\u00e3o Pessoa (2026)\"},\"xaxis\":{\"title\":{\"text\":\"Dia do Ano\"}},\"yaxis\":{\"title\":{\"text\":\"Temperatura (\\u00b0C)\"}}},                        {\"responsive\": true}                    ).then(function(){\n",
       "                            \n",
       "var gd = document.getElementById('72686a0c-8b17-41b9-87e1-e6b1c6a30931');\n",
       "var x = new MutationObserver(function (mutations, observer) {{\n",
       "        var display = window.getComputedStyle(gd).display;\n",
       "        if (!display || display === 'none') {{\n",
       "            console.log([gd, 'removed!']);\n",
       "            Plotly.purge(gd);\n",
       "            observer.disconnect();\n",
       "        }}\n",
       "}});\n",
       "\n",
       "// Listen for the removal of the full notebook cells\n",
       "var notebookContainer = gd.closest('#notebook-container');\n",
       "if (notebookContainer) {{\n",
       "    x.observe(notebookContainer, {childList: true});\n",
       "}}\n",
       "\n",
       "// Listen for the clearing of the current output cell\n",
       "var outputEl = gd.closest('.output');\n",
       "if (outputEl) {{\n",
       "    x.observe(outputEl, {childList: true});\n",
       "}}\n",
       "\n",
       "                        })                };                });            </script>        </div>"
      ]
     },
     "metadata": {},
     "output_type": "display_data"
    },
    {
     "data": {
      "application/vnd.plotly.v1+json": {
       "config": {
        "plotlyServerURL": "https://plot.ly"
       },
       "data": [
        {
         "marker": {
          "color": "blue"
         },
         "name": "Precipitação",
         "type": "bar",
         "x": [
          0,
          1,
          2,
          3,
          4,
          5,
          6,
          7,
          8,
          9,
          10,
          11,
          12,
          13,
          14,
          15,
          16,
          17,
          18,
          19,
          20,
          21,
          22,
          23,
          24,
          25,
          26,
          27,
          28,
          29,
          30,
          31,
          32,
          33,
          34,
          35,
          36,
          37,
          38,
          39,
          40,
          41,
          42,
          43,
          44,
          45,
          46,
          47,
          48,
          49,
          50,
          51,
          52,
          53,
          54,
          55,
          56,
          57,
          58,
          59,
          60,
          61,
          62,
          63,
          64,
          65,
          66,
          67,
          68,
          69,
          70,
          71,
          72,
          73,
          74,
          75,
          76,
          77,
          78,
          79,
          80,
          81,
          82,
          83,
          84,
          85,
          86,
          87,
          88,
          89,
          90,
          91,
          92,
          93,
          94,
          95,
          96,
          97,
          98,
          99,
          100,
          101,
          102,
          103,
          104,
          105,
          106,
          107,
          108,
          109,
          110,
          111,
          112,
          113,
          114,
          115,
          116,
          117,
          118,
          119,
          120,
          121,
          122,
          123,
          124,
          125,
          126,
          127,
          128,
          129,
          130,
          131,
          132,
          133,
          134,
          135,
          136,
          137,
          138,
          139,
          140,
          141,
          142,
          143,
          144,
          145,
          146,
          147,
          148,
          149,
          150,
          151,
          152,
          153,
          154,
          155,
          156,
          157,
          158,
          159,
          160,
          161,
          162,
          163,
          164,
          165,
          166,
          167,
          168,
          169,
          170,
          171,
          172,
          173,
          174,
          175,
          176,
          177,
          178,
          179,
          180,
          181,
          182,
          183,
          184,
          185,
          186,
          187,
          188,
          189,
          190,
          191,
          192,
          193,
          194,
          195,
          196,
          197,
          198,
          199,
          200,
          201,
          202,
          203,
          204,
          205,
          206,
          207,
          208,
          209,
          210,
          211,
          212,
          213,
          214,
          215,
          216,
          217,
          218,
          219,
          220,
          221,
          222,
          223,
          224,
          225,
          226,
          227,
          228,
          229,
          230,
          231,
          232,
          233,
          234,
          235,
          236,
          237,
          238,
          239,
          240,
          241,
          242,
          243,
          244,
          245,
          246,
          247,
          248,
          249,
          250,
          251,
          252,
          253,
          254,
          255,
          256,
          257,
          258,
          259,
          260,
          261,
          262,
          263,
          264,
          265,
          266,
          267,
          268,
          269,
          270,
          271,
          272,
          273,
          274,
          275,
          276,
          277,
          278,
          279,
          280,
          281,
          282,
          283,
          284,
          285,
          286,
          287,
          288,
          289,
          290,
          291,
          292,
          293,
          294,
          295,
          296,
          297,
          298,
          299,
          300,
          301,
          302,
          303,
          304,
          305,
          306,
          307,
          308,
          309,
          310,
          311,
          312,
          313,
          314,
          315,
          316,
          317,
          318,
          319,
          320,
          321,
          322,
          323,
          324,
          325,
          326,
          327,
          328,
          329,
          330,
          331,
          332,
          333,
          334,
          335
         ],
         "y": [
          1.4900307732982094,
          1.4860512467837959,
          1.4893477945252007,
          1.500244044804357,
          1.5187524931883862,
          1.544573990959587,
          1.5771099922991114,
          1.615487058823093,
          1.6585926182527269,
          1.7051205132540703,
          1.7536244756727717,
          1.8025773369222344,
          1.8504335504449836,
          1.8956924665703268,
          1.936959769288193,
          1.9730045597104136,
          2.002809749215813,
          2.0256136991778737,
          2.040941402539599,
          2.0486239306582226,
          2.048805349263719,
          2.0419368203908492,
          2.028758131752487,
          2.010267409743716,
          1.9876802560299334,
          1.9623799806718685,
          1.9358609692491209,
          1.909667502538995,
          2.9782775173972977,
          2.9742979908828824,
          2.9775945386242855,
          2.9884907889034418,
          3.0069992372874745,
          3.0328207350586753,
          3.065356736398198,
          3.1037338029221777,
          3.146839362351815,
          3.1933672573531586,
          3.241871219771858,
          3.290824081021321,
          3.3386802945440683,
          3.383939210669415,
          3.4252065133872813,
          3.4612513038095,
          3.4910564933148995,
          3.5138604432769585,
          3.5291881466386856,
          3.536870674757311,
          3.537052093362804,
          3.5301835644899375,
          3.5170048758515717,
          3.4985141538428026,
          3.4759270001290217,
          3.4506267247709532,
          3.424107713348209,
          3.39791424663808,
          4.290421869579268,
          4.286442343064855,
          4.289738890806258,
          4.300635141085416,
          4.319143589469443,
          4.344965087240646,
          4.37750108858017,
          4.41587815510415,
          4.458983714533786,
          4.505511609535129,
          4.554015571953831,
          4.602968433203293,
          4.650824646726041,
          4.696083562851386,
          4.737350865569254,
          4.7733956559914725,
          4.803200845496872,
          4.826004795458932,
          4.841332498820656,
          4.849015026939283,
          4.849196445544776,
          4.842327916671908,
          4.829149228033545,
          4.810658506024773,
          4.788071352310995,
          4.762771076952926,
          4.73625206553018,
          4.710058598820053,
          5.468576042007409,
          5.464596515492993,
          5.467893063234397,
          5.4787893135135555,
          5.497297761897584,
          5.523119259668786,
          5.555655261008309,
          5.59403232753229,
          5.6371378869619235,
          5.683665781963268,
          5.73216974438197,
          5.781122605631432,
          5.828978819154181,
          5.874237735279523,
          5.9155050379973915,
          5.951549828419612,
          5.981355017925011,
          6.004158967887071,
          6.019486671248795,
          6.027169199367423,
          6.027350617972917,
          6.020482089100047,
          6.007303400461686,
          5.988812678452912,
          5.966225524739133,
          5.940925249381064,
          5.914406237958319,
          5.8882127712481935,
          5.914362871878252,
          5.910383345363836,
          5.91367989310524,
          5.9245761433843995,
          5.943084591768427,
          5.96890608953963,
          6.001442090879152,
          6.039819157403135,
          6.082924716832766,
          6.129452611834113,
          6.177956574252814,
          6.226909435502275,
          6.2747656490250225,
          6.320024565150366,
          6.3612918678682355,
          6.397336658290455,
          6.427141847795853,
          6.449945797757913,
          6.465273501119638,
          6.472956029238267,
          6.47313744784376,
          6.466268918970891,
          6.453090230332528,
          6.434599508323756,
          6.412012354609976,
          6.386712079251907,
          6.360193067829163,
          6.333999601119036,
          5.647244074018207,
          5.64326454750379,
          5.646561095245194,
          5.657457345524353,
          5.675965793908382,
          5.701787291679585,
          5.734323293019107,
          5.772700359543089,
          5.815805918972721,
          5.862333813974066,
          5.910837776392769,
          5.959790637642229,
          6.007646851164977,
          6.052905767290322,
          6.09417307000819,
          6.130217860430409,
          6.160023049935806,
          6.182826999897868,
          6.198154703259593,
          6.20583723137822,
          6.206018649983714,
          6.199150121110844,
          6.185971432472483,
          6.1674807104637095,
          6.144893556749931,
          6.119593281391862,
          6.093074269969116,
          6.06688080325899,
          4.603205456720226,
          4.599225930205812,
          4.602522477947215,
          4.6134187282263746,
          4.631927176610403,
          4.657748674381605,
          4.690284675721127,
          4.728661742245109,
          4.771767301674743,
          4.818295196676087,
          4.866799159094788,
          4.91575202034425,
          4.963608233866998,
          5.008867149992342,
          5.0501344527102106,
          5.086179243132429,
          5.115984432637827,
          5.138788382599889,
          5.154116085961613,
          5.161798614080242,
          5.161980032685735,
          5.155111503812865,
          5.141932815174503,
          5.12344209316573,
          5.100854939451952,
          5.0755546640938825,
          5.049035652671137,
          5.022842185961011,
          3.2009062602429434,
          3.196926733728528,
          3.2002232814699316,
          3.211119531749091,
          3.22962798013312,
          3.255449477904321,
          3.287985479243844,
          3.3263625457678265,
          3.36946810519746,
          3.415996000198804,
          3.464499962617506,
          3.5134528238669667,
          3.561309037389715,
          3.606567953515059,
          3.6478352562329275,
          3.6838800466551467,
          3.713685236160544,
          3.7364891861226055,
          3.751816889484331,
          3.7594994176029592,
          3.7596808362084517,
          3.752812307335582,
          3.73963361869722,
          3.721142896688448,
          3.6985557429746687,
          3.6732554676166,
          3.646736456193854,
          3.6205429894837273,
          1.7540545868850215,
          1.7500750603706052,
          1.7533716081120092,
          1.764267858391169,
          1.7827763067751983,
          1.808597804546399,
          1.8411338058859226,
          1.879510872409905,
          1.9226164318395362,
          1.9691443268408824,
          2.017648289259583,
          2.0666011505090447,
          2.114457364031793,
          2.159716280157136,
          2.200983582875006,
          2.237028373297224,
          2.2668335628026224,
          2.289637512764683,
          2.3049652161264076,
          2.3126477442450364,
          2.3128291628505293,
          2.3059606339776604,
          2.292781945339298,
          2.2742912233305246,
          2.251704069616747,
          2.226403794258677,
          2.199884782835933,
          2.1736913161258054,
          0.5882963391460976,
          0.584316812631684,
          0.5876133603730871,
          0.5985096106522487,
          0.6170180590362753,
          0.6428395568074752,
          0.6753755581469996,
          0.7137526246709793,
          0.7568581841006168,
          0.8033860791019594,
          0.8518900415206581,
          0.9008429027701235,
          0.94869911629287,
          0.9939580324182167,
          1.035225335136082,
          1.0712701255583008,
          1.1010753150637012,
          1.123879265025761,
          1.1392069683874881,
          1.1468894965061116,
          1.147070915111608,
          1.1402023862387383,
          1.1270236976003742,
          1.1085329755916051,
          1.0859458218778224,
          1.0606455465197575,
          1.03412653509701,
          1.0079330683868823,
          0.15490543396447354,
          0.15092590745005996,
          0.15422245519146305,
          0.16511870547062468,
          0.18362715385465034,
          0.2094486516258529,
          0.24198465296537552,
          0.2803617194893553,
          0.32346727891899274,
          0.36999517392033443,
          0.4184991363390358,
          0.4674519975885003,
          0.5153082111112459,
          0.5605671272365926,
          0.6018344299544571,
          0.6378792203766777,
          0.6676844098820789,
          0.690488359844136,
          0.7058160632058632,
          0.7134985913244885,
          0.7136800099299814,
          0.7068114810571151,
          0.6936327924187493,
          0.6751420704099802,
          0.6525549166961992,
          0.6272546413381308,
          0.6007356299153868,
          0.5745421632052574,
          0.43442015651373733,
          0.430440629999322,
          0.43373717774072684,
          0.4446334280198849,
          0.46314187640391236,
          0.48896337417511493,
          0.5214993755146375,
          0.5598764420386191,
          0.602982001468253,
          0.6495098964695964,
          0.6980138588882996,
          0.7469667201377606,
          0.7948229336605097,
          0.8400818497858529,
          0.8813491525037191,
          0.9173939429259415,
          0.9471991324313391,
          0.9700030823933998,
          0.9853307857551235,
          0.9930133138737487,
          0.9931947324792452,
          0.9863262036063754,
          0.9731475149680131,
          0.9546567929592422,
          0.9320696392454613,
          0.9067693638873946,
          0.880250352464647,
          0.8540568857545212
         ]
        }
       ],
       "layout": {
        "template": {
         "data": {
          "bar": [
           {
            "error_x": {
             "color": "#2a3f5f"
            },
            "error_y": {
             "color": "#2a3f5f"
            },
            "marker": {
             "line": {
              "color": "white",
              "width": 0.5
             },
             "pattern": {
              "fillmode": "overlay",
              "size": 10,
              "solidity": 0.2
             }
            },
            "type": "bar"
           }
          ],
          "barpolar": [
           {
            "marker": {
             "line": {
              "color": "white",
              "width": 0.5
             },
             "pattern": {
              "fillmode": "overlay",
              "size": 10,
              "solidity": 0.2
             }
            },
            "type": "barpolar"
           }
          ],
          "carpet": [
           {
            "aaxis": {
             "endlinecolor": "#2a3f5f",
             "gridcolor": "#C8D4E3",
             "linecolor": "#C8D4E3",
             "minorgridcolor": "#C8D4E3",
             "startlinecolor": "#2a3f5f"
            },
            "baxis": {
             "endlinecolor": "#2a3f5f",
             "gridcolor": "#C8D4E3",
             "linecolor": "#C8D4E3",
             "minorgridcolor": "#C8D4E3",
             "startlinecolor": "#2a3f5f"
            },
            "type": "carpet"
           }
          ],
          "choropleth": [
           {
            "colorbar": {
             "outlinewidth": 0,
             "ticks": ""
            },
            "type": "choropleth"
           }
          ],
          "contour": [
           {
            "colorbar": {
             "outlinewidth": 0,
             "ticks": ""
            },
            "colorscale": [
             [
              0,
              "#0d0887"
             ],
             [
              0.1111111111111111,
              "#46039f"
             ],
             [
              0.2222222222222222,
              "#7201a8"
             ],
             [
              0.3333333333333333,
              "#9c179e"
             ],
             [
              0.4444444444444444,
              "#bd3786"
             ],
             [
              0.5555555555555556,
              "#d8576b"
             ],
             [
              0.6666666666666666,
              "#ed7953"
             ],
             [
              0.7777777777777778,
              "#fb9f3a"
             ],
             [
              0.8888888888888888,
              "#fdca26"
             ],
             [
              1,
              "#f0f921"
             ]
            ],
            "type": "contour"
           }
          ],
          "contourcarpet": [
           {
            "colorbar": {
             "outlinewidth": 0,
             "ticks": ""
            },
            "type": "contourcarpet"
           }
          ],
          "heatmap": [
           {
            "colorbar": {
             "outlinewidth": 0,
             "ticks": ""
            },
            "colorscale": [
             [
              0,
              "#0d0887"
             ],
             [
              0.1111111111111111,
              "#46039f"
             ],
             [
              0.2222222222222222,
              "#7201a8"
             ],
             [
              0.3333333333333333,
              "#9c179e"
             ],
             [
              0.4444444444444444,
              "#bd3786"
             ],
             [
              0.5555555555555556,
              "#d8576b"
             ],
             [
              0.6666666666666666,
              "#ed7953"
             ],
             [
              0.7777777777777778,
              "#fb9f3a"
             ],
             [
              0.8888888888888888,
              "#fdca26"
             ],
             [
              1,
              "#f0f921"
             ]
            ],
            "type": "heatmap"
           }
          ],
          "heatmapgl": [
           {
            "colorbar": {
             "outlinewidth": 0,
             "ticks": ""
            },
            "colorscale": [
             [
              0,
              "#0d0887"
             ],
             [
              0.1111111111111111,
              "#46039f"
             ],
             [
              0.2222222222222222,
              "#7201a8"
             ],
             [
              0.3333333333333333,
              "#9c179e"
             ],
             [
              0.4444444444444444,
              "#bd3786"
             ],
             [
              0.5555555555555556,
              "#d8576b"
             ],
             [
              0.6666666666666666,
              "#ed7953"
             ],
             [
              0.7777777777777778,
              "#fb9f3a"
             ],
             [
              0.8888888888888888,
              "#fdca26"
             ],
             [
              1,
              "#f0f921"
             ]
            ],
            "type": "heatmapgl"
           }
          ],
          "histogram": [
           {
            "marker": {
             "pattern": {
              "fillmode": "overlay",
              "size": 10,
              "solidity": 0.2
             }
            },
            "type": "histogram"
           }
          ],
          "histogram2d": [
           {
            "colorbar": {
             "outlinewidth": 0,
             "ticks": ""
            },
            "colorscale": [
             [
              0,
              "#0d0887"
             ],
             [
              0.1111111111111111,
              "#46039f"
             ],
             [
              0.2222222222222222,
              "#7201a8"
             ],
             [
              0.3333333333333333,
              "#9c179e"
             ],
             [
              0.4444444444444444,
              "#bd3786"
             ],
             [
              0.5555555555555556,
              "#d8576b"
             ],
             [
              0.6666666666666666,
              "#ed7953"
             ],
             [
              0.7777777777777778,
              "#fb9f3a"
             ],
             [
              0.8888888888888888,
              "#fdca26"
             ],
             [
              1,
              "#f0f921"
             ]
            ],
            "type": "histogram2d"
           }
          ],
          "histogram2dcontour": [
           {
            "colorbar": {
             "outlinewidth": 0,
             "ticks": ""
            },
            "colorscale": [
             [
              0,
              "#0d0887"
             ],
             [
              0.1111111111111111,
              "#46039f"
             ],
             [
              0.2222222222222222,
              "#7201a8"
             ],
             [
              0.3333333333333333,
              "#9c179e"
             ],
             [
              0.4444444444444444,
              "#bd3786"
             ],
             [
              0.5555555555555556,
              "#d8576b"
             ],
             [
              0.6666666666666666,
              "#ed7953"
             ],
             [
              0.7777777777777778,
              "#fb9f3a"
             ],
             [
              0.8888888888888888,
              "#fdca26"
             ],
             [
              1,
              "#f0f921"
             ]
            ],
            "type": "histogram2dcontour"
           }
          ],
          "mesh3d": [
           {
            "colorbar": {
             "outlinewidth": 0,
             "ticks": ""
            },
            "type": "mesh3d"
           }
          ],
          "parcoords": [
           {
            "line": {
             "colorbar": {
              "outlinewidth": 0,
              "ticks": ""
             }
            },
            "type": "parcoords"
           }
          ],
          "pie": [
           {
            "automargin": true,
            "type": "pie"
           }
          ],
          "scatter": [
           {
            "fillpattern": {
             "fillmode": "overlay",
             "size": 10,
             "solidity": 0.2
            },
            "type": "scatter"
           }
          ],
          "scatter3d": [
           {
            "line": {
             "colorbar": {
              "outlinewidth": 0,
              "ticks": ""
             }
            },
            "marker": {
             "colorbar": {
              "outlinewidth": 0,
              "ticks": ""
             }
            },
            "type": "scatter3d"
           }
          ],
          "scattercarpet": [
           {
            "marker": {
             "colorbar": {
              "outlinewidth": 0,
              "ticks": ""
             }
            },
            "type": "scattercarpet"
           }
          ],
          "scattergeo": [
           {
            "marker": {
             "colorbar": {
              "outlinewidth": 0,
              "ticks": ""
             }
            },
            "type": "scattergeo"
           }
          ],
          "scattergl": [
           {
            "marker": {
             "colorbar": {
              "outlinewidth": 0,
              "ticks": ""
             }
            },
            "type": "scattergl"
           }
          ],
          "scattermapbox": [
           {
            "marker": {
             "colorbar": {
              "outlinewidth": 0,
              "ticks": ""
             }
            },
            "type": "scattermapbox"
           }
          ],
          "scatterpolar": [
           {
            "marker": {
             "colorbar": {
              "outlinewidth": 0,
              "ticks": ""
             }
            },
            "type": "scatterpolar"
           }
          ],
          "scatterpolargl": [
           {
            "marker": {
             "colorbar": {
              "outlinewidth": 0,
              "ticks": ""
             }
            },
            "type": "scatterpolargl"
           }
          ],
          "scatterternary": [
           {
            "marker": {
             "colorbar": {
              "outlinewidth": 0,
              "ticks": ""
             }
            },
            "type": "scatterternary"
           }
          ],
          "surface": [
           {
            "colorbar": {
             "outlinewidth": 0,
             "ticks": ""
            },
            "colorscale": [
             [
              0,
              "#0d0887"
             ],
             [
              0.1111111111111111,
              "#46039f"
             ],
             [
              0.2222222222222222,
              "#7201a8"
             ],
             [
              0.3333333333333333,
              "#9c179e"
             ],
             [
              0.4444444444444444,
              "#bd3786"
             ],
             [
              0.5555555555555556,
              "#d8576b"
             ],
             [
              0.6666666666666666,
              "#ed7953"
             ],
             [
              0.7777777777777778,
              "#fb9f3a"
             ],
             [
              0.8888888888888888,
              "#fdca26"
             ],
             [
              1,
              "#f0f921"
             ]
            ],
            "type": "surface"
           }
          ],
          "table": [
           {
            "cells": {
             "fill": {
              "color": "#EBF0F8"
             },
             "line": {
              "color": "white"
             }
            },
            "header": {
             "fill": {
              "color": "#C8D4E3"
             },
             "line": {
              "color": "white"
             }
            },
            "type": "table"
           }
          ]
         },
         "layout": {
          "annotationdefaults": {
           "arrowcolor": "#2a3f5f",
           "arrowhead": 0,
           "arrowwidth": 1
          },
          "autotypenumbers": "strict",
          "coloraxis": {
           "colorbar": {
            "outlinewidth": 0,
            "ticks": ""
           }
          },
          "colorscale": {
           "diverging": [
            [
             0,
             "#8e0152"
            ],
            [
             0.1,
             "#c51b7d"
            ],
            [
             0.2,
             "#de77ae"
            ],
            [
             0.3,
             "#f1b6da"
            ],
            [
             0.4,
             "#fde0ef"
            ],
            [
             0.5,
             "#f7f7f7"
            ],
            [
             0.6,
             "#e6f5d0"
            ],
            [
             0.7,
             "#b8e186"
            ],
            [
             0.8,
             "#7fbc41"
            ],
            [
             0.9,
             "#4d9221"
            ],
            [
             1,
             "#276419"
            ]
           ],
           "sequential": [
            [
             0,
             "#0d0887"
            ],
            [
             0.1111111111111111,
             "#46039f"
            ],
            [
             0.2222222222222222,
             "#7201a8"
            ],
            [
             0.3333333333333333,
             "#9c179e"
            ],
            [
             0.4444444444444444,
             "#bd3786"
            ],
            [
             0.5555555555555556,
             "#d8576b"
            ],
            [
             0.6666666666666666,
             "#ed7953"
            ],
            [
             0.7777777777777778,
             "#fb9f3a"
            ],
            [
             0.8888888888888888,
             "#fdca26"
            ],
            [
             1,
             "#f0f921"
            ]
           ],
           "sequentialminus": [
            [
             0,
             "#0d0887"
            ],
            [
             0.1111111111111111,
             "#46039f"
            ],
            [
             0.2222222222222222,
             "#7201a8"
            ],
            [
             0.3333333333333333,
             "#9c179e"
            ],
            [
             0.4444444444444444,
             "#bd3786"
            ],
            [
             0.5555555555555556,
             "#d8576b"
            ],
            [
             0.6666666666666666,
             "#ed7953"
            ],
            [
             0.7777777777777778,
             "#fb9f3a"
            ],
            [
             0.8888888888888888,
             "#fdca26"
            ],
            [
             1,
             "#f0f921"
            ]
           ]
          },
          "colorway": [
           "#636efa",
           "#EF553B",
           "#00cc96",
           "#ab63fa",
           "#FFA15A",
           "#19d3f3",
           "#FF6692",
           "#B6E880",
           "#FF97FF",
           "#FECB52"
          ],
          "font": {
           "color": "#2a3f5f"
          },
          "geo": {
           "bgcolor": "white",
           "lakecolor": "white",
           "landcolor": "white",
           "showlakes": true,
           "showland": true,
           "subunitcolor": "#C8D4E3"
          },
          "hoverlabel": {
           "align": "left"
          },
          "hovermode": "closest",
          "mapbox": {
           "style": "light"
          },
          "paper_bgcolor": "white",
          "plot_bgcolor": "white",
          "polar": {
           "angularaxis": {
            "gridcolor": "#EBF0F8",
            "linecolor": "#EBF0F8",
            "ticks": ""
           },
           "bgcolor": "white",
           "radialaxis": {
            "gridcolor": "#EBF0F8",
            "linecolor": "#EBF0F8",
            "ticks": ""
           }
          },
          "scene": {
           "xaxis": {
            "backgroundcolor": "white",
            "gridcolor": "#DFE8F3",
            "gridwidth": 2,
            "linecolor": "#EBF0F8",
            "showbackground": true,
            "ticks": "",
            "zerolinecolor": "#EBF0F8"
           },
           "yaxis": {
            "backgroundcolor": "white",
            "gridcolor": "#DFE8F3",
            "gridwidth": 2,
            "linecolor": "#EBF0F8",
            "showbackground": true,
            "ticks": "",
            "zerolinecolor": "#EBF0F8"
           },
           "zaxis": {
            "backgroundcolor": "white",
            "gridcolor": "#DFE8F3",
            "gridwidth": 2,
            "linecolor": "#EBF0F8",
            "showbackground": true,
            "ticks": "",
            "zerolinecolor": "#EBF0F8"
           }
          },
          "shapedefaults": {
           "line": {
            "color": "#2a3f5f"
           }
          },
          "ternary": {
           "aaxis": {
            "gridcolor": "#DFE8F3",
            "linecolor": "#A2B1C6",
            "ticks": ""
           },
           "baxis": {
            "gridcolor": "#DFE8F3",
            "linecolor": "#A2B1C6",
            "ticks": ""
           },
           "bgcolor": "white",
           "caxis": {
            "gridcolor": "#DFE8F3",
            "linecolor": "#A2B1C6",
            "ticks": ""
           }
          },
          "title": {
           "x": 0.05
          },
          "xaxis": {
           "automargin": true,
           "gridcolor": "#EBF0F8",
           "linecolor": "#EBF0F8",
           "ticks": "",
           "title": {
            "standoff": 15
           },
           "zerolinecolor": "#EBF0F8",
           "zerolinewidth": 2
          },
          "yaxis": {
           "automargin": true,
           "gridcolor": "#EBF0F8",
           "linecolor": "#EBF0F8",
           "ticks": "",
           "title": {
            "standoff": 15
           },
           "zerolinecolor": "#EBF0F8",
           "zerolinewidth": 2
          }
         }
        },
        "title": {
         "text": "Previsão de Precipitação - João Pessoa (2026)"
        },
        "xaxis": {
         "title": {
          "text": "Dia do Ano"
         }
        },
        "yaxis": {
         "title": {
          "text": "Precipitação (mm)"
         }
        }
       }
      },
      "image/png": "[encoded data removed]",
      "text/html": [
       "<div>                            <div id=\"9cfdb62e-46df-41a8-bba6-f5194b244119\" class=\"plotly-graph-div\" style=\"height:525px; width:100%;\"></div>            <script type=\"text/javascript\">                require([\"plotly\"], function(Plotly) {                    window.PLOTLYENV=window.PLOTLYENV || {};                                    if (document.getElementById(\"9cfdb62e-46df-41a8-bba6-f5194b244119\")) {                    Plotly.newPlot(                        \"9cfdb62e-46df-41a8-bba6-f5194b244119\",                        [{\"marker\":{\"color\":\"blue\"},\"name\":\"Precipita\\u00e7\\u00e3o\",\"x\":[0,1,2,3,4,5,6,7,8,9,10,11,12,13,14,15,16,17,18,19,20,21,22,23,24,25,26,27,28,29,30,31,32,33,34,35,36,37,38,39,40,41,42,43,44,45,46,47,48,49,50,51,52,53,54,55,56,57,58,59,60,61,62,63,64,65,66,67,68,69,70,71,72,73,74,75,76,77,78,79,80,81,82,83,84,85,86,87,88,89,90,91,92,93,94,95,96,97,98,99,100,101,102,103,104,105,106,107,108,109,110,111,112,113,114,115,116,117,118,119,120,121,122,123,124,125,126,127,128,129,130,131,132,133,134,135,136,137,138,139,140,141,142,143,144,145,146,147,148,149,150,151,152,153,154,155,156,157,158,159,160,161,162,163,164,165,166,167,168,169,170,171,172,173,174,175,176,177,178,179,180,181,182,183,184,185,186,187,188,189,190,191,192,193,194,195,196,197,198,199,200,201,202,203,204,205,206,207,208,209,210,211,212,213,214,215,216,217,218,219,220,221,222,223,224,225,226,227,228,229,230,231,232,233,234,235,236,237,238,239,240,241,242,243,244,245,246,247,248,249,250,251,252,253,254,255,256,257,258,259,260,261,262,263,264,265,266,267,268,269,270,271,272,273,274,275,276,277,278,279,280,281,282,283,284,285,286,287,288,289,290,291,292,293,294,295,296,297,298,299,300,301,302,303,304,305,306,307,308,309,310,311,312,313,314,315,316,317,318,319,320,321,322,323,324,325,326,327,328,329,330,331,332,333,334,335],\"y\":[1.4900307732982094,1.4860512467837959,1.4893477945252007,1.500244044804357,1.5187524931883862,1.544573990959587,1.5771099922991114,1.615487058823093,1.6585926182527269,1.7051205132540703,1.7536244756727717,1.8025773369222344,1.8504335504449836,1.8956924665703268,1.936959769288193,1.9730045597104136,2.002809749215813,2.0256136991778737,2.040941402539599,2.0486239306582226,2.048805349263719,2.0419368203908492,2.028758131752487,2.010267409743716,1.9876802560299334,1.9623799806718685,1.9358609692491209,1.909667502538995,2.9782775173972977,2.9742979908828824,2.9775945386242855,2.9884907889034418,3.0069992372874745,3.0328207350586753,3.065356736398198,3.1037338029221777,3.146839362351815,3.1933672573531586,3.241871219771858,3.290824081021321,3.3386802945440683,3.383939210669415,3.4252065133872813,3.4612513038095,3.4910564933148995,3.5138604432769585,3.5291881466386856,3.536870674757311,3.537052093362804,3.5301835644899375,3.5170048758515717,3.4985141538428026,3.4759270001290217,3.4506267247709532,3.424107713348209,3.39791424663808,4.290421869579268,4.286442343064855,4.289738890806258,4.300635141085416,4.319143589469443,4.344965087240646,4.37750108858017,4.41587815510415,4.458983714533786,4.505511609535129,4.554015571953831,4.602968433203293,4.650824646726041,4.696083562851386,4.737350865569254,4.7733956559914725,4.803200845496872,4.826004795458932,4.841332498820656,4.849015026939283,4.849196445544776,4.842327916671908,4.829149228033545,4.810658506024773,4.788071352310995,4.762771076952926,4.73625206553018,4.710058598820053,5.468576042007409,5.464596515492993,5.467893063234397,5.4787893135135555,5.497297761897584,5.523119259668786,5.555655261008309,5.59403232753229,5.6371378869619235,5.683665781963268,5.73216974438197,5.781122605631432,5.828978819154181,5.874237735279523,5.9155050379973915,5.951549828419612,5.981355017925011,6.004158967887071,6.019486671248795,6.027169199367423,6.027350617972917,6.020482089100047,6.007303400461686,5.988812678452912,5.966225524739133,5.940925249381064,5.914406237958319,5.8882127712481935,5.914362871878252,5.910383345363836,5.91367989310524,5.9245761433843995,5.943084591768427,5.96890608953963,6.001442090879152,6.039819157403135,6.082924716832766,6.129452611834113,6.177956574252814,6.226909435502275,6.2747656490250225,6.320024565150366,6.3612918678682355,6.397336658290455,6.427141847795853,6.449945797757913,6.465273501119638,6.472956029238267,6.47313744784376,6.466268918970891,6.453090230332528,6.434599508323756,6.412012354609976,6.386712079251907,6.360193067829163,6.333999601119036,5.647244074018207,5.64326454750379,5.646561095245194,5.657457345524353,5.675965793908382,5.701787291679585,5.734323293019107,5.772700359543089,5.815805918972721,5.862333813974066,5.910837776392769,5.959790637642229,6.007646851164977,6.052905767290322,6.09417307000819,6.130217860430409,6.160023049935806,6.182826999897868,6.198154703259593,6.20583723137822,6.206018649983714,6.199150121110844,6.185971432472483,6.1674807104637095,6.144893556749931,6.119593281391862,6.093074269969116,6.06688080325899,4.603205456720226,4.599225930205812,4.602522477947215,4.6134187282263746,4.631927176610403,4.657748674381605,4.690284675721127,4.728661742245109,4.771767301674743,4.818295196676087,4.866799159094788,4.91575202034425,4.963608233866998,5.008867149992342,5.0501344527102106,5.086179243132429,5.115984432637827,5.138788382599889,5.154116085961613,5.161798614080242,5.161980032685735,5.155111503812865,5.141932815174503,5.12344209316573,5.100854939451952,5.0755546640938825,5.049035652671137,5.022842185961011,3.2009062602429434,3.196926733728528,3.2002232814699316,3.211119531749091,3.22962798013312,3.255449477904321,3.287985479243844,3.3263625457678265,3.36946810519746,3.415996000198804,3.464499962617506,3.5134528238669667,3.561309037389715,3.606567953515059,3.6478352562329275,3.6838800466551467,3.713685236160544,3.7364891861226055,3.751816889484331,3.7594994176029592,3.7596808362084517,3.752812307335582,3.73963361869722,3.721142896688448,3.6985557429746687,3.6732554676166,3.646736456193854,3.6205429894837273,1.7540545868850215,1.7500750603706052,1.7533716081120092,1.764267858391169,1.7827763067751983,1.808597804546399,1.8411338058859226,1.879510872409905,1.9226164318395362,1.9691443268408824,2.017648289259583,2.0666011505090447,2.114457364031793,2.159716280157136,2.200983582875006,2.237028373297224,2.2668335628026224,2.289637512764683,2.3049652161264076,2.3126477442450364,2.3128291628505293,2.3059606339776604,2.292781945339298,2.2742912233305246,2.251704069616747,2.226403794258677,2.199884782835933,2.1736913161258054,0.5882963391460976,0.584316812631684,0.5876133603730871,0.5985096106522487,0.6170180590362753,0.6428395568074752,0.6753755581469996,0.7137526246709793,0.7568581841006168,0.8033860791019594,0.8518900415206581,0.9008429027701235,0.94869911629287,0.9939580324182167,1.035225335136082,1.0712701255583008,1.1010753150637012,1.123879265025761,1.1392069683874881,1.1468894965061116,1.147070915111608,1.1402023862387383,1.1270236976003742,1.1085329755916051,1.0859458218778224,1.0606455465197575,1.03412653509701,1.0079330683868823,0.15490543396447354,0.15092590745005996,0.15422245519146305,0.16511870547062468,0.18362715385465034,0.2094486516258529,0.24198465296537552,0.2803617194893553,0.32346727891899274,0.36999517392033443,0.4184991363390358,0.4674519975885003,0.5153082111112459,0.5605671272365926,0.6018344299544571,0.6378792203766777,0.6676844098820789,0.690488359844136,0.7058160632058632,0.7134985913244885,0.7136800099299814,0.7068114810571151,0.6936327924187493,0.6751420704099802,0.6525549166961992,0.6272546413381308,0.6007356299153868,0.5745421632052574,0.43442015651373733,0.430440629999322,0.43373717774072684,0.4446334280198849,0.46314187640391236,0.48896337417511493,0.5214993755146375,0.5598764420386191,0.602982001468253,0.6495098964695964,0.6980138588882996,0.7469667201377606,0.7948229336605097,0.8400818497858529,0.8813491525037191,0.9173939429259415,0.9471991324313391,0.9700030823933998,0.9853307857551235,0.9930133138737487,0.9931947324792452,0.9863262036063754,0.9731475149680131,0.9546567929592422,0.9320696392454613,0.9067693638873946,0.880250352464647,0.8540568857545212],\"type\":\"bar\"}],                        {\"template\":{\"data\":{\"barpolar\":[{\"marker\":{\"line\":{\"color\":\"white\",\"width\":0.5},\"pattern\":{\"fillmode\":\"overlay\",\"size\":10,\"solidity\":0.2}},\"type\":\"barpolar\"}],\"bar\":[{\"error_x\":{\"color\":\"#2a3f5f\"},\"error_y\":{\"color\":\"#2a3f5f\"},\"marker\":{\"line\":{\"color\":\"white\",\"width\":0.5},\"pattern\":{\"fillmode\":\"overlay\",\"size\":10,\"solidity\":0.2}},\"type\":\"bar\"}],\"carpet\":[{\"aaxis\":{\"endlinecolor\":\"#2a3f5f\",\"gridcolor\":\"#C8D4E3\",\"linecolor\":\"#C8D4E3\",\"minorgridcolor\":\"#C8D4E3\",\"startlinecolor\":\"#2a3f5f\"},\"baxis\":{\"endlinecolor\":\"#2a3f5f\",\"gridcolor\":\"#C8D4E3\",\"linecolor\":\"#C8D4E3\",\"minorgridcolor\":\"#C8D4E3\",\"startlinecolor\":\"#2a3f5f\"},\"type\":\"carpet\"}],\"choropleth\":[{\"colorbar\":{\"outlinewidth\":0,\"ticks\":\"\"},\"type\":\"choropleth\"}],\"contourcarpet\":[{\"colorbar\":{\"outlinewidth\":0,\"ticks\":\"\"},\"type\":\"contourcarpet\"}],\"contour\":[{\"colorbar\":{\"outlinewidth\":0,\"ticks\":\"\"},\"colorscale\":[[0.0,\"#0d0887\"],[0.1111111111111111,\"#46039f\"],[0.2222222222222222,\"#7201a8\"],[0.3333333333333333,\"#9c179e\"],[0.4444444444444444,\"#bd3786\"],[0.5555555555555556,\"#d8576b\"],[0.6666666666666666,\"#ed7953\"],[0.7777777777777778,\"#fb9f3a\"],[0.8888888888888888,\"#fdca26\"],[1.0,\"#f0f921\"]],\"type\":\"contour\"}],\"heatmapgl\":[{\"colorbar\":{\"outlinewidth\":0,\"ticks\":\"\"},\"colorscale\":[[0.0,\"#0d0887\"],[0.1111111111111111,\"#46039f\"],[0.2222222222222222,\"#7201a8\"],[0.3333333333333333,\"#9c179e\"],[0.4444444444444444,\"#bd3786\"],[0.5555555555555556,\"#d8576b\"],[0.6666666666666666,\"#ed7953\"],[0.7777777777777778,\"#fb9f3a\"],[0.8888888888888888,\"#fdca26\"],[1.0,\"#f0f921\"]],\"type\":\"heatmapgl\"}],\"heatmap\":[{\"colorbar\":{\"outlinewidth\":0,\"ticks\":\"\"},\"colorscale\":[[0.0,\"#0d0887\"],[0.1111111111111111,\"#46039f\"],[0.2222222222222222,\"#7201a8\"],[0.3333333333333333,\"#9c179e\"],[0.4444444444444444,\"#bd3786\"],[0.5555555555555556,\"#d8576b\"],[0.6666666666666666,\"#ed7953\"],[0.7777777777777778,\"#fb9f3a\"],[0.8888888888888888,\"#fdca26\"],[1.0,\"#f0f921\"]],\"type\":\"heatmap\"}],\"histogram2dcontour\":[{\"colorbar\":{\"outlinewidth\":0,\"ticks\":\"\"},\"colorscale\":[[0.0,\"#0d0887\"],[0.1111111111111111,\"#46039f\"],[0.2222222222222222,\"#7201a8\"],[0.3333333333333333,\"#9c179e\"],[0.4444444444444444,\"#bd3786\"],[0.5555555555555556,\"#d8576b\"],[0.6666666666666666,\"#ed7953\"],[0.7777777777777778,\"#fb9f3a\"],[0.8888888888888888,\"#fdca26\"],[1.0,\"#f0f921\"]],\"type\":\"histogram2dcontour\"}],\"histogram2d\":[{\"colorbar\":{\"outlinewidth\":0,\"ticks\":\"\"},\"colorscale\":[[0.0,\"#0d0887\"],[0.1111111111111111,\"#46039f\"],[0.2222222222222222,\"#7201a8\"],[0.3333333333333333,\"#9c179e\"],[0.4444444444444444,\"#bd3786\"],[0.5555555555555556,\"#d8576b\"],[0.6666666666666666,\"#ed7953\"],[0.7777777777777778,\"#fb9f3a\"],[0.8888888888888888,\"#fdca26\"],[1.0,\"#f0f921\"]],\"type\":\"histogram2d\"}],\"histogram\":[{\"marker\":{\"pattern\":{\"fillmode\":\"overlay\",\"size\":10,\"solidity\":0.2}},\"type\":\"histogram\"}],\"mesh3d\":[{\"colorbar\":{\"outlinewidth\":0,\"ticks\":\"\"},\"type\":\"mesh3d\"}],\"parcoords\":[{\"line\":{\"colorbar\":{\"outlinewidth\":0,\"ticks\":\"\"}},\"type\":\"parcoords\"}],\"pie\":[{\"automargin\":true,\"type\":\"pie\"}],\"scatter3d\":[{\"line\":{\"colorbar\":{\"outlinewidth\":0,\"ticks\":\"\"}},\"marker\":{\"colorbar\":{\"outlinewidth\":0,\"ticks\":\"\"}},\"type\":\"scatter3d\"}],\"scattercarpet\":[{\"marker\":{\"colorbar\":{\"outlinewidth\":0,\"ticks\":\"\"}},\"type\":\"scattercarpet\"}],\"scattergeo\":[{\"marker\":{\"colorbar\":{\"outlinewidth\":0,\"ticks\":\"\"}},\"type\":\"scattergeo\"}],\"scattergl\":[{\"marker\":{\"colorbar\":{\"outlinewidth\":0,\"ticks\":\"\"}},\"type\":\"scattergl\"}],\"scattermapbox\":[{\"marker\":{\"colorbar\":{\"outlinewidth\":0,\"ticks\":\"\"}},\"type\":\"scattermapbox\"}],\"scatterpolargl\":[{\"marker\":{\"colorbar\":{\"outlinewidth\":0,\"ticks\":\"\"}},\"type\":\"scatterpolargl\"}],\"scatterpolar\":[{\"marker\":{\"colorbar\":{\"outlinewidth\":0,\"ticks\":\"\"}},\"type\":\"scatterpolar\"}],\"scatter\":[{\"fillpattern\":{\"fillmode\":\"overlay\",\"size\":10,\"solidity\":0.2},\"type\":\"scatter\"}],\"scatterternary\":[{\"marker\":{\"colorbar\":{\"outlinewidth\":0,\"ticks\":\"\"}},\"type\":\"scatterternary\"}],\"surface\":[{\"colorbar\":{\"outlinewidth\":0,\"ticks\":\"\"},\"colorscale\":[[0.0,\"#0d0887\"],[0.1111111111111111,\"#46039f\"],[0.2222222222222222,\"#7201a8\"],[0.3333333333333333,\"#9c179e\"],[0.4444444444444444,\"#bd3786\"],[0.5555555555555556,\"#d8576b\"],[0.6666666666666666,\"#ed7953\"],[0.7777777777777778,\"#fb9f3a\"],[0.8888888888888888,\"#fdca26\"],[1.0,\"#f0f921\"]],\"type\":\"surface\"}],\"table\":[{\"cells\":{\"fill\":{\"color\":\"#EBF0F8\"},\"line\":{\"color\":\"white\"}},\"header\":{\"fill\":{\"color\":\"#C8D4E3\"},\"line\":{\"color\":\"white\"}},\"type\":\"table\"}]},\"layout\":{\"annotationdefaults\":{\"arrowcolor\":\"#2a3f5f\",\"arrowhead\":0,\"arrowwidth\":1},\"autotypenumbers\":\"strict\",\"coloraxis\":{\"colorbar\":{\"outlinewidth\":0,\"ticks\":\"\"}},\"colorscale\":{\"diverging\":[[0,\"#8e0152\"],[0.1,\"#c51b7d\"],[0.2,\"#de77ae\"],[0.3,\"#f1b6da\"],[0.4,\"#fde0ef\"],[0.5,\"#f7f7f7\"],[0.6,\"#e6f5d0\"],[0.7,\"#b8e186\"],[0.8,\"#7fbc41\"],[0.9,\"#4d9221\"],[1,\"#276419\"]],\"sequential\":[[0.0,\"#0d0887\"],[0.1111111111111111,\"#46039f\"],[0.2222222222222222,\"#7201a8\"],[0.3333333333333333,\"#9c179e\"],[0.4444444444444444,\"#bd3786\"],[0.5555555555555556,\"#d8576b\"],[0.6666666666666666,\"#ed7953\"],[0.7777777777777778,\"#fb9f3a\"],[0.8888888888888888,\"#fdca26\"],[1.0,\"#f0f921\"]],\"sequentialminus\":[[0.0,\"#0d0887\"],[0.1111111111111111,\"#46039f\"],[0.2222222222222222,\"#7201a8\"],[0.3333333333333333,\"#9c179e\"],[0.4444444444444444,\"#bd3786\"],[0.5555555555555556,\"#d8576b\"],[0.6666666666666666,\"#ed7953\"],[0.7777777777777778,\"#fb9f3a\"],[0.8888888888888888,\"#fdca26\"],[1.0,\"#f0f921\"]]},\"colorway\":[\"#636efa\",\"#EF553B\",\"#00cc96\",\"#ab63fa\",\"#FFA15A\",\"#19d3f3\",\"#FF6692\",\"#B6E880\",\"#FF97FF\",\"#FECB52\"],\"font\":{\"color\":\"#2a3f5f\"},\"geo\":{\"bgcolor\":\"white\",\"lakecolor\":\"white\",\"landcolor\":\"white\",\"showlakes\":true,\"showland\":true,\"subunitcolor\":\"#C8D4E3\"},\"hoverlabel\":{\"align\":\"left\"},\"hovermode\":\"closest\",\"mapbox\":{\"style\":\"light\"},\"paper_bgcolor\":\"white\",\"plot_bgcolor\":\"white\",\"polar\":{\"angularaxis\":{\"gridcolor\":\"#EBF0F8\",\"linecolor\":\"#EBF0F8\",\"ticks\":\"\"},\"bgcolor\":\"white\",\"radialaxis\":{\"gridcolor\":\"#EBF0F8\",\"linecolor\":\"#EBF0F8\",\"ticks\":\"\"}},\"scene\":{\"xaxis\":{\"backgroundcolor\":\"white\",\"gridcolor\":\"#DFE8F3\",\"gridwidth\":2,\"linecolor\":\"#EBF0F8\",\"showbackground\":true,\"ticks\":\"\",\"zerolinecolor\":\"#EBF0F8\"},\"yaxis\":{\"backgroundcolor\":\"white\",\"gridcolor\":\"#DFE8F3\",\"gridwidth\":2,\"linecolor\":\"#EBF0F8\",\"showbackground\":true,\"ticks\":\"\",\"zerolinecolor\":\"#EBF0F8\"},\"zaxis\":{\"backgroundcolor\":\"white\",\"gridcolor\":\"#DFE8F3\",\"gridwidth\":2,\"linecolor\":\"#EBF0F8\",\"showbackground\":true,\"ticks\":\"\",\"zerolinecolor\":\"#EBF0F8\"}},\"shapedefaults\":{\"line\":{\"color\":\"#2a3f5f\"}},\"ternary\":{\"aaxis\":{\"gridcolor\":\"#DFE8F3\",\"linecolor\":\"#A2B1C6\",\"ticks\":\"\"},\"baxis\":{\"gridcolor\":\"#DFE8F3\",\"linecolor\":\"#A2B1C6\",\"ticks\":\"\"},\"bgcolor\":\"white\",\"caxis\":{\"gridcolor\":\"#DFE8F3\",\"linecolor\":\"#A2B1C6\",\"ticks\":\"\"}},\"title\":{\"x\":0.05},\"xaxis\":{\"automargin\":true,\"gridcolor\":\"#EBF0F8\",\"linecolor\":\"#EBF0F8\",\"ticks\":\"\",\"title\":{\"standoff\":15},\"zerolinecolor\":\"#EBF0F8\",\"zerolinewidth\":2},\"yaxis\":{\"automargin\":true,\"gridcolor\":\"#EBF0F8\",\"linecolor\":\"#EBF0F8\",\"ticks\":\"\",\"title\":{\"standoff\":15},\"zerolinecolor\":\"#EBF0F8\",\"zerolinewidth\":2}}},\"title\":{\"text\":\"Previs\\u00e3o de Precipita\\u00e7\\u00e3o - Jo\\u00e3o Pessoa (2026)\"},\"xaxis\":{\"title\":{\"text\":\"Dia do Ano\"}},\"yaxis\":{\"title\":{\"text\":\"Precipita\\u00e7\\u00e3o (mm)\"}}},                        {\"responsive\": true}                    ).then(function(){\n",
       "                            \n",
       "var gd = document.getElementById('9cfdb62e-46df-41a8-bba6-f5194b244119');\n",
       "var x = new MutationObserver(function (mutations, observer) {{\n",
       "        var display = window.getComputedStyle(gd).display;\n",
       "        if (!display || display === 'none') {{\n",
       "            console.log([gd, 'removed!']);\n",
       "            Plotly.purge(gd);\n",
       "            observer.disconnect();\n",
       "        }}\n",
       "}});\n",
       "\n",
       "// Listen for the removal of the full notebook cells\n",
       "var notebookContainer = gd.closest('#notebook-container');\n",
       "if (notebookContainer) {{\n",
       "    x.observe(notebookContainer, {childList: true});\n",
       "}}\n",
       "\n",
       "// Listen for the clearing of the current output cell\n",
       "var outputEl = gd.closest('.output');\n",
       "if (outputEl) {{\n",
       "    x.observe(outputEl, {childList: true});\n",
       "}}\n",
       "\n",
       "                        })                };                });            </script>        </div>"
      ]
     },
     "metadata": {},
     "output_type": "display_data"
    },
    {
     "name": "stdout",
     "output_type": "stream",
     "text": [
      "\n",
      "✅ Análise completa!\n"
     ]
    }
   ],
   "source": [
    "# Criar e treinar sistema\n",
    "print(\"\\n🔧 Treinando com NumPy puro...\")\n",
    "sistema_numpy = PrevisaoClimatica(cidade='João Pessoa')\n",
    "sistema_numpy.treinar_todos_modelos(df, usar_numpy=True)\n",
    "\n",
    "print(\"\\n🔧 Treinando com scikit-learn...\")\n",
    "sistema_sklearn = PrevisaoClimatica(cidade='João Pessoa')\n",
    "sistema_sklearn.treinar_todos_modelos(df, usar_numpy=False)\n",
    "\n",
    "# Fazer previsões\n",
    "sistema_sklearn.relatorio_completo(2, 10, 2025)  \n",
    "\n",
    "\n",
    "# Visualizações\n",
    "print(\"📊 Gerando visualizações...\")\n",
    "fig_temp, fig_chuva = visualizar_previsoes_mensais(sistema_sklearn, 2026)\n",
    "fig_temp.show()\n",
    "fig_chuva.show()\n",
    "\n",
    "print(\"\\n✅ Análise completa!\")"
   ]
  },
  {
   "cell_type": "code",
   "execution_count": 75,
   "id": "8732e33a-dee7-497a-a467-d37de63dc353",
   "metadata": {},
   "outputs": [
    {
     "name": "stdout",
     "output_type": "stream",
     "text": [
      "\n",
      "🔍 AVALIANDO ACURÁCIA DOS MODELOS...\n",
      "\n",
      "\n",
      "======================================================================\n",
      "📊 ACURÁCIA DOS MODELOS - João Pessoa\n",
      "======================================================================\n",
      "\n",
      "📈 Temp Média (°C)\n",
      "   ├─ R² Treino:        0.7264  (72.64%)\n",
      "   ├─ R² Teste:         0.7464  (74.64%)\n",
      "   └─ Erro Médio (MAE): 0.55\n",
      "\n",
      "📈 Temp Máx (°C)\n",
      "   ├─ R² Treino:        0.6178  (61.78%)\n",
      "   ├─ R² Teste:         0.6390  (63.90%)\n",
      "   └─ Erro Médio (MAE): 0.88\n",
      "\n",
      "📈 Temp Mín (°C)\n",
      "   ├─ R² Treino:        0.7025  (70.25%)\n",
      "   ├─ R² Teste:         0.7084  (70.84%)\n",
      "   └─ Erro Médio (MAE): 0.51\n",
      "\n",
      "📈 Umidade (%)\n",
      "   ├─ R² Treino:        0.5763  (57.63%)\n",
      "   ├─ R² Teste:         0.5890  (58.90%)\n",
      "   └─ Erro Médio (MAE): 3.56\n",
      "\n",
      "📈 Precipitação (mm)\n",
      "   ├─ R² Treino:        0.1069  (10.69%)\n",
      "   ├─ R² Teste:         0.0950  (9.50%)\n",
      "   └─ Erro Médio (MAE): 3.23\n",
      "\n",
      "📈 Vento (km/h)\n",
      "   ├─ R² Treino:        0.2865  (28.65%)\n",
      "   ├─ R² Teste:         0.2578  (25.78%)\n",
      "   └─ Erro Médio (MAE): 1.79\n",
      "\n",
      "======================================================================\n",
      "🎯 ACURÁCIA MÉDIA GERAL: 50.59%\n",
      "======================================================================\n",
      "\n",
      "Qualidade das Previsões: ⚠️  RAZOÁVEIS\n",
      "\n",
      "\n",
      "======================================================================\n",
      "⚔️  NUMPY vs SCIKIT-LEARN - Comparação de Acurácia\n",
      "======================================================================\n",
      "\n",
      "📊 Temp Média (°C)\n",
      "   ├─ NumPy:     74.64%  (RMSE: 0.69)\n",
      "   ├─ Sklearn:   74.64%  (RMSE: 0.69)\n",
      "   └─ Diferença: 0.0000%\n",
      "\n",
      "📊 Temp Máx (°C)\n",
      "   ├─ NumPy:     63.90%  (RMSE: 1.11)\n",
      "   ├─ Sklearn:   63.90%  (RMSE: 1.11)\n",
      "   └─ Diferença: 0.0000%\n",
      "\n",
      "📊 Temp Mín (°C)\n",
      "   ├─ NumPy:     70.84%  (RMSE: 0.65)\n",
      "   ├─ Sklearn:   70.84%  (RMSE: 0.65)\n",
      "   └─ Diferença: 0.0000%\n",
      "\n",
      "📊 Umidade (%)\n",
      "   ├─ NumPy:     58.90%  (RMSE: 4.55)\n",
      "   ├─ Sklearn:   58.90%  (RMSE: 4.55)\n",
      "   └─ Diferença: 0.0000%\n",
      "\n",
      "📊 Precipitação (mm)\n",
      "   ├─ NumPy:      9.50%  (RMSE: 5.63)\n",
      "   ├─ Sklearn:    9.50%  (RMSE: 5.63)\n",
      "   └─ Diferença: 0.0000%\n",
      "\n",
      "📊 Vento (km/h)\n",
      "   ├─ NumPy:     25.78%  (RMSE: 2.24)\n",
      "   ├─ Sklearn:   25.78%  (RMSE: 2.24)\n",
      "   └─ Diferença: 0.0000%\n",
      "\n",
      "======================================================================\n",
      "📌 Diferença média entre métodos: 0.0000%\n",
      "✅ Resultado: Ambos produzem resultados praticamente idênticos!\n",
      "======================================================================\n",
      "\n"
     ]
    },
    {
     "data": {
      "application/vnd.plotly.v1+json": {
       "config": {
        "plotlyServerURL": "https://plot.ly"
       },
       "data": [
        {
         "alignmentgroup": "True",
         "hovertemplate": "Variável=%{x}<br>Acurácia (%)=%{marker.color}<extra></extra>",
         "legendgroup": "",
         "marker": {
          "color": [
           74.63505951575141,
           63.90468362608552,
           70.8376254984621,
           58.903240154277235,
           9.49582867220673,
           25.77885976640436
          ],
          "coloraxis": "coloraxis",
          "pattern": {
           "shape": ""
          }
         },
         "name": "",
         "offsetgroup": "",
         "orientation": "v",
         "showlegend": false,
         "textposition": "auto",
         "type": "bar",
         "x": [
          "Temp Média (°C)",
          "Temp Máx (°C)",
          "Temp Mín (°C)",
          "Umidade (%)",
          "Precipitação (mm)",
          "Vento (km/h)"
         ],
         "xaxis": "x",
         "y": [
          74.63505951575141,
          63.90468362608552,
          70.8376254984621,
          58.903240154277235,
          9.49582867220673,
          25.77885976640436
         ],
         "yaxis": "y"
        }
       ],
       "layout": {
        "barmode": "relative",
        "coloraxis": {
         "cmax": 100,
         "cmin": 0,
         "colorbar": {
          "title": {
           "text": "Acurácia (%)"
          }
         },
         "colorscale": [
          [
           0,
           "rgb(165,0,38)"
          ],
          [
           0.1,
           "rgb(215,48,39)"
          ],
          [
           0.2,
           "rgb(244,109,67)"
          ],
          [
           0.3,
           "rgb(253,174,97)"
          ],
          [
           0.4,
           "rgb(254,224,139)"
          ],
          [
           0.5,
           "rgb(255,255,191)"
          ],
          [
           0.6,
           "rgb(217,239,139)"
          ],
          [
           0.7,
           "rgb(166,217,106)"
          ],
          [
           0.8,
           "rgb(102,189,99)"
          ],
          [
           0.9,
           "rgb(26,152,80)"
          ],
          [
           1,
           "rgb(0,104,55)"
          ]
         ]
        },
        "height": 500,
        "legend": {
         "tracegroupgap": 0
        },
        "template": {
         "data": {
          "bar": [
           {
            "error_x": {
             "color": "#2a3f5f"
            },
            "error_y": {
             "color": "#2a3f5f"
            },
            "marker": {
             "line": {
              "color": "white",
              "width": 0.5
             },
             "pattern": {
              "fillmode": "overlay",
              "size": 10,
              "solidity": 0.2
             }
            },
            "type": "bar"
           }
          ],
          "barpolar": [
           {
            "marker": {
             "line": {
              "color": "white",
              "width": 0.5
             },
             "pattern": {
              "fillmode": "overlay",
              "size": 10,
              "solidity": 0.2
             }
            },
            "type": "barpolar"
           }
          ],
          "carpet": [
           {
            "aaxis": {
             "endlinecolor": "#2a3f5f",
             "gridcolor": "#C8D4E3",
             "linecolor": "#C8D4E3",
             "minorgridcolor": "#C8D4E3",
             "startlinecolor": "#2a3f5f"
            },
            "baxis": {
             "endlinecolor": "#2a3f5f",
             "gridcolor": "#C8D4E3",
             "linecolor": "#C8D4E3",
             "minorgridcolor": "#C8D4E3",
             "startlinecolor": "#2a3f5f"
            },
            "type": "carpet"
           }
          ],
          "choropleth": [
           {
            "colorbar": {
             "outlinewidth": 0,
             "ticks": ""
            },
            "type": "choropleth"
           }
          ],
          "contour": [
           {
            "colorbar": {
             "outlinewidth": 0,
             "ticks": ""
            },
            "colorscale": [
             [
              0,
              "#0d0887"
             ],
             [
              0.1111111111111111,
              "#46039f"
             ],
             [
              0.2222222222222222,
              "#7201a8"
             ],
             [
              0.3333333333333333,
              "#9c179e"
             ],
             [
              0.4444444444444444,
              "#bd3786"
             ],
             [
              0.5555555555555556,
              "#d8576b"
             ],
             [
              0.6666666666666666,
              "#ed7953"
             ],
             [
              0.7777777777777778,
              "#fb9f3a"
             ],
             [
              0.8888888888888888,
              "#fdca26"
             ],
             [
              1,
              "#f0f921"
             ]
            ],
            "type": "contour"
           }
          ],
          "contourcarpet": [
           {
            "colorbar": {
             "outlinewidth": 0,
             "ticks": ""
            },
            "type": "contourcarpet"
           }
          ],
          "heatmap": [
           {
            "colorbar": {
             "outlinewidth": 0,
             "ticks": ""
            },
            "colorscale": [
             [
              0,
              "#0d0887"
             ],
             [
              0.1111111111111111,
              "#46039f"
             ],
             [
              0.2222222222222222,
              "#7201a8"
             ],
             [
              0.3333333333333333,
              "#9c179e"
             ],
             [
              0.4444444444444444,
              "#bd3786"
             ],
             [
              0.5555555555555556,
              "#d8576b"
             ],
             [
              0.6666666666666666,
              "#ed7953"
             ],
             [
              0.7777777777777778,
              "#fb9f3a"
             ],
             [
              0.8888888888888888,
              "#fdca26"
             ],
             [
              1,
              "#f0f921"
             ]
            ],
            "type": "heatmap"
           }
          ],
          "heatmapgl": [
           {
            "colorbar": {
             "outlinewidth": 0,
             "ticks": ""
            },
            "colorscale": [
             [
              0,
              "#0d0887"
             ],
             [
              0.1111111111111111,
              "#46039f"
             ],
             [
              0.2222222222222222,
              "#7201a8"
             ],
             [
              0.3333333333333333,
              "#9c179e"
             ],
             [
              0.4444444444444444,
              "#bd3786"
             ],
             [
              0.5555555555555556,
              "#d8576b"
             ],
             [
              0.6666666666666666,
              "#ed7953"
             ],
             [
              0.7777777777777778,
              "#fb9f3a"
             ],
             [
              0.8888888888888888,
              "#fdca26"
             ],
             [
              1,
              "#f0f921"
             ]
            ],
            "type": "heatmapgl"
           }
          ],
          "histogram": [
           {
            "marker": {
             "pattern": {
              "fillmode": "overlay",
              "size": 10,
              "solidity": 0.2
             }
            },
            "type": "histogram"
           }
          ],
          "histogram2d": [
           {
            "colorbar": {
             "outlinewidth": 0,
             "ticks": ""
            },
            "colorscale": [
             [
              0,
              "#0d0887"
             ],
             [
              0.1111111111111111,
              "#46039f"
             ],
             [
              0.2222222222222222,
              "#7201a8"
             ],
             [
              0.3333333333333333,
              "#9c179e"
             ],
             [
              0.4444444444444444,
              "#bd3786"
             ],
             [
              0.5555555555555556,
              "#d8576b"
             ],
             [
              0.6666666666666666,
              "#ed7953"
             ],
             [
              0.7777777777777778,
              "#fb9f3a"
             ],
             [
              0.8888888888888888,
              "#fdca26"
             ],
             [
              1,
              "#f0f921"
             ]
            ],
            "type": "histogram2d"
           }
          ],
          "histogram2dcontour": [
           {
            "colorbar": {
             "outlinewidth": 0,
             "ticks": ""
            },
            "colorscale": [
             [
              0,
              "#0d0887"
             ],
             [
              0.1111111111111111,
              "#46039f"
             ],
             [
              0.2222222222222222,
              "#7201a8"
             ],
             [
              0.3333333333333333,
              "#9c179e"
             ],
             [
              0.4444444444444444,
              "#bd3786"
             ],
             [
              0.5555555555555556,
              "#d8576b"
             ],
             [
              0.6666666666666666,
              "#ed7953"
             ],
             [
              0.7777777777777778,
              "#fb9f3a"
             ],
             [
              0.8888888888888888,
              "#fdca26"
             ],
             [
              1,
              "#f0f921"
             ]
            ],
            "type": "histogram2dcontour"
           }
          ],
          "mesh3d": [
           {
            "colorbar": {
             "outlinewidth": 0,
             "ticks": ""
            },
            "type": "mesh3d"
           }
          ],
          "parcoords": [
           {
            "line": {
             "colorbar": {
              "outlinewidth": 0,
              "ticks": ""
             }
            },
            "type": "parcoords"
           }
          ],
          "pie": [
           {
            "automargin": true,
            "type": "pie"
           }
          ],
          "scatter": [
           {
            "fillpattern": {
             "fillmode": "overlay",
             "size": 10,
             "solidity": 0.2
            },
            "type": "scatter"
           }
          ],
          "scatter3d": [
           {
            "line": {
             "colorbar": {
              "outlinewidth": 0,
              "ticks": ""
             }
            },
            "marker": {
             "colorbar": {
              "outlinewidth": 0,
              "ticks": ""
             }
            },
            "type": "scatter3d"
           }
          ],
          "scattercarpet": [
           {
            "marker": {
             "colorbar": {
              "outlinewidth": 0,
              "ticks": ""
             }
            },
            "type": "scattercarpet"
           }
          ],
          "scattergeo": [
           {
            "marker": {
             "colorbar": {
              "outlinewidth": 0,
              "ticks": ""
             }
            },
            "type": "scattergeo"
           }
          ],
          "scattergl": [
           {
            "marker": {
             "colorbar": {
              "outlinewidth": 0,
              "ticks": ""
             }
            },
            "type": "scattergl"
           }
          ],
          "scattermapbox": [
           {
            "marker": {
             "colorbar": {
              "outlinewidth": 0,
              "ticks": ""
             }
            },
            "type": "scattermapbox"
           }
          ],
          "scatterpolar": [
           {
            "marker": {
             "colorbar": {
              "outlinewidth": 0,
              "ticks": ""
             }
            },
            "type": "scatterpolar"
           }
          ],
          "scatterpolargl": [
           {
            "marker": {
             "colorbar": {
              "outlinewidth": 0,
              "ticks": ""
             }
            },
            "type": "scatterpolargl"
           }
          ],
          "scatterternary": [
           {
            "marker": {
             "colorbar": {
              "outlinewidth": 0,
              "ticks": ""
             }
            },
            "type": "scatterternary"
           }
          ],
          "surface": [
           {
            "colorbar": {
             "outlinewidth": 0,
             "ticks": ""
            },
            "colorscale": [
             [
              0,
              "#0d0887"
             ],
             [
              0.1111111111111111,
              "#46039f"
             ],
             [
              0.2222222222222222,
              "#7201a8"
             ],
             [
              0.3333333333333333,
              "#9c179e"
             ],
             [
              0.4444444444444444,
              "#bd3786"
             ],
             [
              0.5555555555555556,
              "#d8576b"
             ],
             [
              0.6666666666666666,
              "#ed7953"
             ],
             [
              0.7777777777777778,
              "#fb9f3a"
             ],
             [
              0.8888888888888888,
              "#fdca26"
             ],
             [
              1,
              "#f0f921"
             ]
            ],
            "type": "surface"
           }
          ],
          "table": [
           {
            "cells": {
             "fill": {
              "color": "#EBF0F8"
             },
             "line": {
              "color": "white"
             }
            },
            "header": {
             "fill": {
              "color": "#C8D4E3"
             },
             "line": {
              "color": "white"
             }
            },
            "type": "table"
           }
          ]
         },
         "layout": {
          "annotationdefaults": {
           "arrowcolor": "#2a3f5f",
           "arrowhead": 0,
           "arrowwidth": 1
          },
          "autotypenumbers": "strict",
          "coloraxis": {
           "colorbar": {
            "outlinewidth": 0,
            "ticks": ""
           }
          },
          "colorscale": {
           "diverging": [
            [
             0,
             "#8e0152"
            ],
            [
             0.1,
             "#c51b7d"
            ],
            [
             0.2,
             "#de77ae"
            ],
            [
             0.3,
             "#f1b6da"
            ],
            [
             0.4,
             "#fde0ef"
            ],
            [
             0.5,
             "#f7f7f7"
            ],
            [
             0.6,
             "#e6f5d0"
            ],
            [
             0.7,
             "#b8e186"
            ],
            [
             0.8,
             "#7fbc41"
            ],
            [
             0.9,
             "#4d9221"
            ],
            [
             1,
             "#276419"
            ]
           ],
           "sequential": [
            [
             0,
             "#0d0887"
            ],
            [
             0.1111111111111111,
             "#46039f"
            ],
            [
             0.2222222222222222,
             "#7201a8"
            ],
            [
             0.3333333333333333,
             "#9c179e"
            ],
            [
             0.4444444444444444,
             "#bd3786"
            ],
            [
             0.5555555555555556,
             "#d8576b"
            ],
            [
             0.6666666666666666,
             "#ed7953"
            ],
            [
             0.7777777777777778,
             "#fb9f3a"
            ],
            [
             0.8888888888888888,
             "#fdca26"
            ],
            [
             1,
             "#f0f921"
            ]
           ],
           "sequentialminus": [
            [
             0,
             "#0d0887"
            ],
            [
             0.1111111111111111,
             "#46039f"
            ],
            [
             0.2222222222222222,
             "#7201a8"
            ],
            [
             0.3333333333333333,
             "#9c179e"
            ],
            [
             0.4444444444444444,
             "#bd3786"
            ],
            [
             0.5555555555555556,
             "#d8576b"
            ],
            [
             0.6666666666666666,
             "#ed7953"
            ],
            [
             0.7777777777777778,
             "#fb9f3a"
            ],
            [
             0.8888888888888888,
             "#fdca26"
            ],
            [
             1,
             "#f0f921"
            ]
           ]
          },
          "colorway": [
           "#636efa",
           "#EF553B",
           "#00cc96",
           "#ab63fa",
           "#FFA15A",
           "#19d3f3",
           "#FF6692",
           "#B6E880",
           "#FF97FF",
           "#FECB52"
          ],
          "font": {
           "color": "#2a3f5f"
          },
          "geo": {
           "bgcolor": "white",
           "lakecolor": "white",
           "landcolor": "white",
           "showlakes": true,
           "showland": true,
           "subunitcolor": "#C8D4E3"
          },
          "hoverlabel": {
           "align": "left"
          },
          "hovermode": "closest",
          "mapbox": {
           "style": "light"
          },
          "paper_bgcolor": "white",
          "plot_bgcolor": "white",
          "polar": {
           "angularaxis": {
            "gridcolor": "#EBF0F8",
            "linecolor": "#EBF0F8",
            "ticks": ""
           },
           "bgcolor": "white",
           "radialaxis": {
            "gridcolor": "#EBF0F8",
            "linecolor": "#EBF0F8",
            "ticks": ""
           }
          },
          "scene": {
           "xaxis": {
            "backgroundcolor": "white",
            "gridcolor": "#DFE8F3",
            "gridwidth": 2,
            "linecolor": "#EBF0F8",
            "showbackground": true,
            "ticks": "",
            "zerolinecolor": "#EBF0F8"
           },
           "yaxis": {
            "backgroundcolor": "white",
            "gridcolor": "#DFE8F3",
            "gridwidth": 2,
            "linecolor": "#EBF0F8",
            "showbackground": true,
            "ticks": "",
            "zerolinecolor": "#EBF0F8"
           },
           "zaxis": {
            "backgroundcolor": "white",
            "gridcolor": "#DFE8F3",
            "gridwidth": 2,
            "linecolor": "#EBF0F8",
            "showbackground": true,
            "ticks": "",
            "zerolinecolor": "#EBF0F8"
           }
          },
          "shapedefaults": {
           "line": {
            "color": "#2a3f5f"
           }
          },
          "ternary": {
           "aaxis": {
            "gridcolor": "#DFE8F3",
            "linecolor": "#A2B1C6",
            "ticks": ""
           },
           "baxis": {
            "gridcolor": "#DFE8F3",
            "linecolor": "#A2B1C6",
            "ticks": ""
           },
           "bgcolor": "white",
           "caxis": {
            "gridcolor": "#DFE8F3",
            "linecolor": "#A2B1C6",
            "ticks": ""
           }
          },
          "title": {
           "x": 0.05
          },
          "xaxis": {
           "automargin": true,
           "gridcolor": "#EBF0F8",
           "linecolor": "#EBF0F8",
           "ticks": "",
           "title": {
            "standoff": 15
           },
           "zerolinecolor": "#EBF0F8",
           "zerolinewidth": 2
          },
          "yaxis": {
           "automargin": true,
           "gridcolor": "#EBF0F8",
           "linecolor": "#EBF0F8",
           "ticks": "",
           "title": {
            "standoff": 15
           },
           "zerolinecolor": "#EBF0F8",
           "zerolinewidth": 2
          }
         }
        },
        "title": {
         "text": "Acurácia por Variável - João Pessoa"
        },
        "xaxis": {
         "anchor": "y",
         "domain": [
          0,
          1
         ],
         "tickangle": -45,
         "title": {
          "text": "Variável"
         }
        },
        "yaxis": {
         "anchor": "x",
         "domain": [
          0,
          1
         ],
         "title": {
          "text": "Acurácia (%)"
         }
        }
       }
      },
      "image/png": "[encoded data removed]",
      "text/html": [
       "<div>                            <div id=\"a2b710a4-28bf-4468-ac20-3a155a33cd74\" class=\"plotly-graph-div\" style=\"height:500px; width:100%;\"></div>            <script type=\"text/javascript\">                require([\"plotly\"], function(Plotly) {                    window.PLOTLYENV=window.PLOTLYENV || {};                                    if (document.getElementById(\"a2b710a4-28bf-4468-ac20-3a155a33cd74\")) {                    Plotly.newPlot(                        \"a2b710a4-28bf-4468-ac20-3a155a33cd74\",                        [{\"alignmentgroup\":\"True\",\"hovertemplate\":\"Vari\\u00e1vel=%{x}\\u003cbr\\u003eAcur\\u00e1cia (%)=%{marker.color}\\u003cextra\\u003e\\u003c\\u002fextra\\u003e\",\"legendgroup\":\"\",\"marker\":{\"color\":[74.63505951575141,63.90468362608552,70.8376254984621,58.903240154277235,9.49582867220673,25.77885976640436],\"coloraxis\":\"coloraxis\",\"pattern\":{\"shape\":\"\"}},\"name\":\"\",\"offsetgroup\":\"\",\"orientation\":\"v\",\"showlegend\":false,\"textposition\":\"auto\",\"x\":[\"Temp M\\u00e9dia (\\u00b0C)\",\"Temp M\\u00e1x (\\u00b0C)\",\"Temp M\\u00edn (\\u00b0C)\",\"Umidade (%)\",\"Precipita\\u00e7\\u00e3o (mm)\",\"Vento (km\\u002fh)\"],\"xaxis\":\"x\",\"y\":[74.63505951575141,63.90468362608552,70.8376254984621,58.903240154277235,9.49582867220673,25.77885976640436],\"yaxis\":\"y\",\"type\":\"bar\"}],                        {\"template\":{\"data\":{\"barpolar\":[{\"marker\":{\"line\":{\"color\":\"white\",\"width\":0.5},\"pattern\":{\"fillmode\":\"overlay\",\"size\":10,\"solidity\":0.2}},\"type\":\"barpolar\"}],\"bar\":[{\"error_x\":{\"color\":\"#2a3f5f\"},\"error_y\":{\"color\":\"#2a3f5f\"},\"marker\":{\"line\":{\"color\":\"white\",\"width\":0.5},\"pattern\":{\"fillmode\":\"overlay\",\"size\":10,\"solidity\":0.2}},\"type\":\"bar\"}],\"carpet\":[{\"aaxis\":{\"endlinecolor\":\"#2a3f5f\",\"gridcolor\":\"#C8D4E3\",\"linecolor\":\"#C8D4E3\",\"minorgridcolor\":\"#C8D4E3\",\"startlinecolor\":\"#2a3f5f\"},\"baxis\":{\"endlinecolor\":\"#2a3f5f\",\"gridcolor\":\"#C8D4E3\",\"linecolor\":\"#C8D4E3\",\"minorgridcolor\":\"#C8D4E3\",\"startlinecolor\":\"#2a3f5f\"},\"type\":\"carpet\"}],\"choropleth\":[{\"colorbar\":{\"outlinewidth\":0,\"ticks\":\"\"},\"type\":\"choropleth\"}],\"contourcarpet\":[{\"colorbar\":{\"outlinewidth\":0,\"ticks\":\"\"},\"type\":\"contourcarpet\"}],\"contour\":[{\"colorbar\":{\"outlinewidth\":0,\"ticks\":\"\"},\"colorscale\":[[0.0,\"#0d0887\"],[0.1111111111111111,\"#46039f\"],[0.2222222222222222,\"#7201a8\"],[0.3333333333333333,\"#9c179e\"],[0.4444444444444444,\"#bd3786\"],[0.5555555555555556,\"#d8576b\"],[0.6666666666666666,\"#ed7953\"],[0.7777777777777778,\"#fb9f3a\"],[0.8888888888888888,\"#fdca26\"],[1.0,\"#f0f921\"]],\"type\":\"contour\"}],\"heatmapgl\":[{\"colorbar\":{\"outlinewidth\":0,\"ticks\":\"\"},\"colorscale\":[[0.0,\"#0d0887\"],[0.1111111111111111,\"#46039f\"],[0.2222222222222222,\"#7201a8\"],[0.3333333333333333,\"#9c179e\"],[0.4444444444444444,\"#bd3786\"],[0.5555555555555556,\"#d8576b\"],[0.6666666666666666,\"#ed7953\"],[0.7777777777777778,\"#fb9f3a\"],[0.8888888888888888,\"#fdca26\"],[1.0,\"#f0f921\"]],\"type\":\"heatmapgl\"}],\"heatmap\":[{\"colorbar\":{\"outlinewidth\":0,\"ticks\":\"\"},\"colorscale\":[[0.0,\"#0d0887\"],[0.1111111111111111,\"#46039f\"],[0.2222222222222222,\"#7201a8\"],[0.3333333333333333,\"#9c179e\"],[0.4444444444444444,\"#bd3786\"],[0.5555555555555556,\"#d8576b\"],[0.6666666666666666,\"#ed7953\"],[0.7777777777777778,\"#fb9f3a\"],[0.8888888888888888,\"#fdca26\"],[1.0,\"#f0f921\"]],\"type\":\"heatmap\"}],\"histogram2dcontour\":[{\"colorbar\":{\"outlinewidth\":0,\"ticks\":\"\"},\"colorscale\":[[0.0,\"#0d0887\"],[0.1111111111111111,\"#46039f\"],[0.2222222222222222,\"#7201a8\"],[0.3333333333333333,\"#9c179e\"],[0.4444444444444444,\"#bd3786\"],[0.5555555555555556,\"#d8576b\"],[0.6666666666666666,\"#ed7953\"],[0.7777777777777778,\"#fb9f3a\"],[0.8888888888888888,\"#fdca26\"],[1.0,\"#f0f921\"]],\"type\":\"histogram2dcontour\"}],\"histogram2d\":[{\"colorbar\":{\"outlinewidth\":0,\"ticks\":\"\"},\"colorscale\":[[0.0,\"#0d0887\"],[0.1111111111111111,\"#46039f\"],[0.2222222222222222,\"#7201a8\"],[0.3333333333333333,\"#9c179e\"],[0.4444444444444444,\"#bd3786\"],[0.5555555555555556,\"#d8576b\"],[0.6666666666666666,\"#ed7953\"],[0.7777777777777778,\"#fb9f3a\"],[0.8888888888888888,\"#fdca26\"],[1.0,\"#f0f921\"]],\"type\":\"histogram2d\"}],\"histogram\":[{\"marker\":{\"pattern\":{\"fillmode\":\"overlay\",\"size\":10,\"solidity\":0.2}},\"type\":\"histogram\"}],\"mesh3d\":[{\"colorbar\":{\"outlinewidth\":0,\"ticks\":\"\"},\"type\":\"mesh3d\"}],\"parcoords\":[{\"line\":{\"colorbar\":{\"outlinewidth\":0,\"ticks\":\"\"}},\"type\":\"parcoords\"}],\"pie\":[{\"automargin\":true,\"type\":\"pie\"}],\"scatter3d\":[{\"line\":{\"colorbar\":{\"outlinewidth\":0,\"ticks\":\"\"}},\"marker\":{\"colorbar\":{\"outlinewidth\":0,\"ticks\":\"\"}},\"type\":\"scatter3d\"}],\"scattercarpet\":[{\"marker\":{\"colorbar\":{\"outlinewidth\":0,\"ticks\":\"\"}},\"type\":\"scattercarpet\"}],\"scattergeo\":[{\"marker\":{\"colorbar\":{\"outlinewidth\":0,\"ticks\":\"\"}},\"type\":\"scattergeo\"}],\"scattergl\":[{\"marker\":{\"colorbar\":{\"outlinewidth\":0,\"ticks\":\"\"}},\"type\":\"scattergl\"}],\"scattermapbox\":[{\"marker\":{\"colorbar\":{\"outlinewidth\":0,\"ticks\":\"\"}},\"type\":\"scattermapbox\"}],\"scatterpolargl\":[{\"marker\":{\"colorbar\":{\"outlinewidth\":0,\"ticks\":\"\"}},\"type\":\"scatterpolargl\"}],\"scatterpolar\":[{\"marker\":{\"colorbar\":{\"outlinewidth\":0,\"ticks\":\"\"}},\"type\":\"scatterpolar\"}],\"scatter\":[{\"fillpattern\":{\"fillmode\":\"overlay\",\"size\":10,\"solidity\":0.2},\"type\":\"scatter\"}],\"scatterternary\":[{\"marker\":{\"colorbar\":{\"outlinewidth\":0,\"ticks\":\"\"}},\"type\":\"scatterternary\"}],\"surface\":[{\"colorbar\":{\"outlinewidth\":0,\"ticks\":\"\"},\"colorscale\":[[0.0,\"#0d0887\"],[0.1111111111111111,\"#46039f\"],[0.2222222222222222,\"#7201a8\"],[0.3333333333333333,\"#9c179e\"],[0.4444444444444444,\"#bd3786\"],[0.5555555555555556,\"#d8576b\"],[0.6666666666666666,\"#ed7953\"],[0.7777777777777778,\"#fb9f3a\"],[0.8888888888888888,\"#fdca26\"],[1.0,\"#f0f921\"]],\"type\":\"surface\"}],\"table\":[{\"cells\":{\"fill\":{\"color\":\"#EBF0F8\"},\"line\":{\"color\":\"white\"}},\"header\":{\"fill\":{\"color\":\"#C8D4E3\"},\"line\":{\"color\":\"white\"}},\"type\":\"table\"}]},\"layout\":{\"annotationdefaults\":{\"arrowcolor\":\"#2a3f5f\",\"arrowhead\":0,\"arrowwidth\":1},\"autotypenumbers\":\"strict\",\"coloraxis\":{\"colorbar\":{\"outlinewidth\":0,\"ticks\":\"\"}},\"colorscale\":{\"diverging\":[[0,\"#8e0152\"],[0.1,\"#c51b7d\"],[0.2,\"#de77ae\"],[0.3,\"#f1b6da\"],[0.4,\"#fde0ef\"],[0.5,\"#f7f7f7\"],[0.6,\"#e6f5d0\"],[0.7,\"#b8e186\"],[0.8,\"#7fbc41\"],[0.9,\"#4d9221\"],[1,\"#276419\"]],\"sequential\":[[0.0,\"#0d0887\"],[0.1111111111111111,\"#46039f\"],[0.2222222222222222,\"#7201a8\"],[0.3333333333333333,\"#9c179e\"],[0.4444444444444444,\"#bd3786\"],[0.5555555555555556,\"#d8576b\"],[0.6666666666666666,\"#ed7953\"],[0.7777777777777778,\"#fb9f3a\"],[0.8888888888888888,\"#fdca26\"],[1.0,\"#f0f921\"]],\"sequentialminus\":[[0.0,\"#0d0887\"],[0.1111111111111111,\"#46039f\"],[0.2222222222222222,\"#7201a8\"],[0.3333333333333333,\"#9c179e\"],[0.4444444444444444,\"#bd3786\"],[0.5555555555555556,\"#d8576b\"],[0.6666666666666666,\"#ed7953\"],[0.7777777777777778,\"#fb9f3a\"],[0.8888888888888888,\"#fdca26\"],[1.0,\"#f0f921\"]]},\"colorway\":[\"#636efa\",\"#EF553B\",\"#00cc96\",\"#ab63fa\",\"#FFA15A\",\"#19d3f3\",\"#FF6692\",\"#B6E880\",\"#FF97FF\",\"#FECB52\"],\"font\":{\"color\":\"#2a3f5f\"},\"geo\":{\"bgcolor\":\"white\",\"lakecolor\":\"white\",\"landcolor\":\"white\",\"showlakes\":true,\"showland\":true,\"subunitcolor\":\"#C8D4E3\"},\"hoverlabel\":{\"align\":\"left\"},\"hovermode\":\"closest\",\"mapbox\":{\"style\":\"light\"},\"paper_bgcolor\":\"white\",\"plot_bgcolor\":\"white\",\"polar\":{\"angularaxis\":{\"gridcolor\":\"#EBF0F8\",\"linecolor\":\"#EBF0F8\",\"ticks\":\"\"},\"bgcolor\":\"white\",\"radialaxis\":{\"gridcolor\":\"#EBF0F8\",\"linecolor\":\"#EBF0F8\",\"ticks\":\"\"}},\"scene\":{\"xaxis\":{\"backgroundcolor\":\"white\",\"gridcolor\":\"#DFE8F3\",\"gridwidth\":2,\"linecolor\":\"#EBF0F8\",\"showbackground\":true,\"ticks\":\"\",\"zerolinecolor\":\"#EBF0F8\"},\"yaxis\":{\"backgroundcolor\":\"white\",\"gridcolor\":\"#DFE8F3\",\"gridwidth\":2,\"linecolor\":\"#EBF0F8\",\"showbackground\":true,\"ticks\":\"\",\"zerolinecolor\":\"#EBF0F8\"},\"zaxis\":{\"backgroundcolor\":\"white\",\"gridcolor\":\"#DFE8F3\",\"gridwidth\":2,\"linecolor\":\"#EBF0F8\",\"showbackground\":true,\"ticks\":\"\",\"zerolinecolor\":\"#EBF0F8\"}},\"shapedefaults\":{\"line\":{\"color\":\"#2a3f5f\"}},\"ternary\":{\"aaxis\":{\"gridcolor\":\"#DFE8F3\",\"linecolor\":\"#A2B1C6\",\"ticks\":\"\"},\"baxis\":{\"gridcolor\":\"#DFE8F3\",\"linecolor\":\"#A2B1C6\",\"ticks\":\"\"},\"bgcolor\":\"white\",\"caxis\":{\"gridcolor\":\"#DFE8F3\",\"linecolor\":\"#A2B1C6\",\"ticks\":\"\"}},\"title\":{\"x\":0.05},\"xaxis\":{\"automargin\":true,\"gridcolor\":\"#EBF0F8\",\"linecolor\":\"#EBF0F8\",\"ticks\":\"\",\"title\":{\"standoff\":15},\"zerolinecolor\":\"#EBF0F8\",\"zerolinewidth\":2},\"yaxis\":{\"automargin\":true,\"gridcolor\":\"#EBF0F8\",\"linecolor\":\"#EBF0F8\",\"ticks\":\"\",\"title\":{\"standoff\":15},\"zerolinecolor\":\"#EBF0F8\",\"zerolinewidth\":2}}},\"xaxis\":{\"anchor\":\"y\",\"domain\":[0.0,1.0],\"title\":{\"text\":\"Vari\\u00e1vel\"},\"tickangle\":-45},\"yaxis\":{\"anchor\":\"x\",\"domain\":[0.0,1.0],\"title\":{\"text\":\"Acur\\u00e1cia (%)\"}},\"coloraxis\":{\"colorbar\":{\"title\":{\"text\":\"Acur\\u00e1cia (%)\"}},\"colorscale\":[[0.0,\"rgb(165,0,38)\"],[0.1,\"rgb(215,48,39)\"],[0.2,\"rgb(244,109,67)\"],[0.3,\"rgb(253,174,97)\"],[0.4,\"rgb(254,224,139)\"],[0.5,\"rgb(255,255,191)\"],[0.6,\"rgb(217,239,139)\"],[0.7,\"rgb(166,217,106)\"],[0.8,\"rgb(102,189,99)\"],[0.9,\"rgb(26,152,80)\"],[1.0,\"rgb(0,104,55)\"]],\"cmin\":0,\"cmax\":100},\"legend\":{\"tracegroupgap\":0},\"title\":{\"text\":\"Acur\\u00e1cia por Vari\\u00e1vel - Jo\\u00e3o Pessoa\"},\"barmode\":\"relative\",\"height\":500},                        {\"responsive\": true}                    ).then(function(){\n",
       "                            \n",
       "var gd = document.getElementById('a2b710a4-28bf-4468-ac20-3a155a33cd74');\n",
       "var x = new MutationObserver(function (mutations, observer) {{\n",
       "        var display = window.getComputedStyle(gd).display;\n",
       "        if (!display || display === 'none') {{\n",
       "            console.log([gd, 'removed!']);\n",
       "            Plotly.purge(gd);\n",
       "            observer.disconnect();\n",
       "        }}\n",
       "}});\n",
       "\n",
       "// Listen for the removal of the full notebook cells\n",
       "var notebookContainer = gd.closest('#notebook-container');\n",
       "if (notebookContainer) {{\n",
       "    x.observe(notebookContainer, {childList: true});\n",
       "}}\n",
       "\n",
       "// Listen for the clearing of the current output cell\n",
       "var outputEl = gd.closest('.output');\n",
       "if (outputEl) {{\n",
       "    x.observe(outputEl, {childList: true});\n",
       "}}\n",
       "\n",
       "                        })                };                });            </script>        </div>"
      ]
     },
     "metadata": {},
     "output_type": "display_data"
    },
    {
     "name": "stdout",
     "output_type": "stream",
     "text": [
      "✅ Visualização de acurácia gerada!\n"
     ]
    }
   ],
   "source": [
    "# =====================================================\n",
    "# 7. VENDO ACURÁCIA\n",
    "# =====================================================\n",
    "\n",
    "def avaliar_acuracia_completa(sistema, df):\n",
    "    \"\"\"Avalia acurácia detalhada de todos os modelos\"\"\"\n",
    "    \n",
    "    X, df_cidade = sistema.preparar_dados(df)\n",
    "    \n",
    "    if X is None:\n",
    "        print(\"⚠️ Sem dados para avaliar\")\n",
    "        return\n",
    "    \n",
    "    print(f\"\\n{'='*70}\")\n",
    "    print(f\"📊 ACURÁCIA DOS MODELOS - {sistema.cidade}\")\n",
    "    print(f\"{'='*70}\\n\")\n",
    "    \n",
    "    resultados = []\n",
    "    \n",
    "    for variavel in sistema.variaveis:\n",
    "        if variavel not in df_cidade.columns or variavel not in sistema.modelos:\n",
    "            continue\n",
    "        \n",
    "        # Preparar dados\n",
    "        y = df_cidade[variavel].values\n",
    "        X_train, X_test, y_train, y_test = train_test_split(\n",
    "            X, y, test_size=0.2, random_state=42\n",
    "        )\n",
    "        \n",
    "        # Normalizar\n",
    "        scaler = sistema.scalers[variavel]\n",
    "        X_train_scaled = scaler.transform(X_train)\n",
    "        X_test_scaled = scaler.transform(X_test)\n",
    "        \n",
    "        # Calcular score (R²)\n",
    "        modelo = sistema.modelos[variavel]\n",
    "        r2_train = modelo.score(X_train_scaled, y_train)\n",
    "        r2_test = modelo.score(X_test_scaled, y_test)\n",
    "        \n",
    "        # Converter para porcentagem de acurácia\n",
    "        acuracia_train = r2_train * 100\n",
    "        acuracia_test = r2_test * 100\n",
    "        \n",
    "        # Calcular erro médio absoluto\n",
    "        y_pred = modelo.predict(X_test_scaled)\n",
    "        mae = np.mean(np.abs(y_test - y_pred))\n",
    "        \n",
    "        resultados.append({\n",
    "            'Variável': variavel,\n",
    "            'R² Treino': r2_train,\n",
    "            'R² Teste': r2_test,\n",
    "            'Acurácia Treino (%)': acuracia_train,\n",
    "            'Acurácia Teste (%)': acuracia_test,\n",
    "            'Erro Médio': mae\n",
    "        })\n",
    "        \n",
    "        # Exibir\n",
    "        print(f\"📈 {variavel}\")\n",
    "        print(f\"   ├─ R² Treino:        {r2_train:.4f}  ({acuracia_train:.2f}%)\")\n",
    "        print(f\"   ├─ R² Teste:         {r2_test:.4f}  ({acuracia_test:.2f}%)\")\n",
    "        print(f\"   └─ Erro Médio (MAE): {mae:.2f}\\n\")\n",
    "    \n",
    "    # Resumo geral\n",
    "    df_resultados = pd.DataFrame(resultados)\n",
    "    acuracia_media = df_resultados['Acurácia Teste (%)'].mean()\n",
    "    \n",
    "    print(f\"{'='*70}\")\n",
    "    print(f\"🎯 ACURÁCIA MÉDIA GERAL: {acuracia_media:.2f}%\")\n",
    "    print(f\"{'='*70}\\n\")\n",
    "    \n",
    "    # Classificação da qualidade do modelo\n",
    "    if acuracia_media >= 80:\n",
    "        qualidade = \"🏆 EXCELENTE\"\n",
    "    elif acuracia_media >= 60:\n",
    "        qualidade = \"✅ BOAS\"\n",
    "    elif acuracia_media >= 40:\n",
    "        qualidade = \"⚠️  RAZOÁVEIS\"\n",
    "    else:\n",
    "        qualidade = \"❌ FRACAS\"\n",
    "    \n",
    "    print(f\"Qualidade das Previsões: {qualidade}\\n\")\n",
    "    \n",
    "    return df_resultados\n",
    "\n",
    "\n",
    "def comparar_numpy_vs_sklearn(df, cidade='João Pessoa'):\n",
    "    \"\"\"Compara acurácia entre NumPy puro e scikit-learn\"\"\"\n",
    "    \n",
    "    print(f\"\\n{'='*70}\")\n",
    "    print(f\"⚔️  NUMPY vs SCIKIT-LEARN - Comparação de Acurácia\")\n",
    "    print(f\"{'='*70}\\n\")\n",
    "    \n",
    "    # Sistema NumPy\n",
    "    sistema_np = PrevisaoClimatica(cidade=cidade)\n",
    "    X, df_cidade = sistema_np.preparar_dados(df)\n",
    "    \n",
    "    if X is None:\n",
    "        return\n",
    "    \n",
    "    comparacoes = []\n",
    "    \n",
    "    for variavel in sistema_np.variaveis:\n",
    "        if variavel not in df_cidade.columns:\n",
    "            continue\n",
    "        \n",
    "        y = df_cidade[variavel].values\n",
    "        X_train, X_test, y_train, y_test = train_test_split(\n",
    "            X, y, test_size=0.2, random_state=42\n",
    "        )\n",
    "        \n",
    "        # NumPy\n",
    "        modelo_np, scaler_np, r2_np, rmse_np = sistema_np.treinar_numpy(X, y, variavel)\n",
    "        acuracia_np = r2_np * 100\n",
    "        \n",
    "        # Sklearn\n",
    "        modelo_sk, scaler_sk, r2_sk, rmse_sk = sistema_np.treinar_sklearn(X, y, variavel)\n",
    "        acuracia_sk = r2_sk * 100\n",
    "        \n",
    "        comparacoes.append({\n",
    "            'Variável': variavel,\n",
    "            'NumPy (%)': acuracia_np,\n",
    "            'Sklearn (%)': acuracia_sk,\n",
    "            'Diferença': abs(acuracia_np - acuracia_sk)\n",
    "        })\n",
    "        \n",
    "        print(f\"📊 {variavel}\")\n",
    "        print(f\"   ├─ NumPy:    {acuracia_np:6.2f}%  (RMSE: {rmse_np:.2f})\")\n",
    "        print(f\"   ├─ Sklearn:  {acuracia_sk:6.2f}%  (RMSE: {rmse_sk:.2f})\")\n",
    "        print(f\"   └─ Diferença: {abs(acuracia_np - acuracia_sk):.4f}%\\n\")\n",
    "    \n",
    "    df_comp = pd.DataFrame(comparacoes)\n",
    "    diff_media = df_comp['Diferença'].mean()\n",
    "    \n",
    "    print(f\"{'='*70}\")\n",
    "    print(f\"📌 Diferença média entre métodos: {diff_media:.4f}%\")\n",
    "    print(f\"✅ Resultado: Ambos produzem resultados praticamente idênticos!\")\n",
    "    print(f\"{'='*70}\\n\")\n",
    "    \n",
    "    return df_comp\n",
    "\n",
    "\n",
    "# =====================================================\n",
    "# EXECUTAR AVALIAÇÃO DE ACURÁCIA\n",
    "# =====================================================\n",
    "\n",
    "print(\"\\n🔍 AVALIANDO ACURÁCIA DOS MODELOS...\\n\")\n",
    "\n",
    "# Avaliar sistema sklearn já treinado\n",
    "resultados_acuracia = avaliar_acuracia_completa(sistema_sklearn, df)\n",
    "\n",
    "# Comparar NumPy vs Sklearn\n",
    "comparacao = comparar_numpy_vs_sklearn(df, cidade='João Pessoa')\n",
    "\n",
    "# Visualizar resultados\n",
    "if resultados_acuracia is not None:\n",
    "    fig_acuracia = px.bar(\n",
    "        resultados_acuracia,\n",
    "        x='Variável',\n",
    "        y='Acurácia Teste (%)',\n",
    "        title=f'Acurácia por Variável - {sistema_sklearn.cidade}',\n",
    "        labels={'Acurácia Teste (%)': 'Acurácia (%)'},\n",
    "        color='Acurácia Teste (%)',\n",
    "        color_continuous_scale='RdYlGn',\n",
    "        range_color=[0, 100]\n",
    "    )\n",
    "    fig_acuracia.update_layout(\n",
    "        xaxis_tickangle=-45,\n",
    "        template='plotly_white',\n",
    "        height=500\n",
    "    )\n",
    "    fig_acuracia.show()\n",
    "    \n",
    "    print(\"✅ Visualização de acurácia gerada!\")"
   ]
  },
  {
   "cell_type": "code",
   "execution_count": 76,
   "id": "d0ad12ca-4ad7-44ec-91ca-b8512e661485",
   "metadata": {},
   "outputs": [
    {
     "name": "stdout",
     "output_type": "stream",
     "text": [
      "\n",
      "╔════════════════════════════════════════════════════════════════════╗\n",
      "║           🎯 COMO ALCANÇAR 90%+ DE ACURÁCIA                        ║\n",
      "╚════════════════════════════════════════════════════════════════════╝\n",
      "\n",
      "1. ✅ USAR MODELOS AVANÇADOS (feito acima)\n",
      "   • Random Forest, XGBoost, Gradient Boosting\n",
      "   • Ensemble/Stacking de múltiplos modelos\n",
      "\n",
      "2. ✅ FEATURES TEMPORAIS (feito acima)\n",
      "   • Valores dos dias anteriores (lags)\n",
      "   • Médias móveis (tendências)\n",
      "   • Variações e estatísticas\n",
      "\n",
      "3. 📊 ADICIONAR MAIS DADOS EXTERNOS\n",
      "   • Dados de estações meteorológicas próximas\n",
      "   • Índices climáticos (El Niño, La Niña)\n",
      "   • Pressão atmosférica, ponto de orvalho\n",
      "   • Dados de satélite, radar\n",
      "\n",
      "4. 🧠 DEEP LEARNING (para 95%+)\n",
      "   • LSTM (Long Short-Term Memory)\n",
      "   • GRU (Gated Recurrent Units)\n",
      "   • Transformers para séries temporais\n",
      "\n",
      "5. ⚙️ HIPERPARÂMETROS\n",
      "   • Grid Search ou Optuna para otimizar\n",
      "   • Cross-validation temporal\n",
      "\n",
      "6. 📍 MODELOS POR REGIÃO\n",
      "   • Treinar modelo específico para cada cidade\n",
      "   • Considerar topografia e proximidade do mar\n",
      "\n",
      "7. ⏰ DADOS HORÁRIOS (não diários)\n",
      "   • Usar dados de hora em hora\n",
      "   • Maior granularidade = melhor previsão\n",
      "\n",
      "NOTA: Precipitação é SEMPRE difícil de prever!\n",
      "      Mesmo modelos profissionais têm ~60-70% de acurácia.\n",
      "      Foque em temperatura (mais previsível).\n",
      "\n",
      "\n",
      "🚀 INICIANDO TREINAMENTO DE MODELOS AVANÇADOS...\n",
      "\n",
      "\n",
      "======================================================================\n",
      "⚔️  COMPARAÇÃO: LINEAR vs MODELOS AVANÇADOS\n",
      "======================================================================\n",
      "\n",
      "\n",
      "============================================================\n",
      "🎯 Treinando modelos para João Pessoa\n",
      "============================================================\n",
      "\n",
      "Método: scikit-learn\n",
      "\n",
      "✓ Temp Média (°C)           | R² = 0.7464 | RMSE = 0.69\n",
      "✓ Temp Máx (°C)             | R² = 0.6390 | RMSE = 1.11\n",
      "✓ Temp Mín (°C)             | R² = 0.7084 | RMSE = 0.65\n",
      "✓ Umidade (%)               | R² = 0.5890 | RMSE = 4.55\n",
      "✓ Precipitação (mm)         | R² = 0.0950 | RMSE = 5.63\n",
      "✓ Vento (km/h)              | R² = 0.2578 | RMSE = 2.24\n",
      "\n",
      "============================================================\n",
      "\n",
      "✨ Features criadas: 67 features\n",
      "📊 Dados disponíveis: 7277 registros\n",
      "\n",
      "======================================================================\n",
      "🚀 TREINANDO MODELOS AVANÇADOS - João Pessoa\n",
      "======================================================================\n",
      "\n",
      "   🔄 Treinando Temp Média (°C)... "
     ]
    },
    {
     "ename": "KeyboardInterrupt",
     "evalue": "",
     "output_type": "error",
     "traceback": [
      "\u001b[31m---------------------------------------------------------------------------\u001b[39m",
      "\u001b[31mKeyboardInterrupt\u001b[39m                         Traceback (most recent call last)",
      "\u001b[36mCell\u001b[39m\u001b[36m \u001b[39m\u001b[32mIn[76]\u001b[39m\u001b[32m, line 326\u001b[39m\n\u001b[32m    323\u001b[39m \u001b[38;5;28mprint\u001b[39m(\u001b[33m\"\u001b[39m\u001b[38;5;130;01m\\n\u001b[39;00m\u001b[33m🚀 INICIANDO TREINAMENTO DE MODELOS AVANÇADOS...\u001b[39m\u001b[38;5;130;01m\\n\u001b[39;00m\u001b[33m\"\u001b[39m)\n\u001b[32m    325\u001b[39m \u001b[38;5;66;03m# Treinar e comparar\u001b[39;00m\n\u001b[32m--> \u001b[39m\u001b[32m326\u001b[39m comparacao_final = \u001b[43mcomparar_modelos_simples_vs_avancados\u001b[49m\u001b[43m(\u001b[49m\u001b[43mdf\u001b[49m\u001b[43m,\u001b[49m\u001b[43m \u001b[49m\u001b[43mcidade\u001b[49m\u001b[43m=\u001b[49m\u001b[33;43m'\u001b[39;49m\u001b[33;43mJoão Pessoa\u001b[39;49m\u001b[33;43m'\u001b[39;49m\u001b[43m)\u001b[49m\n",
      "\u001b[36mCell\u001b[39m\u001b[36m \u001b[39m\u001b[32mIn[76]\u001b[39m\u001b[32m, line 235\u001b[39m, in \u001b[36mcomparar_modelos_simples_vs_avancados\u001b[39m\u001b[34m(df, cidade)\u001b[39m\n\u001b[32m    233\u001b[39m \u001b[38;5;66;03m# Modelo avançado\u001b[39;00m\n\u001b[32m    234\u001b[39m sistema_avancado = PrevisaoClimaticaAvancada(cidade=cidade)\n\u001b[32m--> \u001b[39m\u001b[32m235\u001b[39m resultados_avancado = \u001b[43msistema_avancado\u001b[49m\u001b[43m.\u001b[49m\u001b[43mtreinar_todos_modelos_avancados\u001b[49m\u001b[43m(\u001b[49m\u001b[43mdf\u001b[49m\u001b[43m)\u001b[49m\n\u001b[32m    237\u001b[39m \u001b[38;5;66;03m# Comparar\u001b[39;00m\n\u001b[32m    238\u001b[39m \u001b[38;5;28mprint\u001b[39m(\u001b[33mf\u001b[39m\u001b[33m\"\u001b[39m\u001b[38;5;130;01m\\n\u001b[39;00m\u001b[38;5;132;01m{\u001b[39;00m\u001b[33m'\u001b[39m\u001b[33m=\u001b[39m\u001b[33m'\u001b[39m*\u001b[32m70\u001b[39m\u001b[38;5;132;01m}\u001b[39;00m\u001b[33m\"\u001b[39m)\n",
      "\u001b[36mCell\u001b[39m\u001b[36m \u001b[39m\u001b[32mIn[76]\u001b[39m\u001b[32m, line 182\u001b[39m, in \u001b[36mPrevisaoClimaticaAvancada.treinar_todos_modelos_avancados\u001b[39m\u001b[34m(self, df)\u001b[39m\n\u001b[32m    178\u001b[39m     \u001b[38;5;28;01mcontinue\u001b[39;00m\n\u001b[32m    180\u001b[39m y = df_cidade[variavel].values\n\u001b[32m--> \u001b[39m\u001b[32m182\u001b[39m modelo, scaler, r2_train, r2_test, rmse, mae = \u001b[38;5;28;43mself\u001b[39;49m\u001b[43m.\u001b[49m\u001b[43mtreinar_modelo_avancado\u001b[49m\u001b[43m(\u001b[49m\n\u001b[32m    183\u001b[39m \u001b[43m    \u001b[49m\u001b[43mX\u001b[49m\u001b[43m,\u001b[49m\u001b[43m \u001b[49m\u001b[43my\u001b[49m\u001b[43m,\u001b[49m\u001b[43m \u001b[49m\u001b[43mvariavel\u001b[49m\n\u001b[32m    184\u001b[39m \u001b[43m\u001b[49m\u001b[43m)\u001b[49m\n\u001b[32m    186\u001b[39m \u001b[38;5;28mself\u001b[39m.modelos[variavel] = modelo\n\u001b[32m    187\u001b[39m \u001b[38;5;28mself\u001b[39m.scalers[variavel] = scaler\n",
      "\u001b[36mCell\u001b[39m\u001b[36m \u001b[39m\u001b[32mIn[76]\u001b[39m\u001b[32m, line 148\u001b[39m, in \u001b[36mPrevisaoClimaticaAvancada.treinar_modelo_avancado\u001b[39m\u001b[34m(self, X, y, nome_variavel)\u001b[39m\n\u001b[32m    146\u001b[39m \u001b[38;5;66;03m# Treinar\u001b[39;00m\n\u001b[32m    147\u001b[39m \u001b[38;5;28mprint\u001b[39m(\u001b[33mf\u001b[39m\u001b[33m\"\u001b[39m\u001b[33m   🔄 Treinando \u001b[39m\u001b[38;5;132;01m{\u001b[39;00mnome_variavel\u001b[38;5;132;01m}\u001b[39;00m\u001b[33m...\u001b[39m\u001b[33m\"\u001b[39m, end=\u001b[33m'\u001b[39m\u001b[33m \u001b[39m\u001b[33m'\u001b[39m)\n\u001b[32m--> \u001b[39m\u001b[32m148\u001b[39m \u001b[43mmodelo\u001b[49m\u001b[43m.\u001b[49m\u001b[43mfit\u001b[49m\u001b[43m(\u001b[49m\u001b[43mX_train_scaled\u001b[49m\u001b[43m,\u001b[49m\u001b[43m \u001b[49m\u001b[43my_train\u001b[49m\u001b[43m)\u001b[49m\n\u001b[32m    149\u001b[39m \u001b[38;5;28mprint\u001b[39m(\u001b[33m\"\u001b[39m\u001b[33m✓\u001b[39m\u001b[33m\"\u001b[39m)\n\u001b[32m    151\u001b[39m \u001b[38;5;66;03m# Avaliar\u001b[39;00m\n",
      "\u001b[36mFile \u001b[39m\u001b[32m~\\anaconda3\\Lib\\site-packages\\sklearn\\ensemble\\_stacking.py:1043\u001b[39m, in \u001b[36mStackingRegressor.fit\u001b[39m\u001b[34m(self, X, y, **fit_params)\u001b[39m\n\u001b[32m   1039\u001b[39m _raise_for_params(fit_params, \u001b[38;5;28mself\u001b[39m, \u001b[33m\"\u001b[39m\u001b[33mfit\u001b[39m\u001b[33m\"\u001b[39m, allow=[\u001b[33m\"\u001b[39m\u001b[33msample_weight\u001b[39m\u001b[33m\"\u001b[39m])\n\u001b[32m   1041\u001b[39m y = column_or_1d(y, warn=\u001b[38;5;28;01mTrue\u001b[39;00m)\n\u001b[32m-> \u001b[39m\u001b[32m1043\u001b[39m \u001b[38;5;28;01mreturn\u001b[39;00m \u001b[38;5;28;43msuper\u001b[39;49m\u001b[43m(\u001b[49m\u001b[43m)\u001b[49m\u001b[43m.\u001b[49m\u001b[43mfit\u001b[49m\u001b[43m(\u001b[49m\u001b[43mX\u001b[49m\u001b[43m,\u001b[49m\u001b[43m \u001b[49m\u001b[43my\u001b[49m\u001b[43m,\u001b[49m\u001b[43m \u001b[49m\u001b[43m*\u001b[49m\u001b[43m*\u001b[49m\u001b[43mfit_params\u001b[49m\u001b[43m)\u001b[49m\n",
      "\u001b[36mFile \u001b[39m\u001b[32m~\\anaconda3\\Lib\\site-packages\\sklearn\\base.py:1365\u001b[39m, in \u001b[36m_fit_context.<locals>.decorator.<locals>.wrapper\u001b[39m\u001b[34m(estimator, *args, **kwargs)\u001b[39m\n\u001b[32m   1358\u001b[39m     estimator._validate_params()\n\u001b[32m   1360\u001b[39m \u001b[38;5;28;01mwith\u001b[39;00m config_context(\n\u001b[32m   1361\u001b[39m     skip_parameter_validation=(\n\u001b[32m   1362\u001b[39m         prefer_skip_nested_validation \u001b[38;5;129;01mor\u001b[39;00m global_skip_validation\n\u001b[32m   1363\u001b[39m     )\n\u001b[32m   1364\u001b[39m ):\n\u001b[32m-> \u001b[39m\u001b[32m1365\u001b[39m     \u001b[38;5;28;01mreturn\u001b[39;00m \u001b[43mfit_method\u001b[49m\u001b[43m(\u001b[49m\u001b[43mestimator\u001b[49m\u001b[43m,\u001b[49m\u001b[43m \u001b[49m\u001b[43m*\u001b[49m\u001b[43margs\u001b[49m\u001b[43m,\u001b[49m\u001b[43m \u001b[49m\u001b[43m*\u001b[49m\u001b[43m*\u001b[49m\u001b[43mkwargs\u001b[49m\u001b[43m)\u001b[49m\n",
      "\u001b[36mFile \u001b[39m\u001b[32m~\\anaconda3\\Lib\\site-packages\\sklearn\\ensemble\\_stacking.py:211\u001b[39m, in \u001b[36m_BaseStacking.fit\u001b[39m\u001b[34m(self, X, y, **fit_params)\u001b[39m\n\u001b[32m    206\u001b[39m             \u001b[38;5;28mself\u001b[39m.estimators_.append(estimator)\n\u001b[32m    207\u001b[39m \u001b[38;5;28;01melse\u001b[39;00m:\n\u001b[32m    208\u001b[39m     \u001b[38;5;66;03m# Fit the base estimators on the whole training data. Those\u001b[39;00m\n\u001b[32m    209\u001b[39m     \u001b[38;5;66;03m# base estimators will be used in transform, predict, and\u001b[39;00m\n\u001b[32m    210\u001b[39m     \u001b[38;5;66;03m# predict_proba. They are exposed publicly.\u001b[39;00m\n\u001b[32m--> \u001b[39m\u001b[32m211\u001b[39m     \u001b[38;5;28mself\u001b[39m.estimators_ = \u001b[43mParallel\u001b[49m\u001b[43m(\u001b[49m\u001b[43mn_jobs\u001b[49m\u001b[43m=\u001b[49m\u001b[38;5;28;43mself\u001b[39;49m\u001b[43m.\u001b[49m\u001b[43mn_jobs\u001b[49m\u001b[43m)\u001b[49m\u001b[43m(\u001b[49m\n\u001b[32m    212\u001b[39m \u001b[43m        \u001b[49m\u001b[43mdelayed\u001b[49m\u001b[43m(\u001b[49m\u001b[43m_fit_single_estimator\u001b[49m\u001b[43m)\u001b[49m\u001b[43m(\u001b[49m\n\u001b[32m    213\u001b[39m \u001b[43m            \u001b[49m\u001b[43mclone\u001b[49m\u001b[43m(\u001b[49m\u001b[43mest\u001b[49m\u001b[43m)\u001b[49m\u001b[43m,\u001b[49m\u001b[43m \u001b[49m\u001b[43mX\u001b[49m\u001b[43m,\u001b[49m\u001b[43m \u001b[49m\u001b[43my\u001b[49m\u001b[43m,\u001b[49m\u001b[43m \u001b[49m\u001b[43mrouted_params\u001b[49m\u001b[43m[\u001b[49m\u001b[43mname\u001b[49m\u001b[43m]\u001b[49m\u001b[43m[\u001b[49m\u001b[33;43m\"\u001b[39;49m\u001b[33;43mfit\u001b[39;49m\u001b[33;43m\"\u001b[39;49m\u001b[43m]\u001b[49m\n\u001b[32m    214\u001b[39m \u001b[43m        \u001b[49m\u001b[43m)\u001b[49m\n\u001b[32m    215\u001b[39m \u001b[43m        \u001b[49m\u001b[38;5;28;43;01mfor\u001b[39;49;00m\u001b[43m \u001b[49m\u001b[43mname\u001b[49m\u001b[43m,\u001b[49m\u001b[43m \u001b[49m\u001b[43mest\u001b[49m\u001b[43m \u001b[49m\u001b[38;5;129;43;01min\u001b[39;49;00m\u001b[43m \u001b[49m\u001b[38;5;28;43mzip\u001b[39;49m\u001b[43m(\u001b[49m\u001b[43mnames\u001b[49m\u001b[43m,\u001b[49m\u001b[43m \u001b[49m\u001b[43mall_estimators\u001b[49m\u001b[43m)\u001b[49m\n\u001b[32m    216\u001b[39m \u001b[43m        \u001b[49m\u001b[38;5;28;43;01mif\u001b[39;49;00m\u001b[43m \u001b[49m\u001b[43mest\u001b[49m\u001b[43m \u001b[49m\u001b[43m!=\u001b[49m\u001b[43m \u001b[49m\u001b[33;43m\"\u001b[39;49m\u001b[33;43mdrop\u001b[39;49m\u001b[33;43m\"\u001b[39;49m\n\u001b[32m    217\u001b[39m \u001b[43m    \u001b[49m\u001b[43m)\u001b[49m\n\u001b[32m    219\u001b[39m \u001b[38;5;28mself\u001b[39m.named_estimators_ = Bunch()\n\u001b[32m    220\u001b[39m est_fitted_idx = \u001b[32m0\u001b[39m\n",
      "\u001b[36mFile \u001b[39m\u001b[32m~\\anaconda3\\Lib\\site-packages\\sklearn\\utils\\parallel.py:82\u001b[39m, in \u001b[36mParallel.__call__\u001b[39m\u001b[34m(self, iterable)\u001b[39m\n\u001b[32m     73\u001b[39m warning_filters = warnings.filters\n\u001b[32m     74\u001b[39m iterable_with_config_and_warning_filters = (\n\u001b[32m     75\u001b[39m     (\n\u001b[32m     76\u001b[39m         _with_config_and_warning_filters(delayed_func, config, warning_filters),\n\u001b[32m   (...)\u001b[39m\u001b[32m     80\u001b[39m     \u001b[38;5;28;01mfor\u001b[39;00m delayed_func, args, kwargs \u001b[38;5;129;01min\u001b[39;00m iterable\n\u001b[32m     81\u001b[39m )\n\u001b[32m---> \u001b[39m\u001b[32m82\u001b[39m \u001b[38;5;28;01mreturn\u001b[39;00m \u001b[38;5;28;43msuper\u001b[39;49m\u001b[43m(\u001b[49m\u001b[43m)\u001b[49m\u001b[43m.\u001b[49m\u001b[34;43m__call__\u001b[39;49m\u001b[43m(\u001b[49m\u001b[43miterable_with_config_and_warning_filters\u001b[49m\u001b[43m)\u001b[49m\n",
      "\u001b[36mFile \u001b[39m\u001b[32m~\\anaconda3\\Lib\\site-packages\\joblib\\parallel.py:2072\u001b[39m, in \u001b[36mParallel.__call__\u001b[39m\u001b[34m(self, iterable)\u001b[39m\n\u001b[32m   2066\u001b[39m \u001b[38;5;66;03m# The first item from the output is blank, but it makes the interpreter\u001b[39;00m\n\u001b[32m   2067\u001b[39m \u001b[38;5;66;03m# progress until it enters the Try/Except block of the generator and\u001b[39;00m\n\u001b[32m   2068\u001b[39m \u001b[38;5;66;03m# reaches the first `yield` statement. This starts the asynchronous\u001b[39;00m\n\u001b[32m   2069\u001b[39m \u001b[38;5;66;03m# dispatch of the tasks to the workers.\u001b[39;00m\n\u001b[32m   2070\u001b[39m \u001b[38;5;28mnext\u001b[39m(output)\n\u001b[32m-> \u001b[39m\u001b[32m2072\u001b[39m \u001b[38;5;28;01mreturn\u001b[39;00m output \u001b[38;5;28;01mif\u001b[39;00m \u001b[38;5;28mself\u001b[39m.return_generator \u001b[38;5;28;01melse\u001b[39;00m \u001b[38;5;28;43mlist\u001b[39;49m\u001b[43m(\u001b[49m\u001b[43moutput\u001b[49m\u001b[43m)\u001b[49m\n",
      "\u001b[36mFile \u001b[39m\u001b[32m~\\anaconda3\\Lib\\site-packages\\joblib\\parallel.py:1682\u001b[39m, in \u001b[36mParallel._get_outputs\u001b[39m\u001b[34m(self, iterator, pre_dispatch)\u001b[39m\n\u001b[32m   1679\u001b[39m     \u001b[38;5;28;01myield\u001b[39;00m\n\u001b[32m   1681\u001b[39m     \u001b[38;5;28;01mwith\u001b[39;00m \u001b[38;5;28mself\u001b[39m._backend.retrieval_context():\n\u001b[32m-> \u001b[39m\u001b[32m1682\u001b[39m         \u001b[38;5;28;01myield from\u001b[39;00m \u001b[38;5;28mself\u001b[39m._retrieve()\n\u001b[32m   1684\u001b[39m \u001b[38;5;28;01mexcept\u001b[39;00m \u001b[38;5;167;01mGeneratorExit\u001b[39;00m:\n\u001b[32m   1685\u001b[39m     \u001b[38;5;66;03m# The generator has been garbage collected before being fully\u001b[39;00m\n\u001b[32m   1686\u001b[39m     \u001b[38;5;66;03m# consumed. This aborts the remaining tasks if possible and warn\u001b[39;00m\n\u001b[32m   1687\u001b[39m     \u001b[38;5;66;03m# the user if necessary.\u001b[39;00m\n\u001b[32m   1688\u001b[39m     \u001b[38;5;28mself\u001b[39m._exception = \u001b[38;5;28;01mTrue\u001b[39;00m\n",
      "\u001b[36mFile \u001b[39m\u001b[32m~\\anaconda3\\Lib\\site-packages\\joblib\\parallel.py:1800\u001b[39m, in \u001b[36mParallel._retrieve\u001b[39m\u001b[34m(self)\u001b[39m\n\u001b[32m   1789\u001b[39m \u001b[38;5;28;01mif\u001b[39;00m \u001b[38;5;28mself\u001b[39m.return_ordered:\n\u001b[32m   1790\u001b[39m     \u001b[38;5;66;03m# Case ordered: wait for completion (or error) of the next job\u001b[39;00m\n\u001b[32m   1791\u001b[39m     \u001b[38;5;66;03m# that have been dispatched and not retrieved yet. If no job\u001b[39;00m\n\u001b[32m   (...)\u001b[39m\u001b[32m   1795\u001b[39m     \u001b[38;5;66;03m# control only have to be done on the amount of time the next\u001b[39;00m\n\u001b[32m   1796\u001b[39m     \u001b[38;5;66;03m# dispatched job is pending.\u001b[39;00m\n\u001b[32m   1797\u001b[39m     \u001b[38;5;28;01mif\u001b[39;00m (nb_jobs == \u001b[32m0\u001b[39m) \u001b[38;5;129;01mor\u001b[39;00m (\n\u001b[32m   1798\u001b[39m         \u001b[38;5;28mself\u001b[39m._jobs[\u001b[32m0\u001b[39m].get_status(timeout=\u001b[38;5;28mself\u001b[39m.timeout) == TASK_PENDING\n\u001b[32m   1799\u001b[39m     ):\n\u001b[32m-> \u001b[39m\u001b[32m1800\u001b[39m         \u001b[43mtime\u001b[49m\u001b[43m.\u001b[49m\u001b[43msleep\u001b[49m\u001b[43m(\u001b[49m\u001b[32;43m0.01\u001b[39;49m\u001b[43m)\u001b[49m\n\u001b[32m   1801\u001b[39m         \u001b[38;5;28;01mcontinue\u001b[39;00m\n\u001b[32m   1803\u001b[39m \u001b[38;5;28;01melif\u001b[39;00m nb_jobs == \u001b[32m0\u001b[39m:\n\u001b[32m   1804\u001b[39m     \u001b[38;5;66;03m# Case unordered: jobs are added to the list of jobs to\u001b[39;00m\n\u001b[32m   1805\u001b[39m     \u001b[38;5;66;03m# retrieve `self._jobs` only once completed or in error, which\u001b[39;00m\n\u001b[32m   (...)\u001b[39m\u001b[32m   1811\u001b[39m     \u001b[38;5;66;03m# timeouts before any other dispatched job has completed and\u001b[39;00m\n\u001b[32m   1812\u001b[39m     \u001b[38;5;66;03m# been added to `self._jobs` to be retrieved.\u001b[39;00m\n",
      "\u001b[31mKeyboardInterrupt\u001b[39m: "
     ]
    }
   ],
   "source": [
    "# =====================================================\n",
    "# 8. AUMENTANDO ACURÁCIA - MODELOS AVANÇADOS\n",
    "# =====================================================\n",
    "\n",
    "from sklearn.ensemble import RandomForestRegressor, GradientBoostingRegressor\n",
    "from sklearn.ensemble import VotingRegressor, StackingRegressor\n",
    "from sklearn.preprocessing import PolynomialFeatures\n",
    "from sklearn.pipeline import Pipeline\n",
    "import xgboost as xgb  # pip install xgboost\n",
    "\n",
    "class PrevisaoClimaticaAvancada:\n",
    "    \"\"\"Sistema avançado com múltiplos modelos para alta acurácia\"\"\"\n",
    "    \n",
    "    def __init__(self, cidade='João Pessoa'):\n",
    "        self.cidade = cidade\n",
    "        self.modelos = {}\n",
    "        self.scalers = {}\n",
    "        self.variaveis = [\n",
    "            'Temp Média (°C)', \n",
    "            'Temp Máx (°C)', \n",
    "            'Temp Mín (°C)',\n",
    "            'Umidade (%)', \n",
    "            'Precipitação (mm)', \n",
    "            'Vento (km/h)'\n",
    "        ]\n",
    "    \n",
    "    def criar_features_avancadas(self, df):\n",
    "        \"\"\"Cria features mais complexas para melhor previsão\"\"\"\n",
    "        df_cidade = df[df['Cidade'] == self.cidade].copy()\n",
    "        \n",
    "        if len(df_cidade) == 0:\n",
    "            return None, None\n",
    "        \n",
    "        # Ordenar por data\n",
    "        df_cidade = df_cidade.sort_values('Data').reset_index(drop=True)\n",
    "        \n",
    "        # Features temporais básicas (já existentes)\n",
    "        features_base = ['Dia', 'Mes', 'Mes_sin', 'Mes_cos', 'Dia_sin', 'Dia_cos', 'DiaDoAno']\n",
    "        \n",
    "        # 1. LAG FEATURES (valores dos dias anteriores)\n",
    "        for var in self.variaveis:\n",
    "            if var in df_cidade.columns:\n",
    "                df_cidade[f'{var}_lag1'] = df_cidade[var].shift(1)  # Ontem\n",
    "                df_cidade[f'{var}_lag7'] = df_cidade[var].shift(7)  # Semana passada\n",
    "                df_cidade[f'{var}_lag30'] = df_cidade[var].shift(30)  # Mês passado\n",
    "        \n",
    "        # 2. MÉDIAS MÓVEIS (tendências)\n",
    "        for var in self.variaveis:\n",
    "            if var in df_cidade.columns:\n",
    "                df_cidade[f'{var}_ma7'] = df_cidade[var].rolling(window=7, min_periods=1).mean()\n",
    "                df_cidade[f'{var}_ma30'] = df_cidade[var].rolling(window=30, min_periods=1).mean()\n",
    "        \n",
    "        # 3. VARIAÇÕES (mudanças recentes)\n",
    "        for var in self.variaveis:\n",
    "            if var in df_cidade.columns:\n",
    "                df_cidade[f'{var}_diff1'] = df_cidade[var].diff(1)  # Mudança de ontem\n",
    "                df_cidade[f'{var}_diff7'] = df_cidade[var].diff(7)  # Mudança semanal\n",
    "        \n",
    "        # 4. ESTATÍSTICAS DA SEMANA\n",
    "        for var in self.variaveis:\n",
    "            if var in df_cidade.columns:\n",
    "                df_cidade[f'{var}_std7'] = df_cidade[var].rolling(window=7, min_periods=1).std()\n",
    "                df_cidade[f'{var}_max7'] = df_cidade[var].rolling(window=7, min_periods=1).max()\n",
    "                df_cidade[f'{var}_min7'] = df_cidade[var].rolling(window=7, min_periods=1).min()\n",
    "        \n",
    "        # 5. FEATURES SAZONAIS ADICIONAIS\n",
    "        df_cidade['Trimestre'] = df_cidade['Mes'].apply(lambda x: (x-1)//3 + 1)\n",
    "        df_cidade['Estacao'] = df_cidade['Mes'].apply(lambda x: \n",
    "            1 if x in [12,1,2] else  # Verão\n",
    "            2 if x in [3,4,5] else   # Outono\n",
    "            3 if x in [6,7,8] else   # Inverno\n",
    "            4)                        # Primavera\n",
    "        \n",
    "        df_cidade['FimDeSemana'] = df_cidade['Data'].dt.dayofweek.isin([5,6]).astype(int)\n",
    "        df_cidade['DiaSemana'] = df_cidade['Data'].dt.dayofweek\n",
    "        \n",
    "        # Remover NaN gerados pelos lags\n",
    "        df_cidade = df_cidade.dropna()\n",
    "        \n",
    "        # Selecionar todas as features\n",
    "        feature_cols = [col for col in df_cidade.columns \n",
    "                       if col not in self.variaveis + ['Cidade', 'Data', 'Latitude', 'Longitude']\n",
    "                       and not col.startswith('Vai') and not col.startswith('Dia')]\n",
    "        \n",
    "        X = df_cidade[feature_cols].values\n",
    "        \n",
    "        print(f\"✨ Features criadas: {len(feature_cols)} features\")\n",
    "        print(f\"📊 Dados disponíveis: {len(df_cidade)} registros\")\n",
    "        \n",
    "        return X, df_cidade\n",
    "    \n",
    "    def treinar_modelo_avancado(self, X, y, nome_variavel):\n",
    "        \"\"\"Treina ensemble de modelos avançados\"\"\"\n",
    "        \n",
    "        # Dividir dados\n",
    "        X_train, X_test, y_train, y_test = train_test_split(\n",
    "            X, y, test_size=0.2, random_state=42, shuffle=False  # Não embaralhar dados temporais\n",
    "        )\n",
    "        \n",
    "        # Normalizar\n",
    "        scaler = StandardScaler()\n",
    "        X_train_scaled = scaler.fit_transform(X_train)\n",
    "        X_test_scaled = scaler.transform(X_test)\n",
    "        \n",
    "        # ESTRATÉGIA: Usar modelos diferentes para variáveis diferentes\n",
    "        \n",
    "        if 'Precipitação' in nome_variavel or 'Vento' in nome_variavel:\n",
    "            # Para variáveis aleatórias/difíceis: XGBoost + Random Forest\n",
    "            modelo = VotingRegressor([\n",
    "                ('xgb', xgb.XGBRegressor(\n",
    "                    n_estimators=300,\n",
    "                    max_depth=8,\n",
    "                    learning_rate=0.05,\n",
    "                    subsample=0.8,\n",
    "                    random_state=42,\n",
    "                    n_jobs=-1\n",
    "                )),\n",
    "                ('rf', RandomForestRegressor(\n",
    "                    n_estimators=300,\n",
    "                    max_depth=15,\n",
    "                    min_samples_split=5,\n",
    "                    random_state=42,\n",
    "                    n_jobs=-1\n",
    "                )),\n",
    "                ('gb', GradientBoostingRegressor(\n",
    "                    n_estimators=300,\n",
    "                    max_depth=8,\n",
    "                    learning_rate=0.05,\n",
    "                    random_state=42\n",
    "                ))\n",
    "            ])\n",
    "        else:\n",
    "            # Para temperatura/umidade: Stack de modelos\n",
    "            base_models = [\n",
    "                ('rf', RandomForestRegressor(n_estimators=200, max_depth=20, random_state=42, n_jobs=-1)),\n",
    "                ('xgb', xgb.XGBRegressor(n_estimators=200, max_depth=10, learning_rate=0.05, random_state=42, n_jobs=-1)),\n",
    "                ('gb', GradientBoostingRegressor(n_estimators=200, max_depth=10, learning_rate=0.05, random_state=42))\n",
    "            ]\n",
    "            \n",
    "            modelo = StackingRegressor(\n",
    "                estimators=base_models,\n",
    "                final_estimator=xgb.XGBRegressor(n_estimators=100, max_depth=5, random_state=42),\n",
    "                n_jobs=-1\n",
    "            )\n",
    "        \n",
    "        # Treinar\n",
    "        print(f\"   🔄 Treinando {nome_variavel}...\", end=' ')\n",
    "        modelo.fit(X_train_scaled, y_train)\n",
    "        print(\"✓\")\n",
    "        \n",
    "        # Avaliar\n",
    "        y_pred_train = modelo.predict(X_train_scaled)\n",
    "        y_pred_test = modelo.predict(X_test_scaled)\n",
    "        \n",
    "        r2_train = r2_score(y_train, y_pred_train)\n",
    "        r2_test = r2_score(y_test, y_pred_test)\n",
    "        rmse_test = np.sqrt(mean_squared_error(y_test, y_pred_test))\n",
    "        mae_test = np.mean(np.abs(y_test - y_pred_test))\n",
    "        \n",
    "        return modelo, scaler, r2_train, r2_test, rmse_test, mae_test\n",
    "    \n",
    "    def treinar_todos_modelos_avancados(self, df):\n",
    "        \"\"\"Treina modelos avançados para todas as variáveis\"\"\"\n",
    "        \n",
    "        X, df_cidade = self.criar_features_avancadas(df)\n",
    "        \n",
    "        if X is None:\n",
    "            return\n",
    "        \n",
    "        print(f\"\\n{'='*70}\")\n",
    "        print(f\"🚀 TREINANDO MODELOS AVANÇADOS - {self.cidade}\")\n",
    "        print(f\"{'='*70}\\n\")\n",
    "        \n",
    "        resultados = []\n",
    "        \n",
    "        for variavel in self.variaveis:\n",
    "            if variavel not in df_cidade.columns:\n",
    "                continue\n",
    "            \n",
    "            y = df_cidade[variavel].values\n",
    "            \n",
    "            modelo, scaler, r2_train, r2_test, rmse, mae = self.treinar_modelo_avancado(\n",
    "                X, y, variavel\n",
    "            )\n",
    "            \n",
    "            self.modelos[variavel] = modelo\n",
    "            self.scalers[variavel] = scaler\n",
    "            \n",
    "            acuracia_train = r2_train * 100\n",
    "            acuracia_test = r2_test * 100\n",
    "            \n",
    "            resultados.append({\n",
    "                'Variável': variavel,\n",
    "                'Acurácia Treino (%)': acuracia_train,\n",
    "                'Acurácia Teste (%)': acuracia_test,\n",
    "                'RMSE': rmse,\n",
    "                'MAE': mae\n",
    "            })\n",
    "            \n",
    "            print(f\"   📈 {variavel:25} | Treino: {acuracia_train:6.2f}% | Teste: {acuracia_test:6.2f}% | MAE: {mae:.2f}\")\n",
    "        \n",
    "        df_resultados = pd.DataFrame(resultados)\n",
    "        acuracia_media = df_resultados['Acurácia Teste (%)'].mean()\n",
    "        \n",
    "        print(f\"\\n{'='*70}\")\n",
    "        print(f\"🎯 ACURÁCIA MÉDIA GERAL: {acuracia_media:.2f}%\")\n",
    "        \n",
    "        if acuracia_media >= 90:\n",
    "            print(f\"🏆 EXCELENTE - Meta atingida!\")\n",
    "        elif acuracia_media >= 80:\n",
    "            print(f\"✅ MUITO BOM - Próximo da meta!\")\n",
    "        elif acuracia_media >= 70:\n",
    "            print(f\"👍 BOM - Melhorou bastante!\")\n",
    "        else:\n",
    "            print(f\"⚠️  Em progresso...\")\n",
    "        \n",
    "        print(f\"{'='*70}\\n\")\n",
    "        \n",
    "        return df_resultados\n",
    "\n",
    "\n",
    "def comparar_modelos_simples_vs_avancados(df, cidade='João Pessoa'):\n",
    "    \"\"\"Compara modelo simples (Linear) vs avançado (Ensemble)\"\"\"\n",
    "    \n",
    "    print(f\"\\n{'='*70}\")\n",
    "    print(f\"⚔️  COMPARAÇÃO: LINEAR vs MODELOS AVANÇADOS\")\n",
    "    print(f\"{'='*70}\\n\")\n",
    "    \n",
    "    # Modelo simples (já treinado)\n",
    "    sistema_simples = PrevisaoClimatica(cidade=cidade)\n",
    "    sistema_simples.treinar_todos_modelos(df, usar_numpy=False)\n",
    "    \n",
    "    # Modelo avançado\n",
    "    sistema_avancado = PrevisaoClimaticaAvancada(cidade=cidade)\n",
    "    resultados_avancado = sistema_avancado.treinar_todos_modelos_avancados(df)\n",
    "    \n",
    "    # Comparar\n",
    "    print(f\"\\n{'='*70}\")\n",
    "    print(f\"📊 COMPARAÇÃO FINAL\")\n",
    "    print(f\"{'='*70}\\n\")\n",
    "    \n",
    "    X_simples, df_simples = sistema_simples.preparar_dados(df)\n",
    "    \n",
    "    for variavel in sistema_simples.variaveis:\n",
    "        if variavel not in sistema_simples.modelos:\n",
    "            continue\n",
    "        \n",
    "        # Acurácia modelo simples\n",
    "        y = df_simples[variavel].values\n",
    "        X_train, X_test, y_train, y_test = train_test_split(\n",
    "            X_simples, y, test_size=0.2, random_state=42\n",
    "        )\n",
    "        scaler = sistema_simples.scalers[variavel]\n",
    "        X_test_scaled = scaler.transform(X_test)\n",
    "        modelo_simples = sistema_simples.modelos[variavel]\n",
    "        r2_simples = modelo_simples.score(X_test_scaled, y_test) * 100\n",
    "        \n",
    "        # Acurácia modelo avançado\n",
    "        resultado_avc = resultados_avancado[resultados_avancado['Variável'] == variavel]\n",
    "        if len(resultado_avc) > 0:\n",
    "            r2_avancado = resultado_avc['Acurácia Teste (%)'].values[0]\n",
    "            melhoria = r2_avancado - r2_simples\n",
    "            \n",
    "            emoji = \"📈\" if melhoria > 0 else \"📉\"\n",
    "            print(f\"{emoji} {variavel}\")\n",
    "            print(f\"   ├─ Linear:    {r2_simples:6.2f}%\")\n",
    "            print(f\"   ├─ Avançado:  {r2_avancado:6.2f}%\")\n",
    "            print(f\"   └─ Ganho:     {melhoria:+6.2f}%\\n\")\n",
    "    \n",
    "    print(f\"{'='*70}\\n\")\n",
    "\n",
    "\n",
    "# =====================================================\n",
    "# DICAS EXTRAS PARA 90%+ DE ACURÁCIA\n",
    "# =====================================================\n",
    "\n",
    "print(\"\"\"\n",
    "╔════════════════════════════════════════════════════════════════════╗\n",
    "║           🎯 COMO ALCANÇAR 90%+ DE ACURÁCIA                        ║\n",
    "╚════════════════════════════════════════════════════════════════════╝\n",
    "\n",
    "1. ✅ USAR MODELOS AVANÇADOS (feito acima)\n",
    "   • Random Forest, XGBoost, Gradient Boosting\n",
    "   • Ensemble/Stacking de múltiplos modelos\n",
    "   \n",
    "2. ✅ FEATURES TEMPORAIS (feito acima)\n",
    "   • Valores dos dias anteriores (lags)\n",
    "   • Médias móveis (tendências)\n",
    "   • Variações e estatísticas\n",
    "\n",
    "3. 📊 ADICIONAR MAIS DADOS EXTERNOS\n",
    "   • Dados de estações meteorológicas próximas\n",
    "   • Índices climáticos (El Niño, La Niña)\n",
    "   • Pressão atmosférica, ponto de orvalho\n",
    "   • Dados de satélite, radar\n",
    "\n",
    "4. 🧠 DEEP LEARNING (para 95%+)\n",
    "   • LSTM (Long Short-Term Memory)\n",
    "   • GRU (Gated Recurrent Units)\n",
    "   • Transformers para séries temporais\n",
    "   \n",
    "5. ⚙️ HIPERPARÂMETROS\n",
    "   • Grid Search ou Optuna para otimizar\n",
    "   • Cross-validation temporal\n",
    "\n",
    "6. 📍 MODELOS POR REGIÃO\n",
    "   • Treinar modelo específico para cada cidade\n",
    "   • Considerar topografia e proximidade do mar\n",
    "\n",
    "7. ⏰ DADOS HORÁRIOS (não diários)\n",
    "   • Usar dados de hora em hora\n",
    "   • Maior granularidade = melhor previsão\n",
    "\n",
    "NOTA: Precipitação é SEMPRE difícil de prever!\n",
    "      Mesmo modelos profissionais têm ~60-70% de acurácia.\n",
    "      Foque em temperatura (mais previsível).\n",
    "\"\"\")\n",
    "\n",
    "# =====================================================\n",
    "# EXECUTAR COMPARAÇÃO\n",
    "# =====================================================\n",
    "\n",
    "print(\"\\n🚀 INICIANDO TREINAMENTO DE MODELOS AVANÇADOS...\\n\")\n",
    "\n",
    "# Treinar e comparar\n",
    "comparacao_final = comparar_modelos_simples_vs_avancados(df, cidade='João Pessoa')"
   ]
  },
  {
   "cell_type": "code",
   "execution_count": 77,
   "id": "b52e1f2e-14ab-45d0-8f39-b4b29431657e",
   "metadata": {},
   "outputs": [],
   "source": [
    "# =====================================================\n",
    "# 8. MODELO AVANÇADO CORRIGIDO\n",
    "# =====================================================\n",
    "\n",
    "class PrevisaoClimaticaAvancada:\n",
    "    \"\"\"Sistema avançado com múltiplos modelos para alta acurácia\"\"\"\n",
    "    \n",
    "    def __init__(self, cidade='João Pessoa'):\n",
    "        self.cidade = cidade\n",
    "        self.modelos = {}\n",
    "        self.scalers = {}\n",
    "        self.feature_names = None  # ✅ ADICIONAR ISSO\n",
    "        self.variaveis = [\n",
    "            'Temp Média (°C)', \n",
    "            'Temp Máx (°C)', \n",
    "            'Temp Mín (°C)',\n",
    "            'Umidade (%)', \n",
    "            'Precipitação (mm)', \n",
    "            'Vento (km/h)'\n",
    "        ]\n",
    "    \n",
    "    def criar_features_avancadas(self, df):\n",
    "        \"\"\"Cria features mais complexas para melhor previsão\"\"\"\n",
    "        df_cidade = df[df['Cidade'] == self.cidade].copy()\n",
    "        \n",
    "        if len(df_cidade) == 0:\n",
    "            return None, None\n",
    "        \n",
    "        # Ordenar por data\n",
    "        df_cidade = df_cidade.sort_values('Data').reset_index(drop=True)\n",
    "        \n",
    "        # Features temporais básicas (já existentes)\n",
    "        features_base = ['Dia', 'Mes', 'Mes_sin', 'Mes_cos', 'Dia_sin', 'Dia_cos', 'DiaDoAno']\n",
    "        \n",
    "        # 1. LAG FEATURES (valores dos dias anteriores)\n",
    "        for var in self.variaveis:\n",
    "            if var in df_cidade.columns:\n",
    "                df_cidade[f'{var}_lag1'] = df_cidade[var].shift(1)\n",
    "                df_cidade[f'{var}_lag7'] = df_cidade[var].shift(7)\n",
    "                df_cidade[f'{var}_lag30'] = df_cidade[var].shift(30)\n",
    "        \n",
    "        # 2. MÉDIAS MÓVEIS (tendências)\n",
    "        for var in self.variaveis:\n",
    "            if var in df_cidade.columns:\n",
    "                df_cidade[f'{var}_ma7'] = df_cidade[var].rolling(window=7, min_periods=1).mean()\n",
    "                df_cidade[f'{var}_ma30'] = df_cidade[var].rolling(window=30, min_periods=1).mean()\n",
    "        \n",
    "        # 3. VARIAÇÕES (mudanças recentes)\n",
    "        for var in self.variaveis:\n",
    "            if var in df_cidade.columns:\n",
    "                df_cidade[f'{var}_diff1'] = df_cidade[var].diff(1)\n",
    "                df_cidade[f'{var}_diff7'] = df_cidade[var].diff(7)\n",
    "        \n",
    "        # 4. ESTATÍSTICAS DA SEMANA\n",
    "        for var in self.variaveis:\n",
    "            if var in df_cidade.columns:\n",
    "                df_cidade[f'{var}_std7'] = df_cidade[var].rolling(window=7, min_periods=1).std()\n",
    "                df_cidade[f'{var}_max7'] = df_cidade[var].rolling(window=7, min_periods=1).max()\n",
    "                df_cidade[f'{var}_min7'] = df_cidade[var].rolling(window=7, min_periods=1).min()\n",
    "        \n",
    "        # 5. FEATURES SAZONAIS ADICIONAIS\n",
    "        df_cidade['Trimestre'] = df_cidade['Mes'].apply(lambda x: (x-1)//3 + 1)\n",
    "        df_cidade['Estacao'] = df_cidade['Mes'].apply(lambda x: \n",
    "            1 if x in [12,1,2] else\n",
    "            2 if x in [3,4,5] else\n",
    "            3 if x in [6,7,8] else\n",
    "            4)\n",
    "        \n",
    "        df_cidade['FimDeSemana'] = df_cidade['Data'].dt.dayofweek.isin([5,6]).astype(int)\n",
    "        df_cidade['DiaSemana'] = df_cidade['Data'].dt.dayofweek\n",
    "        \n",
    "        # Remover NaN gerados pelos lags\n",
    "        df_cidade = df_cidade.dropna()\n",
    "        \n",
    "        # Selecionar todas as features\n",
    "        feature_cols = [col for col in df_cidade.columns \n",
    "                       if col not in self.variaveis + ['Cidade', 'Data', 'Latitude', 'Longitude']\n",
    "                       and not col.startswith('Vai') and not col.startswith('Dia')]\n",
    "        \n",
    "        # ✅ SALVAR OS NOMES DAS FEATURES\n",
    "        self.feature_names = sorted(feature_cols)\n",
    "        \n",
    "        X = df_cidade[self.feature_names].values\n",
    "        \n",
    "        print(f\"✨ Features criadas: {len(self.feature_names)} features\")\n",
    "        print(f\"📊 Dados disponíveis: {len(df_cidade)} registros (de {len(df[df['Cidade']==self.cidade])} total da cidade)\")\n",
    "        \n",
    "        return X, df_cidade\n",
    "    \n",
    "    # ... resto do código igual ...\n",
    "    \n",
    "    def treinar_modelo_avancado(self, X, y, nome_variavel):\n",
    "        \"\"\"Treina ensemble de modelos avançados\"\"\"\n",
    "        \n",
    "        # Dividir dados\n",
    "        X_train, X_test, y_train, y_test = train_test_split(\n",
    "            X, y, test_size=0.2, random_state=42, shuffle=False\n",
    "        )\n",
    "        \n",
    "        # Normalizar\n",
    "        scaler = StandardScaler()\n",
    "        X_train_scaled = scaler.fit_transform(X_train)\n",
    "        X_test_scaled = scaler.transform(X_test)\n",
    "        \n",
    "        # ESTRATÉGIA: Usar modelos diferentes para variáveis diferentes\n",
    "        if 'Precipitação' in nome_variavel or 'Vento' in nome_variavel:\n",
    "            modelo = VotingRegressor([\n",
    "                ('xgb', xgb.XGBRegressor(\n",
    "                    n_estimators=300,\n",
    "                    max_depth=8,\n",
    "                    learning_rate=0.05,\n",
    "                    subsample=0.8,\n",
    "                    random_state=42,\n",
    "                    n_jobs=-1\n",
    "                )),\n",
    "                ('rf', RandomForestRegressor(\n",
    "                    n_estimators=300,\n",
    "                    max_depth=15,\n",
    "                    min_samples_split=5,\n",
    "                    random_state=42,\n",
    "                    n_jobs=-1\n",
    "                )),\n",
    "                ('gb', GradientBoostingRegressor(\n",
    "                    n_estimators=300,\n",
    "                    max_depth=8,\n",
    "                    learning_rate=0.05,\n",
    "                    random_state=42\n",
    "                ))\n",
    "            ])\n",
    "        else:\n",
    "            base_models = [\n",
    "                ('rf', RandomForestRegressor(n_estimators=200, max_depth=20, random_state=42, n_jobs=-1)),\n",
    "                ('xgb', xgb.XGBRegressor(n_estimators=200, max_depth=10, learning_rate=0.05, random_state=42, n_jobs=-1)),\n",
    "                ('gb', GradientBoostingRegressor(n_estimators=200, max_depth=10, learning_rate=0.05, random_state=42))\n",
    "            ]\n",
    "            \n",
    "            modelo = StackingRegressor(\n",
    "                estimators=base_models,\n",
    "                final_estimator=xgb.XGBRegressor(n_estimators=100, max_depth=5, random_state=42),\n",
    "                n_jobs=-1\n",
    "            )\n",
    "        \n",
    "        # Treinar\n",
    "        print(f\"   🔄 Treinando {nome_variavel}...\", end=' ')\n",
    "        modelo.fit(X_train_scaled, y_train)\n",
    "        print(\"✓\")\n",
    "        \n",
    "        # Avaliar\n",
    "        y_pred_train = modelo.predict(X_train_scaled)\n",
    "        y_pred_test = modelo.predict(X_test_scaled)\n",
    "        \n",
    "        r2_train = r2_score(y_train, y_pred_train)\n",
    "        r2_test = r2_score(y_test, y_pred_test)\n",
    "        rmse_test = np.sqrt(mean_squared_error(y_test, y_pred_test))\n",
    "        mae_test = np.mean(np.abs(y_test - y_pred_test))\n",
    "        \n",
    "        return modelo, scaler, r2_train, r2_test, rmse_test, mae_test\n",
    "    \n",
    "    def treinar_todos_modelos_avancados(self, df):\n",
    "        \"\"\"Treina modelos avançados para todas as variáveis\"\"\"\n",
    "        \n",
    "        X, df_cidade = self.criar_features_avancadas(df)\n",
    "        \n",
    "        if X is None:\n",
    "            return\n",
    "        \n",
    "        print(f\"\\n{'='*70}\")\n",
    "        print(f\"🚀 TREINANDO MODELOS AVANÇADOS - {self.cidade}\")\n",
    "        print(f\"{'='*70}\\n\")\n",
    "        \n",
    "        resultados = []\n",
    "        \n",
    "        for variavel in self.variaveis:\n",
    "            if variavel not in df_cidade.columns:\n",
    "                continue\n",
    "                \n",
    "            y = df_cidade[variavel].values\n",
    "            \n",
    "            modelo, scaler, r2_train, r2_test, rmse, mae = self.treinar_modelo_avancado(\n",
    "                X, y, variavel\n",
    "            )\n",
    "            \n",
    "            self.modelos[variavel] = modelo\n",
    "            self.scalers[variavel] = scaler\n",
    "            \n",
    "            acuracia_train = r2_train * 100\n",
    "            acuracia_test = r2_test * 100\n",
    "            \n",
    "            resultados.append({\n",
    "                'Variável': variavel,\n",
    "                'Acurácia Treino (%)': acuracia_train,\n",
    "                'Acurácia Teste (%)': acuracia_test,\n",
    "                'RMSE': rmse,\n",
    "                'MAE': mae\n",
    "            })\n",
    "            \n",
    "            print(f\"   📈 {variavel:25} | Treino: {acuracia_train:6.2f}% | Teste: {acuracia_test:6.2f}% | MAE: {mae:.2f}\")\n",
    "        \n",
    "        df_resultados = pd.DataFrame(resultados)\n",
    "        acuracia_media = df_resultados['Acurácia Teste (%)'].mean()\n",
    "        \n",
    "        print(f\"\\n{'='*70}\")\n",
    "        print(f\"🎯 ACURÁCIA MÉDIA GERAL: {acuracia_media:.2f}%\")\n",
    "        \n",
    "        if acuracia_media >= 90:\n",
    "            print(f\"🏆 EXCELENTE - Meta atingida!\")\n",
    "        elif acuracia_media >= 80:\n",
    "            print(f\"✅ MUITO BOM - Próximo da meta!\")\n",
    "        elif acuracia_media >= 70:\n",
    "            print(f\"👍 BOM - Melhorou bastante!\")\n",
    "        else:\n",
    "            print(f\"⚠️  Em progresso...\")\n",
    "        \n",
    "        print(f\"{'='*70}\\n\")\n",
    "        \n",
    "        return df_resultados\n",
    "\n",
    "\n",
    "# =====================================================\n",
    "# 9. CLASSE DE TESTE CORRIGIDA\n",
    "# =====================================================\n",
    "\n",
    "class PrevisaoTeste:\n",
    "    \"\"\"Classe para testar previsões com modelo avançado\"\"\"\n",
    "    \n",
    "    def __init__(self, sistema_avancado, df_original):\n",
    "        self.sistema = sistema_avancado\n",
    "        self.df_original = df_original\n",
    "        self.df_cidade = df_original[df_original['Cidade'] == sistema_avancado.cidade].copy()\n",
    "        self.df_cidade = self.df_cidade.sort_values('Data').reset_index(drop=True)\n",
    "    \n",
    "    def calcular_features_para_data(self, data_alvo):\n",
    "        \"\"\"Calcula features necessárias para uma data específica\"\"\"\n",
    "        \n",
    "        data_alvo = pd.to_datetime(data_alvo)\n",
    "        \n",
    "        # Verificar se a data existe nos dados\n",
    "        if data_alvo in self.df_cidade['Data'].values:\n",
    "            idx = self.df_cidade[self.df_cidade['Data'] == data_alvo].index[0]\n",
    "            \n",
    "            if idx < 30:\n",
    "                print(f\"⚠️  Não há dados suficientes antes de {data_alvo.date()}\")\n",
    "                return None\n",
    "            \n",
    "            df_historico = self.df_cidade.iloc[:idx+1].copy()\n",
    "            \n",
    "        else:\n",
    "            print(f\"📅 Data {data_alvo.date()} está no futuro\")\n",
    "            print(f\"   Usando padrão sazonal dos últimos 365 dias...\")\n",
    "            \n",
    "            # Usar último ano completo de dados\n",
    "            df_historico = self.df_cidade.tail(365).copy()\n",
    "        \n",
    "        # ✅ CRIAR FEATURES EXATAMENTE COMO NO TREINAMENTO\n",
    "        ultima_linha = df_historico.iloc[-1]\n",
    "        \n",
    "        # Dicionário para armazenar todas as features\n",
    "        features = {}\n",
    "        \n",
    "        # 1. Features temporais básicas\n",
    "        features['Ano'] = data_alvo.year\n",
    "        features['Mes'] = data_alvo.month\n",
    "        features['Dia'] = data_alvo.day\n",
    "        features['DiaDoAno'] = data_alvo.dayofyear\n",
    "        features['Mes_sin'] = np.sin(2 * np.pi * data_alvo.month / 12)\n",
    "        features['Mes_cos'] = np.cos(2 * np.pi * data_alvo.month / 12)\n",
    "        features['Dia_sin'] = np.sin(2 * np.pi * data_alvo.day / 31)\n",
    "        features['Dia_cos'] = np.cos(2 * np.pi * data_alvo.day / 31)\n",
    "        \n",
    "        # 2. Lag features\n",
    "        for var in self.sistema.variaveis:\n",
    "            if var in df_historico.columns:\n",
    "                features[f'{var}_lag1'] = df_historico[var].iloc[-1]\n",
    "                features[f'{var}_lag7'] = df_historico[var].iloc[-7] if len(df_historico) >= 7 else df_historico[var].iloc[-1]\n",
    "                features[f'{var}_lag30'] = df_historico[var].iloc[-30] if len(df_historico) >= 30 else df_historico[var].iloc[0]\n",
    "        \n",
    "        # 3. Médias móveis\n",
    "        for var in self.sistema.variaveis:\n",
    "            if var in df_historico.columns:\n",
    "                features[f'{var}_ma7'] = df_historico[var].tail(7).mean()\n",
    "                features[f'{var}_ma30'] = df_historico[var].tail(min(30, len(df_historico))).mean()\n",
    "        \n",
    "        # 4. Variações\n",
    "        for var in self.sistema.variaveis:\n",
    "            if var in df_historico.columns:\n",
    "                features[f'{var}_diff1'] = df_historico[var].iloc[-1] - df_historico[var].iloc[-2] if len(df_historico) >= 2 else 0\n",
    "                features[f'{var}_diff7'] = df_historico[var].iloc[-1] - df_historico[var].iloc[-7] if len(df_historico) >= 7 else 0\n",
    "        \n",
    "        # 5. Estatísticas\n",
    "        for var in self.sistema.variaveis:\n",
    "            if var in df_historico.columns:\n",
    "                features[f'{var}_std7'] = df_historico[var].tail(7).std()\n",
    "                features[f'{var}_max7'] = df_historico[var].tail(7).max()\n",
    "                features[f'{var}_min7'] = df_historico[var].tail(7).min()\n",
    "        \n",
    "        # 6. Features sazonais\n",
    "        features['Trimestre'] = (data_alvo.month - 1) // 3 + 1\n",
    "        features['Estacao'] = 1 if data_alvo.month in [12,1,2] else 2 if data_alvo.month in [3,4,5] else 3 if data_alvo.month in [6,7,8] else 4\n",
    "        features['FimDeSemana'] = 1 if data_alvo.dayofweek in [5,6] else 0\n",
    "        features['DiaSemana'] = data_alvo.dayofweek\n",
    "        \n",
    "        return features\n",
    "    \n",
    "    def prever_data(self, data_alvo):\n",
    "        \"\"\"Faz previsão para uma data específica\"\"\"\n",
    "        \n",
    "        features_dict = self.calcular_features_para_data(data_alvo)\n",
    "        \n",
    "        if features_dict is None:\n",
    "            return None\n",
    "        \n",
    "        # ✅ USAR OS NOMES DAS FEATURES SALVOS NO TREINAMENTO\n",
    "        if self.sistema.feature_names is None:\n",
    "            print(\"❌ Modelo não foi treinado corretamente!\")\n",
    "            return None\n",
    "        \n",
    "        # Criar array com features na ordem correta\n",
    "        X_novo = np.array([[features_dict.get(name, 0) for name in self.sistema.feature_names]])\n",
    "        \n",
    "        previsoes = {}\n",
    "        \n",
    "        for variavel, modelo in self.sistema.modelos.items():\n",
    "            scaler = self.sistema.scalers[variavel]\n",
    "            X_scaled = scaler.transform(X_novo)\n",
    "            previsao = modelo.predict(X_scaled)[0]\n",
    "            previsoes[variavel] = previsao\n",
    "        \n",
    "        return previsoes\n",
    "    \n",
    "    # ... resto dos métodos igual (classificar_previsao, relatorio_previsao, etc) ...\n",
    "    \n",
    "    def classificar_previsao(self, previsoes):\n",
    "        \"\"\"Classifica as previsões\"\"\"\n",
    "        classificacao = {\n",
    "            '🌧️ Vai chover?': 'Sim ☔' if previsoes.get('Precipitação (mm)', 0) > 1 else 'Não ☀️',\n",
    "            '🔥 Dia quente?': 'Sim 🥵' if previsoes.get('Temp Máx (°C)', 0) > 30 else 'Não 😊',\n",
    "            '❄️ Dia frio?': 'Sim 🥶' if previsoes.get('Temp Mín (°C)', 100) < 15 else 'Não 😊',\n",
    "            '💧 Dia úmido?': 'Sim 💦' if previsoes.get('Umidade (%)', 0) > 70 else 'Não 👍',\n",
    "            '💨 Dia ventoso?': 'Sim 🌬️' if previsoes.get('Vento (km/h)', 0) > 20 else 'Não 🍃',\n",
    "        }\n",
    "        \n",
    "        temp_media = previsoes.get('Temp Média (°C)', 0)\n",
    "        umidade = previsoes.get('Umidade (%)', 0)\n",
    "        chuva = previsoes.get('Precipitação (mm)', 0)\n",
    "        \n",
    "        confortavel = (20 <= temp_media <= 28) and (40 <= umidade <= 70) and (chuva < 5)\n",
    "        classificacao['😊 Dia confortável?'] = 'Sim 🎉' if confortavel else 'Não 😐'\n",
    "        \n",
    "        return classificacao\n",
    "    \n",
    "    def relatorio_previsao(self, data_alvo):\n",
    "        \"\"\"Gera relatório completo para uma data\"\"\"\n",
    "        \n",
    "        data_alvo = pd.to_datetime(data_alvo)\n",
    "        \n",
    "        meses = ['', 'janeiro', 'fevereiro', 'março', 'abril', 'maio', 'junho',\n",
    "                 'julho', 'agosto', 'setembro', 'outubro', 'novembro', 'dezembro']\n",
    "        \n",
    "        dias_semana = ['Segunda', 'Terça', 'Quarta', 'Quinta', 'Sexta', 'Sábado', 'Domingo']\n",
    "        \n",
    "        print(f\"\\n{'='*70}\")\n",
    "        print(f\"📅 PREVISÃO PARA {data_alvo.day} DE {meses[data_alvo.month].upper()} DE {data_alvo.year}\")\n",
    "        print(f\"📍 {self.sistema.cidade}\")\n",
    "        print(f\"📆 {dias_semana[data_alvo.dayofweek]}\")\n",
    "        print(f\"{'='*70}\\n\")\n",
    "        \n",
    "        previsoes = self.prever_data(data_alvo)\n",
    "        \n",
    "        if previsoes is None:\n",
    "            print(\"❌ Não foi possível fazer a previsão\")\n",
    "            return\n",
    "        \n",
    "        print(\"🌡️  VARIÁVEIS METEOROLÓGICAS PREVISTAS:\")\n",
    "        print(\"-\" * 70)\n",
    "        \n",
    "        emojis = {\n",
    "            'Temp Média (°C)': '🌡️',\n",
    "            'Temp Máx (°C)': '🔥',\n",
    "            'Temp Mín (°C)': '❄️',\n",
    "            'Umidade (%)': '💧',\n",
    "            'Precipitação (mm)': '🌧️',\n",
    "            'Vento (km/h)': '💨'\n",
    "        }\n",
    "        \n",
    "        for variavel, valor in previsoes.items():\n",
    "            emoji = emojis.get(variavel, '📊')\n",
    "            unidade = variavel.split('(')[1].split(')')[0] if '(' in variavel else ''\n",
    "            nome = variavel.split('(')[0].strip()\n",
    "            print(f\"{emoji}  {nome:20} : {valor:7.2f} {unidade}\")\n",
    "        \n",
    "        print(f\"\\n{'='*70}\\n\")\n",
    "        print(\"🎯 COMO SERÁ O DIA:\")\n",
    "        print(\"-\" * 70)\n",
    "        \n",
    "        classificacao = self.classificar_previsao(previsoes)\n",
    "        for condicao, resultado in classificacao.items():\n",
    "            print(f\"{condicao:25} {resultado}\")\n",
    "        \n",
    "        print(f\"\\n{'='*70}\\n\")\n",
    "    \n",
    "    def testar_multiplas_datas(self, datas_lista):\n",
    "        \"\"\"Testa múltiplas datas de uma vez\"\"\"\n",
    "        \n",
    "        print(f\"\\n{'='*70}\")\n",
    "        print(f\"🔮 TESTANDO MÚLTIPLAS DATAS - {self.sistema.cidade}\")\n",
    "        print(f\"{'='*70}\\n\")\n",
    "        \n",
    "        resultados = []\n",
    "        \n",
    "        for data in datas_lista:\n",
    "            data_obj = pd.to_datetime(data)\n",
    "            previsoes = self.prever_data(data_obj)\n",
    "            \n",
    "            if previsoes:\n",
    "                classificacao = self.classificar_previsao(previsoes)\n",
    "                \n",
    "                resultados.append({\n",
    "                    'Data': data_obj.strftime('%d/%m/%Y'),\n",
    "                    'Temp Média': f\"{previsoes['Temp Média (°C)']:.1f}°C\",\n",
    "                    'Chuva': f\"{previsoes['Precipitação (mm)']:.1f}mm\",\n",
    "                    'Umidade': f\"{previsoes['Umidade (%)']:.0f}%\",\n",
    "                    'Vai Chover?': '☔' if 'Sim' in classificacao['🌧️ Vai chover?'] else '☀️',\n",
    "                    'Confortável?': '😊' if 'Sim' in classificacao['😊 Dia confortável?'] else '😐'\n",
    "                })\n",
    "        \n",
    "        df_resultado = pd.DataFrame(resultados)\n",
    "        print(df_resultado.to_string(index=False))\n",
    "        print(f\"\\n{'='*70}\\n\")\n",
    "        \n",
    "        return df_resultado"
   ]
  },
  {
   "cell_type": "code",
   "execution_count": 78,
   "id": "a3d9e160-ee78-4b4f-9249-cf29e0ad68ab",
   "metadata": {},
   "outputs": [
    {
     "name": "stdout",
     "output_type": "stream",
     "text": [
      "✨ Features criadas: 67 features\n",
      "📊 Dados disponíveis: 7277 registros (de 7307 total da cidade)\n",
      "\n",
      "======================================================================\n",
      "🚀 TREINANDO MODELOS AVANÇADOS - João Pessoa\n",
      "======================================================================\n",
      "\n",
      "✓  🔄 Treinando Temp Média (°C)... \n",
      "   📈 Temp Média (°C)           | Treino:  99.97% | Teste:  99.67% | MAE: 0.04\n",
      "✓  🔄 Treinando Temp Máx (°C)... \n",
      "   📈 Temp Máx (°C)             | Treino:  99.93% | Teste:  99.54% | MAE: 0.08\n",
      "✓  🔄 Treinando Temp Mín (°C)... \n",
      "   📈 Temp Mín (°C)             | Treino:  99.91% | Teste:  99.16% | MAE: 0.07\n",
      "✓  🔄 Treinando Umidade (%)... \n",
      "   📈 Umidade (%)               | Treino:  99.94% | Teste:  99.39% | MAE: 0.30\n",
      "✓  🔄 Treinando Precipitação (mm)... \n",
      "   📈 Precipitação (mm)         | Treino:  99.97% | Teste:  98.15% | MAE: 0.16\n",
      "✓  🔄 Treinando Vento (km/h)... \n",
      "   📈 Vento (km/h)              | Treino:  99.99% | Teste:  99.52% | MAE: 0.07\n",
      "\n",
      "======================================================================\n",
      "🎯 ACURÁCIA MÉDIA GERAL: 99.24%\n",
      "🏆 EXCELENTE - Meta atingida!\n",
      "======================================================================\n",
      "\n",
      "\n",
      "======================================================================\n",
      "📅 PREVISÃO PARA 3 DE OUTUBRO DE 2025\n",
      "📍 João Pessoa\n",
      "📆 Sexta\n",
      "======================================================================\n",
      "\n",
      "📅 Data 2025-10-03 está no futuro\n",
      "   Usando padrão sazonal dos últimos 365 dias...\n",
      "🌡️  VARIÁVEIS METEOROLÓGICAS PREVISTAS:\n",
      "----------------------------------------------------------------------\n",
      "🌡️  Temp Média           :   25.69 °C\n",
      "🔥  Temp Máx             :   29.03 °C\n",
      "❄️  Temp Mín             :   22.87 °C\n",
      "💧  Umidade              :   77.11 %\n",
      "🌧️  Precipitação         :    0.66 mm\n",
      "💨  Vento                :   16.13 km/h\n",
      "\n",
      "======================================================================\n",
      "\n",
      "🎯 COMO SERÁ O DIA:\n",
      "----------------------------------------------------------------------\n",
      "🌧️ Vai chover?            Não ☀️\n",
      "🔥 Dia quente?             Não 😊\n",
      "❄️ Dia frio?              Não 😊\n",
      "💧 Dia úmido?              Sim 💦\n",
      "💨 Dia ventoso?            Não 🍃\n",
      "😊 Dia confortável?        Não 😐\n",
      "\n",
      "======================================================================\n",
      "\n"
     ]
    }
   ],
   "source": [
    "# Retreinar com a versão corrigida\n",
    "sistema_avancado = PrevisaoClimaticaAvancada(cidade='João Pessoa')\n",
    "resultados = sistema_avancado.treinar_todos_modelos_avancados(df)\n",
    "\n",
    "# Testar\n",
    "sistema_teste = PrevisaoTeste(sistema_avancado, df)\n",
    "sistema_teste.relatorio_previsao('2025-10-03')\n"
   ]
  },
  {
   "cell_type": "code",
   "execution_count": 80,
   "id": "6ede8733-0f63-4b2c-ab96-8e29aa66bcef",
   "metadata": {},
   "outputs": [
    {
     "name": "stdout",
     "output_type": "stream",
     "text": [
      "\n",
      "💾 SALVANDO MODELO...\n",
      "✅ Modelo salvo em: modelo_clima_joao_pessoa.pkl\n",
      "📊 Tamanho do arquivo: 583.70 MB\n",
      "\n",
      "📂 CARREGANDO MODELO: modelo_clima_joao_pessoa.pkl...\n",
      "✅ Modelo carregado!\n",
      "   Cidade: João Pessoa\n",
      "   Treinado em: 2025-10-03 16:30:03\n",
      "   Features: 67\n"
     ]
    }
   ],
   "source": [
    "# =====================================================\n",
    "# 10. SALVAR MODELO PARA PRODUÇÃO\n",
    "# =====================================================\n",
    "import os\n",
    "import pickle\n",
    "import joblib\n",
    "from datetime import datetime\n",
    "\n",
    "def salvar_modelo(sistema_avancado, nome_arquivo='modelo_clima'):\n",
    "    \"\"\"Salva o modelo treinado para usar depois\"\"\"\n",
    "    \n",
    "    print(\"\\n💾 SALVANDO MODELO...\")\n",
    "    \n",
    "    # Criar dicionário com tudo que precisamos\n",
    "    modelo_completo = {\n",
    "        'modelos': sistema_avancado.modelos,\n",
    "        'scalers': sistema_avancado.scalers,\n",
    "        'feature_names': sistema_avancado.feature_names,\n",
    "        'variaveis': sistema_avancado.variaveis,\n",
    "        'cidade': sistema_avancado.cidade,\n",
    "        'data_treinamento': datetime.now().strftime('%Y-%m-%d %H:%M:%S')\n",
    "    }\n",
    "    \n",
    "    # Salvar com joblib (melhor para modelos sklearn)\n",
    "    joblib.dump(modelo_completo, f'{nome_arquivo}.pkl')\n",
    "    \n",
    "    print(f\"✅ Modelo salvo em: {nome_arquivo}.pkl\")\n",
    "    print(f\"📊 Tamanho do arquivo: {os.path.getsize(f'{nome_arquivo}.pkl') / 1024 / 1024:.2f} MB\")\n",
    "    \n",
    "    return f'{nome_arquivo}.pkl'\n",
    "\n",
    "\n",
    "def carregar_modelo(nome_arquivo='modelo_clima.pkl'):\n",
    "    \"\"\"Carrega o modelo salvo\"\"\"\n",
    "    \n",
    "    print(f\"\\n📂 CARREGANDO MODELO: {nome_arquivo}...\")\n",
    "    \n",
    "    modelo_completo = joblib.load(nome_arquivo)\n",
    "    \n",
    "    print(f\"✅ Modelo carregado!\")\n",
    "    print(f\"   Cidade: {modelo_completo['cidade']}\")\n",
    "    print(f\"   Treinado em: {modelo_completo['data_treinamento']}\")\n",
    "    print(f\"   Features: {len(modelo_completo['feature_names'])}\")\n",
    "    \n",
    "    return modelo_completo\n",
    "\n",
    "\n",
    "# Salvar o modelo treinado\n",
    "arquivo_modelo = salvar_modelo(sistema_avancado, 'modelo_clima_joao_pessoa')\n",
    "\n",
    "# Testar carregamento\n",
    "modelo_carregado = carregar_modelo('modelo_clima_joao_pessoa.pkl')"
   ]
  },
  {
   "cell_type": "code",
   "execution_count": null,
   "id": "cfc28393-38be-4278-97a8-5016594a5f9b",
   "metadata": {},
   "outputs": [],
   "source": []
  }
 ],
 "metadata": {
  "kernelspec": {
   "display_name": "Python 3 (ipykernel)",
   "language": "python",
   "name": "python3"
  },
  "language_info": {
   "codemirror_mode": {
    "name": "ipython",
    "version": 3
   },
   "file_extension": ".py",
   "mimetype": "text/x-python",
   "name": "python",
   "nbconvert_exporter": "python",
   "pygments_lexer": "ipython3",
   "version": "3.13.5"
  }
 },
 "nbformat": 4,
 "nbformat_minor": 5
}
